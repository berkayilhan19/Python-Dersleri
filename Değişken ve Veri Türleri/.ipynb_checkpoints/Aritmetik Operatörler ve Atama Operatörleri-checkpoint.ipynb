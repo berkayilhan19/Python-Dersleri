{
 "cells": [
  {
   "cell_type": "code",
   "execution_count": 1,
   "id": "96209df6",
   "metadata": {},
   "outputs": [
    {
     "ename": "SyntaxError",
     "evalue": "invalid syntax (199924383.py, line 1)",
     "output_type": "error",
     "traceback": [
      "\u001b[1;36m  Input \u001b[1;32mIn [1]\u001b[1;36m\u001b[0m\n\u001b[1;33m    Operatör\tİşlevi\tÖrnek Kullanım\u001b[0m\n\u001b[1;37m            \t^\u001b[0m\n\u001b[1;31mSyntaxError\u001b[0m\u001b[1;31m:\u001b[0m invalid syntax\n"
     ]
    }
   ],
   "source": [
    "Operatör\tİşlevi\tÖrnek Kullanım\n",
    "+\tToplama\tx + y\n",
    "-\tÇıkarma\tx - y\n",
    "*\tÇarpma\tx * y\n",
    "/\tBölme\tx / y\n",
    "%\tMod\tx % y\n",
    "**\tÜs\tx ** y\n",
    "//\tKök\tx // y"
   ]
  },
  {
   "cell_type": "code",
   "execution_count": 2,
   "id": "d02ea24a",
   "metadata": {},
   "outputs": [
    {
     "name": "stdout",
     "output_type": "stream",
     "text": [
      "5\n"
     ]
    }
   ],
   "source": [
    "x=5\n",
    "print(x)"
   ]
  },
  {
   "cell_type": "code",
   "execution_count": 3,
   "id": "13b5b406",
   "metadata": {},
   "outputs": [
    {
     "name": "stdout",
     "output_type": "stream",
     "text": [
      "20\n"
     ]
    }
   ],
   "source": [
    "x+=15\n",
    "print(x)"
   ]
  },
  {
   "cell_type": "code",
   "execution_count": 4,
   "id": "8beeb2eb",
   "metadata": {},
   "outputs": [
    {
     "name": "stdout",
     "output_type": "stream",
     "text": [
      "15\n"
     ]
    }
   ],
   "source": [
    "x-=5\n",
    "print(x)"
   ]
  },
  {
   "cell_type": "code",
   "execution_count": 5,
   "id": "c7c39c25",
   "metadata": {},
   "outputs": [
    {
     "name": "stdout",
     "output_type": "stream",
     "text": [
      "5\n"
     ]
    }
   ],
   "source": [
    "x-=10\n",
    "print(x)"
   ]
  },
  {
   "cell_type": "code",
   "execution_count": 6,
   "id": "d73739a4",
   "metadata": {},
   "outputs": [
    {
     "name": "stdout",
     "output_type": "stream",
     "text": [
      "30\n"
     ]
    }
   ],
   "source": [
    "x*=6\n",
    "print(x)"
   ]
  },
  {
   "cell_type": "code",
   "execution_count": 8,
   "id": "7afaedf5",
   "metadata": {},
   "outputs": [],
   "source": [
    "# /  % // ** # Kullanılan diğer operatörler"
   ]
  },
  {
   "cell_type": "code",
   "execution_count": 9,
   "id": "245cb381",
   "metadata": {},
   "outputs": [],
   "source": [
    "# Kıyaslama operatörleri"
   ]
  },
  {
   "cell_type": "code",
   "execution_count": 10,
   "id": "fe56ba99",
   "metadata": {},
   "outputs": [
    {
     "ename": "SyntaxError",
     "evalue": "invalid syntax (3930641404.py, line 1)",
     "output_type": "error",
     "traceback": [
      "\u001b[1;36m  Input \u001b[1;32mIn [10]\u001b[1;36m\u001b[0m\n\u001b[1;33m    ==\u001b[0m\n\u001b[1;37m    ^\u001b[0m\n\u001b[1;31mSyntaxError\u001b[0m\u001b[1;31m:\u001b[0m invalid syntax\n"
     ]
    }
   ],
   "source": [
    "==   \n",
    "!=\n",
    ">\n",
    "<\n",
    ">=\n",
    "<=\n"
   ]
  },
  {
   "cell_type": "code",
   "execution_count": 11,
   "id": "d8c83452",
   "metadata": {},
   "outputs": [],
   "source": [
    "#Mantıksal Operatörler"
   ]
  },
  {
   "cell_type": "code",
   "execution_count": 12,
   "id": "dfc4ccea",
   "metadata": {},
   "outputs": [],
   "source": [
    "# and or not\n"
   ]
  },
  {
   "cell_type": "code",
   "execution_count": 16,
   "id": "4cb9a543",
   "metadata": {},
   "outputs": [
    {
     "name": "stdout",
     "output_type": "stream",
     "text": [
      "False\n"
     ]
    }
   ],
   "source": [
    "x=25\n",
    "print(x<18 and x<46)"
   ]
  },
  {
   "cell_type": "code",
   "execution_count": 17,
   "id": "2b25c2c6",
   "metadata": {},
   "outputs": [
    {
     "name": "stdout",
     "output_type": "stream",
     "text": [
      "True\n"
     ]
    }
   ],
   "source": [
    "x=25\n",
    "print(x<18 or x<46)"
   ]
  },
  {
   "cell_type": "code",
   "execution_count": 20,
   "id": "3172aba8",
   "metadata": {},
   "outputs": [
    {
     "name": "stdout",
     "output_type": "stream",
     "text": [
      "False\n"
     ]
    }
   ],
   "source": [
    "x=25\n",
    "print(not(x<18 or x<46))"
   ]
  },
  {
   "cell_type": "code",
   "execution_count": 22,
   "id": "2dea6ae3",
   "metadata": {},
   "outputs": [
    {
     "name": "stdout",
     "output_type": "stream",
     "text": [
      "[1, 4, 3]\n"
     ]
    }
   ],
   "source": [
    "x = [1, 2, 3]\n",
    "y = x\n",
    "y[1] = 4\n",
    "print(x)"
   ]
  },
  {
   "cell_type": "code",
   "execution_count": 32,
   "id": "83c89de5",
   "metadata": {},
   "outputs": [
    {
     "name": "stdout",
     "output_type": "stream",
     "text": [
      "3\n",
      "6\n",
      "9\n"
     ]
    }
   ],
   "source": [
    " t =[1, 2, 3]\n",
    "    \n",
    "for i in range(len(t)):\n",
    "    #print(i)\n",
    "    print(t[i] * 3)"
   ]
  },
  {
   "cell_type": "code",
   "execution_count": 33,
   "id": "7101a184",
   "metadata": {},
   "outputs": [
    {
     "name": "stdout",
     "output_type": "stream",
     "text": [
      "x and y are not equal\n"
     ]
    }
   ],
   "source": [
    "x = \"Hello\"\n",
    "y = \"World\"\n",
    "\n",
    "if x == y:    \n",
    "       print(\"x and y are equal\")\n",
    "elif x != y:    \n",
    "       print(\"x and y are not equal\")"
   ]
  },
  {
   "cell_type": "code",
   "execution_count": 34,
   "id": "d0e74119",
   "metadata": {},
   "outputs": [
    {
     "name": "stdout",
     "output_type": "stream",
     "text": [
      "125\n"
     ]
    }
   ],
   "source": [
    "x = 5\n",
    "y = 3\n",
    "print(x ** y)"
   ]
  },
  {
   "cell_type": "code",
   "execution_count": null,
   "id": "a9d9cb90",
   "metadata": {},
   "outputs": [],
   "source": []
  }
 ],
 "metadata": {
  "kernelspec": {
   "display_name": "Python 3 (ipykernel)",
   "language": "python",
   "name": "python3"
  },
  "language_info": {
   "codemirror_mode": {
    "name": "ipython",
    "version": 3
   },
   "file_extension": ".py",
   "mimetype": "text/x-python",
   "name": "python",
   "nbconvert_exporter": "python",
   "pygments_lexer": "ipython3",
   "version": "3.9.12"
  }
 },
 "nbformat": 4,
 "nbformat_minor": 5
}
