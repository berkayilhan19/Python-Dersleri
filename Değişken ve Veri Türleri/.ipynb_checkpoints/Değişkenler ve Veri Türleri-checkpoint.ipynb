{
 "cells": [
  {
   "cell_type": "code",
   "execution_count": 1,
   "id": "59a200a7",
   "metadata": {},
   "outputs": [],
   "source": [
    "ifade1=\"Hava güzel \"\n",
    "ifade=\"ve güneşli\""
   ]
  },
  {
   "cell_type": "code",
   "execution_count": 2,
   "id": "10c6d8ff",
   "metadata": {},
   "outputs": [
    {
     "name": "stdout",
     "output_type": "stream",
     "text": [
      "Hava güzel ve güneşli\n"
     ]
    }
   ],
   "source": [
    "print(ifade1+ifade)"
   ]
  },
  {
   "cell_type": "code",
   "execution_count": 3,
   "id": "17dece74",
   "metadata": {},
   "outputs": [],
   "source": [
    "degisken1=\"Python dersleri\"\n",
    "degisken2=\"bölüm 1\"\n",
    "sayiDegisken=45\n",
    "digerSayi=64\n",
    "boyunu=180.4\n",
    "\n"
   ]
  },
  {
   "cell_type": "code",
   "execution_count": 4,
   "id": "d7485f47",
   "metadata": {},
   "outputs": [
    {
     "name": "stdout",
     "output_type": "stream",
     "text": [
      "Python dersleri bölüm 1\n"
     ]
    }
   ],
   "source": [
    "print(degisken1+\" \"+degisken2)"
   ]
  },
  {
   "cell_type": "code",
   "execution_count": null,
   "id": "09c63e3b",
   "metadata": {},
   "outputs": [],
   "source": []
  },
  {
   "cell_type": "code",
   "execution_count": 5,
   "id": "3b4a3b38",
   "metadata": {},
   "outputs": [
    {
     "name": "stdout",
     "output_type": "stream",
     "text": [
      "Toplam: 109\n"
     ]
    }
   ],
   "source": [
    "print(\"Toplam:\",sayiDegisken+digerSayi)"
   ]
  },
  {
   "cell_type": "code",
   "execution_count": 6,
   "id": "108ae258",
   "metadata": {},
   "outputs": [
    {
     "name": "stdout",
     "output_type": "stream",
     "text": [
      "Adınızı girinizaa\n",
      "Soyadınızı girinizbb\n",
      "İsminiz aa bb\n"
     ]
    }
   ],
   "source": [
    "ad=input(\"Adınızı giriniz\")\n",
    "soyad=input(\"Soyadınızı giriniz\")\n",
    "print(\"İsminiz\", ad+\" \"+soyad)"
   ]
  },
  {
   "cell_type": "code",
   "execution_count": 7,
   "id": "eddd8710",
   "metadata": {},
   "outputs": [
    {
     "name": "stdout",
     "output_type": "stream",
     "text": [
      "İlk Renkrr\n",
      "İkinci Renkgg\n",
      "Aklından sayi tut4\n",
      "Renk rr gg 4\n"
     ]
    }
   ],
   "source": [
    "renk1=input(\"İlk Renk\")\n",
    "#renk1=\"turuncu\"\n",
    "renk2=input(\"İkinci Renk\")\n",
    "tutulanSayi=input(\"Aklından sayi tut\")\n",
    "print(\"Renk\", renk1+\" \"+renk2+ \" \"+tutulanSayi)"
   ]
  },
  {
   "cell_type": "code",
   "execution_count": 8,
   "id": "9067ef9d",
   "metadata": {},
   "outputs": [],
   "source": [
    "sonuc=renk2+ \" \"+ renk1"
   ]
  },
  {
   "cell_type": "code",
   "execution_count": 9,
   "id": "3ed6185a",
   "metadata": {},
   "outputs": [
    {
     "name": "stdout",
     "output_type": "stream",
     "text": [
      "gg rr\n"
     ]
    }
   ],
   "source": [
    "print(sonuc)"
   ]
  },
  {
   "cell_type": "code",
   "execution_count": 10,
   "id": "8e91ce4d",
   "metadata": {},
   "outputs": [],
   "source": [
    "sayi1=1\n",
    "sayi2=5\n",
    "sayi3=23.5\n",
    "bilgi=\"sonuçlar\""
   ]
  },
  {
   "cell_type": "code",
   "execution_count": 11,
   "id": "8f398e3c",
   "metadata": {},
   "outputs": [
    {
     "name": "stdout",
     "output_type": "stream",
     "text": [
      "118.5\n"
     ]
    }
   ],
   "source": [
    "print(sayi1+sayi2*sayi3)"
   ]
  },
  {
   "cell_type": "code",
   "execution_count": 12,
   "id": "977bb872",
   "metadata": {},
   "outputs": [
    {
     "name": "stdout",
     "output_type": "stream",
     "text": [
      "Buyunuz55\n",
      "Kilonuz55\n"
     ]
    }
   ],
   "source": [
    "boy1=input(\"Buyunuz\")\n",
    "kilo=input(\"Kilonuz\")\n"
   ]
  },
  {
   "cell_type": "code",
   "execution_count": 13,
   "id": "73bbf693",
   "metadata": {},
   "outputs": [
    {
     "name": "stdout",
     "output_type": "stream",
     "text": [
      "55\n"
     ]
    }
   ],
   "source": [
    "print(boy1)"
   ]
  },
  {
   "cell_type": "code",
   "execution_count": 14,
   "id": "88bf7901",
   "metadata": {},
   "outputs": [
    {
     "name": "stdout",
     "output_type": "stream",
     "text": [
      "55\n"
     ]
    }
   ],
   "source": [
    "print(kilo)"
   ]
  },
  {
   "cell_type": "code",
   "execution_count": 15,
   "id": "b017506f",
   "metadata": {},
   "outputs": [
    {
     "name": "stdout",
     "output_type": "stream",
     "text": [
      "Boyunuz:  55 Kilonuz:55\n"
     ]
    }
   ],
   "source": [
    "print(\"Boyunuz: \",boy1+\" \"+\"Kilonuz:\"+ kilo)"
   ]
  },
  {
   "cell_type": "code",
   "execution_count": 16,
   "id": "5b0deaab",
   "metadata": {},
   "outputs": [
    {
     "name": "stdout",
     "output_type": "stream",
     "text": [
      "Portakal\n",
      "Muz\n",
      "Kiraz\n"
     ]
    }
   ],
   "source": [
    "x, y, z = \"Portakal\", \"Muz\", \"Kiraz\"\n",
    "print(x)\n",
    "print(y)\n",
    "print(z)"
   ]
  },
  {
   "cell_type": "code",
   "execution_count": 17,
   "id": "058cdf70",
   "metadata": {},
   "outputs": [
    {
     "name": "stdout",
     "output_type": "stream",
     "text": [
      "Deneme\n",
      "Deneme\n",
      "Deneme\n"
     ]
    }
   ],
   "source": [
    "x=y=z=\"Deneme\"\n",
    "print(x)\n",
    "print(y)\n",
    "print(z)"
   ]
  },
  {
   "cell_type": "code",
   "execution_count": 18,
   "id": "dda6fdf5",
   "metadata": {},
   "outputs": [],
   "source": [
    "#TÜr Dünüşüm İşlemleri"
   ]
  },
  {
   "cell_type": "markdown",
   "id": "1c0eee2e",
   "metadata": {},
   "source": [
    "str\n",
    "int\n",
    "float"
   ]
  },
  {
   "cell_type": "code",
   "execution_count": 19,
   "id": "2c33fb81",
   "metadata": {},
   "outputs": [
    {
     "name": "stdout",
     "output_type": "stream",
     "text": [
      "Lütfen yaşınızı giriniz: 66\n",
      "Ad Soyad Giriniz: gg\n",
      "66gg\n"
     ]
    }
   ],
   "source": [
    "yasDegiskeni= int(input(\"Lütfen yaşınızı giriniz: \"))\n",
    "adSoyad=input(\"Ad Soyad Giriniz: \")\n",
    "\n",
    "print(str(yasDegiskeni) + adSoyad)"
   ]
  },
  {
   "cell_type": "code",
   "execution_count": 20,
   "id": "c4608928",
   "metadata": {},
   "outputs": [
    {
     "name": "stdout",
     "output_type": "stream",
     "text": [
      "Birinci Ders Notu: 4\n",
      "İkinci Ders Notu: 5\n"
     ]
    }
   ],
   "source": [
    "dersNotu1=int(input(\"Birinci Ders Notu: \"))\n",
    "dersNotu2=int(input(\"İkinci Ders Notu: \"))\n",
    "\n"
   ]
  },
  {
   "cell_type": "code",
   "execution_count": 21,
   "id": "493b40aa",
   "metadata": {},
   "outputs": [
    {
     "name": "stdout",
     "output_type": "stream",
     "text": [
      "Üçüncü Ders Notu: 6\n"
     ]
    }
   ],
   "source": [
    "dersNotu3=input(\"Üçüncü Ders Notu: \")"
   ]
  },
  {
   "cell_type": "code",
   "execution_count": 22,
   "id": "872f0772",
   "metadata": {},
   "outputs": [],
   "source": [
    "ortalama=(dersNotu1+dersNotu2+int(dersNotu3))/3"
   ]
  },
  {
   "cell_type": "code",
   "execution_count": 23,
   "id": "dbfbe1bb",
   "metadata": {},
   "outputs": [
    {
     "name": "stdout",
     "output_type": "stream",
     "text": [
      "5.0\n"
     ]
    }
   ],
   "source": [
    "print(ortalama)  "
   ]
  },
  {
   "cell_type": "code",
   "execution_count": 24,
   "id": "342ed87a",
   "metadata": {},
   "outputs": [],
   "source": [
    "# Kullanıcıdan Ad Bilgisi\n",
    "# Boy Bilgisi alıncak\n",
    "# Boy bilgisinin yarını alınarak Ad bilgisi ile ekrana yazdırılacak"
   ]
  },
  {
   "cell_type": "markdown",
   "id": "02d18d2a",
   "metadata": {},
   "source": [
    "#Algoritma Oluşturma\n",
    "x=Ad\n",
    "y=Boy\n",
    "yarısı=y/2\n",
    "t=x+str(yarısı)\n",
    "print(t)"
   ]
  },
  {
   "cell_type": "code",
   "execution_count": 27,
   "id": "028a42fa",
   "metadata": {},
   "outputs": [],
   "source": [
    "isim=\"Berkay\"\n",
    "boy=150"
   ]
  },
  {
   "cell_type": "code",
   "execution_count": 28,
   "id": "ceede3cb",
   "metadata": {},
   "outputs": [],
   "source": [
    "x=str(150/2)+\" \"+isim"
   ]
  },
  {
   "cell_type": "code",
   "execution_count": 29,
   "id": "1f308736",
   "metadata": {},
   "outputs": [
    {
     "data": {
      "text/plain": [
       "'75.0 Berkay'"
      ]
     },
     "execution_count": 29,
     "metadata": {},
     "output_type": "execute_result"
    }
   ],
   "source": [
    "x"
   ]
  },
  {
   "cell_type": "code",
   "execution_count": 30,
   "id": "e840e7a6",
   "metadata": {},
   "outputs": [],
   "source": [
    "# Öğrencinin adı ve soyadı alınacak\n",
    "# Vİze ve Final Notu hesaplama\n",
    "# Vizenin %20 alınsın Fİnalin %80\n",
    "# Kullanıcıdan Bir Ders için vize ve Final Notu alınıp\n",
    "# Sonucu ekrana ad soyad ve not ortalaması yazdırılacak"
   ]
  },
  {
   "cell_type": "code",
   "execution_count": 1,
   "id": "991b94bf",
   "metadata": {},
   "outputs": [
    {
     "name": "stdout",
     "output_type": "stream",
     "text": [
      "İsminiz: test\n",
      "Soyisminiz: test2\n",
      "Vize Notunuz: 60\n",
      "Final Notunuz: 95\n"
     ]
    }
   ],
   "source": [
    "isim=str(input(\"İsminiz: \"))\n",
    "soyisim=str(input(\"Soyisminiz: \"))\n",
    "vize=int(input(\"Vize Notunuz: \"))\n",
    "final=int(input(\"Final Notunuz: \"))"
   ]
  },
  {
   "cell_type": "code",
   "execution_count": 5,
   "id": "f5b37e7a",
   "metadata": {},
   "outputs": [
    {
     "name": "stdout",
     "output_type": "stream",
     "text": [
      "test test2 44\n"
     ]
    }
   ],
   "source": [
    "print(isim+\" \"+soyisim+\" \"+str(((vize*20)//100+(final*80)//100)//2))"
   ]
  },
  {
   "cell_type": "code",
   "execution_count": 4,
   "id": "3d0ae7e0",
   "metadata": {},
   "outputs": [
    {
     "name": "stdout",
     "output_type": "stream",
     "text": [
      "test test2 44.0\n"
     ]
    }
   ],
   "source": [
    "print(isim +\" \"+ soyisim + \" \"+ str((vize*0.2+final*0.8)/2))"
   ]
  },
  {
   "cell_type": "code",
   "execution_count": 6,
   "id": "4a7e9cd2",
   "metadata": {},
   "outputs": [
    {
     "name": "stdout",
     "output_type": "stream",
     "text": [
      "10\n"
     ]
    }
   ],
   "source": [
    "x=int(10)\n",
    "print(x)"
   ]
  },
  {
   "cell_type": "code",
   "execution_count": 8,
   "id": "42660a68",
   "metadata": {},
   "outputs": [
    {
     "name": "stdout",
     "output_type": "stream",
     "text": [
      "21\n"
     ]
    }
   ],
   "source": [
    "y=int(21.5)   #Float sayılar ondalıklı sayılar  0.00000\n",
    "print(y)"
   ]
  },
  {
   "cell_type": "code",
   "execution_count": 9,
   "id": "963a8adb",
   "metadata": {},
   "outputs": [
    {
     "name": "stdout",
     "output_type": "stream",
     "text": [
      "21\n"
     ]
    }
   ],
   "source": [
    "yx=int(21.7)   # Yuvalama yapmaz\n",
    "print(yx)"
   ]
  },
  {
   "cell_type": "code",
   "execution_count": 12,
   "id": "a860d196",
   "metadata": {},
   "outputs": [
    {
     "name": "stdout",
     "output_type": "stream",
     "text": [
      "45.0\n"
     ]
    }
   ],
   "source": [
    "z=\"45.0\"\n",
    "print(z)"
   ]
  },
  {
   "cell_type": "code",
   "execution_count": 13,
   "id": "030e6eb0",
   "metadata": {},
   "outputs": [
    {
     "name": "stdout",
     "output_type": "stream",
     "text": [
      "16.0\n"
     ]
    }
   ],
   "source": [
    "x=float(16)\n",
    "print(x)"
   ]
  },
  {
   "cell_type": "code",
   "execution_count": 14,
   "id": "7adffa93",
   "metadata": {},
   "outputs": [
    {
     "name": "stdout",
     "output_type": "stream",
     "text": [
      "3.5\n"
     ]
    }
   ],
   "source": [
    "dd=float(\"3.5\")\n",
    "print(dd)"
   ]
  },
  {
   "cell_type": "code",
   "execution_count": 15,
   "id": "de66bc49",
   "metadata": {},
   "outputs": [
    {
     "name": "stdout",
     "output_type": "stream",
     "text": [
      "kelime17\n"
     ]
    }
   ],
   "source": [
    "x=str(\"kelime17\")\n",
    "\n",
    "print(x)\n"
   ]
  },
  {
   "cell_type": "code",
   "execution_count": 17,
   "id": "6964b81e",
   "metadata": {},
   "outputs": [
    {
     "name": "stdout",
     "output_type": "stream",
     "text": [
      "<class 'str'>\n"
     ]
    }
   ],
   "source": [
    "yz=str(43)\n",
    "print(type(yz))  # ifadesi ile değişkenin tipini öğreniyoruz"
   ]
  },
  {
   "cell_type": "code",
   "execution_count": 18,
   "id": "557683cc",
   "metadata": {},
   "outputs": [
    {
     "name": "stdout",
     "output_type": "stream",
     "text": [
      "<class 'float'>\n"
     ]
    }
   ],
   "source": [
    "print(type(dd))"
   ]
  },
  {
   "cell_type": "code",
   "execution_count": 19,
   "id": "d95db7a4",
   "metadata": {},
   "outputs": [
    {
     "name": "stdout",
     "output_type": "stream",
     "text": [
      "43kelime17\n"
     ]
    }
   ],
   "source": [
    "print(yz+x)"
   ]
  },
  {
   "cell_type": "code",
   "execution_count": 20,
   "id": "68325eb1",
   "metadata": {},
   "outputs": [
    {
     "name": "stdout",
     "output_type": "stream",
     "text": [
      "45.7\n"
     ]
    }
   ],
   "source": [
    "zz=str(45.7)\n",
    "print(zz)"
   ]
  },
  {
   "cell_type": "code",
   "execution_count": 21,
   "id": "c492d082",
   "metadata": {},
   "outputs": [
    {
     "data": {
      "text/plain": [
       "str"
      ]
     },
     "execution_count": 21,
     "metadata": {},
     "output_type": "execute_result"
    }
   ],
   "source": [
    "type(zz)"
   ]
  },
  {
   "cell_type": "code",
   "execution_count": 22,
   "id": "7bf1ae63",
   "metadata": {},
   "outputs": [],
   "source": [
    "# String İfadelerde Yardımcı Fonksiyonlar"
   ]
  },
  {
   "cell_type": "code",
   "execution_count": 25,
   "id": "da3a4621",
   "metadata": {},
   "outputs": [
    {
     "name": "stdout",
     "output_type": "stream",
     "text": [
      " Merhaba Dünya  Test\n"
     ]
    }
   ],
   "source": [
    "ornekCumle=\" Merhaba Dünya  \"\n",
    "ikinciCumle=\"Test\"\n",
    "print(ornekCumle + ikinciCumle)"
   ]
  },
  {
   "cell_type": "code",
   "execution_count": 27,
   "id": "a3771d50",
   "metadata": {},
   "outputs": [
    {
     "data": {
      "text/plain": [
       "'Merhaba Dünya'"
      ]
     },
     "execution_count": 27,
     "metadata": {},
     "output_type": "execute_result"
    }
   ],
   "source": [
    "ornekCumle.strip()  # Sağdan ve soldan boşlukları temizler"
   ]
  },
  {
   "cell_type": "code",
   "execution_count": 28,
   "id": "7c37d82c",
   "metadata": {},
   "outputs": [
    {
     "data": {
      "text/plain": [
       "' MERHABA DÜNYA  '"
      ]
     },
     "execution_count": 28,
     "metadata": {},
     "output_type": "execute_result"
    }
   ],
   "source": [
    "ornekCumle.upper()   # Büyük harfe çeviriyoruz"
   ]
  },
  {
   "cell_type": "code",
   "execution_count": 30,
   "id": "af5d159d",
   "metadata": {},
   "outputs": [
    {
     "data": {
      "text/plain": [
       "' merhaba dünya  '"
      ]
     },
     "execution_count": 30,
     "metadata": {},
     "output_type": "execute_result"
    }
   ],
   "source": [
    "ornekCumle.lower()    # Küçük harfe çeviriyoruz"
   ]
  },
  {
   "cell_type": "code",
   "execution_count": 31,
   "id": "96d62ae0",
   "metadata": {},
   "outputs": [
    {
     "data": {
      "text/plain": [
       "' Merhaba Künya  '"
      ]
     },
     "execution_count": 31,
     "metadata": {},
     "output_type": "execute_result"
    }
   ],
   "source": [
    "ornekCumle.replace(\"D\",\"K\")  # replace metodu yerine koyma istenilen değişken ile değiştirme işlemi"
   ]
  },
  {
   "cell_type": "code",
   "execution_count": 33,
   "id": "62e64ebb",
   "metadata": {},
   "outputs": [
    {
     "data": {
      "text/plain": [
       "['Merhaba', 'Dünya']"
      ]
     },
     "execution_count": 33,
     "metadata": {},
     "output_type": "execute_result"
    }
   ],
   "source": [
    "ornekCumle.strip().split(\" \")   # Split metodu diziye dönüştürür"
   ]
  },
  {
   "cell_type": "code",
   "execution_count": 39,
   "id": "e751d0d9",
   "metadata": {},
   "outputs": [
    {
     "data": {
      "text/plain": [
       "'Merhaba'"
      ]
     },
     "execution_count": 39,
     "metadata": {},
     "output_type": "execute_result"
    }
   ],
   "source": [
    "ornekCumle.strip().split(\" \")[0]   # String değişkenin boşluklarını temizleyip diziye dönüştürdükten sonra 0 ıncı elemanını çağırdık"
   ]
  },
  {
   "cell_type": "markdown",
   "id": "d149276e",
   "metadata": {},
   "source": [
    "# Boolean"
   ]
  },
  {
   "cell_type": "code",
   "execution_count": 40,
   "id": "4926d65f",
   "metadata": {},
   "outputs": [],
   "source": [
    "# True False değer alan ifadeler"
   ]
  },
  {
   "cell_type": "code",
   "execution_count": 41,
   "id": "c899a5f5",
   "metadata": {},
   "outputs": [],
   "source": [
    "#İf else kontrolleri => koşul şart sağlanırsa"
   ]
  },
  {
   "cell_type": "code",
   "execution_count": 42,
   "id": "de628f2c",
   "metadata": {},
   "outputs": [
    {
     "name": "stdout",
     "output_type": "stream",
     "text": [
      "False\n"
     ]
    }
   ],
   "source": [
    "print(3>5)"
   ]
  },
  {
   "cell_type": "code",
   "execution_count": 43,
   "id": "b7e10791",
   "metadata": {},
   "outputs": [
    {
     "name": "stdout",
     "output_type": "stream",
     "text": [
      "True\n"
     ]
    }
   ],
   "source": [
    "print(15>12)"
   ]
  },
  {
   "cell_type": "code",
   "execution_count": 44,
   "id": "550550a4",
   "metadata": {},
   "outputs": [
    {
     "name": "stdout",
     "output_type": "stream",
     "text": [
      "x y den büyüktür\n"
     ]
    }
   ],
   "source": [
    "x=120\n",
    "y=46\n",
    "\n",
    "if x>y:\n",
    "    print(\"x y den büyüktür\")\n",
    "else:\n",
    "    print(\"y x den büyüktür\")"
   ]
  },
  {
   "cell_type": "code",
   "execution_count": 45,
   "id": "2bd7c5a2",
   "metadata": {},
   "outputs": [
    {
     "name": "stdout",
     "output_type": "stream",
     "text": [
      "True\n"
     ]
    }
   ],
   "source": [
    "print(x>y)"
   ]
  },
  {
   "cell_type": "code",
   "execution_count": 49,
   "id": "d6e8ec4e",
   "metadata": {},
   "outputs": [
    {
     "name": "stdout",
     "output_type": "stream",
     "text": [
      "a+b c den küçüktür\n"
     ]
    }
   ],
   "source": [
    "a=33.5\n",
    "b=27\n",
    "c=92.5\n",
    "\n",
    "# a+b büyükse c den  \n",
    "\n",
    "if (a+b)>c:\n",
    "    \n",
    "    print(\"a+b c den büyüktür\")\n",
    "            \n",
    "else:\n",
    "    print(\"a+b c den küçüktür\")"
   ]
  },
  {
   "cell_type": "code",
   "execution_count": null,
   "id": "709fbe27",
   "metadata": {},
   "outputs": [],
   "source": []
  }
 ],
 "metadata": {
  "kernelspec": {
   "display_name": "Python 3 (ipykernel)",
   "language": "python",
   "name": "python3"
  },
  "language_info": {
   "codemirror_mode": {
    "name": "ipython",
    "version": 3
   },
   "file_extension": ".py",
   "mimetype": "text/x-python",
   "name": "python",
   "nbconvert_exporter": "python",
   "pygments_lexer": "ipython3",
   "version": "3.9.12"
  }
 },
 "nbformat": 4,
 "nbformat_minor": 5
}
