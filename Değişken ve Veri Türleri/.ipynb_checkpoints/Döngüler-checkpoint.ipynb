{
 "cells": [
  {
   "cell_type": "code",
   "execution_count": 3,
   "id": "388b9be7",
   "metadata": {},
   "outputs": [
    {
     "name": "stdout",
     "output_type": "stream",
     "text": [
      "5\n",
      "6\n",
      "7\n",
      "8\n",
      "9\n"
     ]
    }
   ],
   "source": [
    "sayi=5\n",
    "\n",
    "while sayi<10:\n",
    "    print(sayi)\n",
    "    sayi+=1"
   ]
  },
  {
   "cell_type": "code",
   "execution_count": 6,
   "id": "32deaf4f",
   "metadata": {},
   "outputs": [
    {
     "name": "stdout",
     "output_type": "stream",
     "text": [
      "7\n",
      "8\n",
      "9\n",
      "10\n",
      "11\n"
     ]
    }
   ],
   "source": [
    "sayi2= 7\n",
    "\n",
    "while sayi2 < 21:\n",
    "    print(sayi2)\n",
    "    if sayi2==11:\n",
    "        break\n",
    "    sayi2+=1"
   ]
  },
  {
   "cell_type": "code",
   "execution_count": 10,
   "id": "86b1f6a5",
   "metadata": {},
   "outputs": [
    {
     "name": "stdout",
     "output_type": "stream",
     "text": [
      "1\n",
      "2\n",
      "3\n",
      "5\n"
     ]
    }
   ],
   "source": [
    "sayi3=0\n",
    "\n",
    "while sayi3<5:\n",
    "    sayi3+=1\n",
    "    if sayi3==4:\n",
    "        continue\n",
    "    print(sayi3)\n",
    "        "
   ]
  },
  {
   "cell_type": "code",
   "execution_count": 14,
   "id": "ab692842",
   "metadata": {},
   "outputs": [
    {
     "name": "stdout",
     "output_type": "stream",
     "text": [
      "14\n",
      "15\n",
      "16\n",
      "17\n",
      "18\n",
      "19\n",
      "20\n",
      "sayi4 değişkeni 21 küçük değildir\n"
     ]
    }
   ],
   "source": [
    "sayi4= 14\n",
    "\n",
    "while sayi4<21:\n",
    "    print(sayi4)\n",
    "    sayi4+=1\n",
    "else:\n",
    "    print(\"sayi4 değişkeni 21 küçük değildir\")"
   ]
  },
  {
   "cell_type": "code",
   "execution_count": null,
   "id": "c181a76a",
   "metadata": {},
   "outputs": [],
   "source": [
    "input(\"\" ) # Daima string değer döner\n",
    "int(input(\"\"))\n",
    "float(input(\"\"))"
   ]
  },
  {
   "cell_type": "code",
   "execution_count": 15,
   "id": "13738b84",
   "metadata": {},
   "outputs": [],
   "source": [
    "# kullanıcıdan ismini girmesini isteyeceğiz ve girilen ismin harflerini alt alta yazdıracağız.\n"
   ]
  },
  {
   "cell_type": "code",
   "execution_count": 26,
   "id": "9b472998",
   "metadata": {},
   "outputs": [
    {
     "name": "stdout",
     "output_type": "stream",
     "text": [
      "İsminizi giriniz:berkay\n"
     ]
    }
   ],
   "source": [
    "isim=input(\"İsminizi giriniz:\")"
   ]
  },
  {
   "cell_type": "code",
   "execution_count": 30,
   "id": "b92722ce",
   "metadata": {},
   "outputs": [
    {
     "name": "stdout",
     "output_type": "stream",
     "text": [
      "b\n",
      "e\n",
      "r\n",
      "k\n",
      "a\n",
      "y\n"
     ]
    }
   ],
   "source": [
    "for i in isim:\n",
    "    print(i)"
   ]
  },
  {
   "cell_type": "code",
   "execution_count": 13,
   "id": "2b0abe70",
   "metadata": {},
   "outputs": [
    {
     "name": "stdout",
     "output_type": "stream",
     "text": [
      "Adınızı giriniz: ibrahim\n",
      "i\n",
      "b\n",
      "r\n",
      "a\n",
      "h\n",
      "i\n",
      "m\n",
      "Harfler listelendi\n"
     ]
    }
   ],
   "source": [
    "ad=input(\"Adınızı giriniz: \")\n",
    "sayac=0\n",
    "\n",
    "while sayac != len(ad):\n",
    "    print(ad[sayac])\n",
    "    sayac+=1\n",
    "else:\n",
    "    print(\"Harfler listelendi\")"
   ]
  },
  {
   "cell_type": "markdown",
   "id": "e39aa867",
   "metadata": {},
   "source": [
    "# For Döngüsü"
   ]
  },
  {
   "cell_type": "code",
   "execution_count": 1,
   "id": "c582dfab",
   "metadata": {},
   "outputs": [],
   "source": [
    "df=[\"Fatih\",\"Hasan\",\"Gül\",\"Berkay\",\"Mehmet\",\"Ali\"]"
   ]
  },
  {
   "cell_type": "code",
   "execution_count": 9,
   "id": "f67e82ae",
   "metadata": {},
   "outputs": [
    {
     "name": "stdout",
     "output_type": "stream",
     "text": [
      "Fatih\n",
      "Hasan\n",
      "Gül\n",
      "Berkay\n",
      "Mehmet\n",
      "Ali\n"
     ]
    }
   ],
   "source": [
    "for i in df:\n",
    "    print(i)\n",
    "    #print(i)\n",
    "    #print(df) "
   ]
  },
  {
   "cell_type": "code",
   "execution_count": 11,
   "id": "c033198f",
   "metadata": {},
   "outputs": [
    {
     "name": "stdout",
     "output_type": "stream",
     "text": [
      "M\n",
      "e\n",
      "h\n",
      "m\n",
      "e\n",
      "t\n"
     ]
    }
   ],
   "source": [
    "for i in df[4]:\n",
    "    print(i)"
   ]
  },
  {
   "cell_type": "code",
   "execution_count": 14,
   "id": "aa3edbc7",
   "metadata": {},
   "outputs": [],
   "source": [
    "meyveDizisi=[\"kiraz\",\"çilek\",\"kavun\",\"karpuz\",\"elma\"]"
   ]
  },
  {
   "cell_type": "code",
   "execution_count": 15,
   "id": "a100ac02",
   "metadata": {},
   "outputs": [
    {
     "name": "stdout",
     "output_type": "stream",
     "text": [
      "kiraz\n",
      "çilek\n",
      "kavun\n",
      "karpuz\n",
      "elma\n"
     ]
    }
   ],
   "source": [
    "for item in meyveDizisi:\n",
    "    print(item)"
   ]
  },
  {
   "cell_type": "code",
   "execution_count": 16,
   "id": "367ccc34",
   "metadata": {},
   "outputs": [
    {
     "name": "stdout",
     "output_type": "stream",
     "text": [
      "kiraz\n",
      "çilek\n",
      "kavun\n"
     ]
    }
   ],
   "source": [
    "for item in meyveDizisi:\n",
    "    print(item)\n",
    "    if item==\"kavun\":\n",
    "        break"
   ]
  },
  {
   "cell_type": "code",
   "execution_count": 17,
   "id": "6650ed31",
   "metadata": {},
   "outputs": [
    {
     "name": "stdout",
     "output_type": "stream",
     "text": [
      "kiraz\n"
     ]
    }
   ],
   "source": [
    "for item in meyveDizisi:\n",
    "    print(item)\n",
    "    if item!=\"kavun\":\n",
    "        break"
   ]
  },
  {
   "cell_type": "code",
   "execution_count": 21,
   "id": "800244ea",
   "metadata": {},
   "outputs": [
    {
     "name": "stdout",
     "output_type": "stream",
     "text": [
      "kiraz\n",
      "çilek\n",
      "kavun\n"
     ]
    }
   ],
   "source": [
    "for item in meyveDizisi:\n",
    "    print(item)\n",
    "    if item==meyveDizisi[2]:\n",
    "        break"
   ]
  },
  {
   "cell_type": "code",
   "execution_count": 22,
   "id": "cf7ad4d9",
   "metadata": {},
   "outputs": [],
   "source": [
    "# Kullanıcıdan yaşının ve adının girmesini isteyelim\n",
    "# yaşı kadar adını ekrana yazdıralım"
   ]
  },
  {
   "cell_type": "code",
   "execution_count": 32,
   "id": "55153c77",
   "metadata": {},
   "outputs": [
    {
     "name": "stdout",
     "output_type": "stream",
     "text": [
      "Yaşınızı giriniz: 30\n",
      "Adınızı giriniz: Ali\n"
     ]
    }
   ],
   "source": [
    "yas=int(input(\"Yaşınızı giriniz: \"))\n",
    "ad=input(\"Adınızı giriniz: \")"
   ]
  },
  {
   "cell_type": "code",
   "execution_count": 34,
   "id": "ba428baf",
   "metadata": {},
   "outputs": [
    {
     "name": "stdout",
     "output_type": "stream",
     "text": [
      "Ali\n",
      "Ali\n",
      "Ali\n",
      "Ali\n",
      "Ali\n",
      "Ali\n",
      "Ali\n",
      "Ali\n",
      "Ali\n",
      "Ali\n",
      "Ali\n",
      "Ali\n",
      "Ali\n",
      "Ali\n",
      "Ali\n",
      "Ali\n",
      "Ali\n",
      "Ali\n",
      "Ali\n",
      "Ali\n",
      "Ali\n",
      "Ali\n",
      "Ali\n",
      "Ali\n",
      "Ali\n",
      "Ali\n",
      "Ali\n",
      "Ali\n",
      "Ali\n",
      "Ali\n"
     ]
    }
   ],
   "source": [
    "for i in range(yas):\n",
    "    print(ad)"
   ]
  },
  {
   "cell_type": "code",
   "execution_count": 35,
   "id": "5c9317de",
   "metadata": {},
   "outputs": [
    {
     "data": {
      "text/plain": [
       "['kiraz', 'çilek', 'kavun', 'karpuz', 'elma']"
      ]
     },
     "execution_count": 35,
     "metadata": {},
     "output_type": "execute_result"
    }
   ],
   "source": [
    "meyveDizisi"
   ]
  },
  {
   "cell_type": "code",
   "execution_count": 36,
   "id": "1362a4e8",
   "metadata": {},
   "outputs": [
    {
     "name": "stdout",
     "output_type": "stream",
     "text": [
      "kiraz\n",
      "çilek\n",
      "kavun\n"
     ]
    }
   ],
   "source": [
    "for item in meyveDizisi:\n",
    "    print(item)\n",
    "    if item==\"kavun\":\n",
    "        break"
   ]
  },
  {
   "cell_type": "code",
   "execution_count": 39,
   "id": "04667132",
   "metadata": {},
   "outputs": [
    {
     "name": "stdout",
     "output_type": "stream",
     "text": [
      "kiraz\n",
      "çilek\n",
      "kavun\n",
      "elma\n"
     ]
    }
   ],
   "source": [
    "for item in meyveDizisi:\n",
    "    #print(item)\n",
    "    if item==\"karpuz\":\n",
    "        continue\n",
    "    print(item)"
   ]
  },
  {
   "cell_type": "code",
   "execution_count": 40,
   "id": "ff1593a3",
   "metadata": {},
   "outputs": [
    {
     "name": "stdout",
     "output_type": "stream",
     "text": [
      "0\n",
      "1\n",
      "2\n",
      "3\n",
      "4\n",
      "5\n",
      "6\n",
      "7\n",
      "8\n",
      "9\n"
     ]
    }
   ],
   "source": [
    "for i in range(10):   # n-1\n",
    "    print(i)"
   ]
  },
  {
   "cell_type": "code",
   "execution_count": 43,
   "id": "10618540",
   "metadata": {},
   "outputs": [
    {
     "name": "stdout",
     "output_type": "stream",
     "text": [
      "0\n",
      "1\n",
      "2\n",
      "3\n",
      "4\n"
     ]
    }
   ],
   "source": [
    "for i in range(len(meyveDizisi)):\n",
    "    print(i)"
   ]
  },
  {
   "cell_type": "code",
   "execution_count": 44,
   "id": "b86672af",
   "metadata": {},
   "outputs": [
    {
     "name": "stdout",
     "output_type": "stream",
     "text": [
      "0\n",
      "2\n",
      "4\n",
      "6\n",
      "8\n"
     ]
    }
   ],
   "source": [
    "for item in range(0,10,2):\n",
    "    print(item)"
   ]
  },
  {
   "cell_type": "code",
   "execution_count": 45,
   "id": "48f2d687",
   "metadata": {},
   "outputs": [
    {
     "name": "stdout",
     "output_type": "stream",
     "text": [
      "3\n",
      "10\n",
      "17\n",
      "24\n"
     ]
    }
   ],
   "source": [
    "for i in range(3,30,7):\n",
    "    print(i)"
   ]
  },
  {
   "cell_type": "code",
   "execution_count": 46,
   "id": "12fe98d9",
   "metadata": {},
   "outputs": [],
   "source": [
    "bitkiler=[\"çiçek\",\"lale\",\"paptya\",\"gül\"]\n",
    "hayvanlar=[\"köpek\",\"kedi\",\"kuş\",\"tavşan\"]"
   ]
  },
  {
   "cell_type": "code",
   "execution_count": 52,
   "id": "21cd2b5b",
   "metadata": {},
   "outputs": [
    {
     "name": "stdout",
     "output_type": "stream",
     "text": [
      "çiçek\n",
      "lale\n",
      "paptya\n",
      "gül\n",
      "çiçek\n",
      "lale\n",
      "paptya\n",
      "gül\n",
      "çiçek\n",
      "lale\n",
      "paptya\n",
      "gül\n",
      "çiçek\n",
      "lale\n",
      "paptya\n",
      "gül\n"
     ]
    }
   ],
   "source": [
    "for i in range(len(hayvanlar)):\n",
    "    #print(i)\n",
    "    for item in bitkiler:\n",
    "        print(item)"
   ]
  },
  {
   "cell_type": "code",
   "execution_count": null,
   "id": "8e8c8510",
   "metadata": {},
   "outputs": [],
   "source": []
  }
 ],
 "metadata": {
  "kernelspec": {
   "display_name": "Python 3 (ipykernel)",
   "language": "python",
   "name": "python3"
  },
  "language_info": {
   "codemirror_mode": {
    "name": "ipython",
    "version": 3
   },
   "file_extension": ".py",
   "mimetype": "text/x-python",
   "name": "python",
   "nbconvert_exporter": "python",
   "pygments_lexer": "ipython3",
   "version": "3.9.12"
  }
 },
 "nbformat": 4,
 "nbformat_minor": 5
}
