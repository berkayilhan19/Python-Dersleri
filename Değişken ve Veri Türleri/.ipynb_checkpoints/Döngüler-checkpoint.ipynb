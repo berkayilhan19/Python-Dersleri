{
 "cells": [
  {
   "cell_type": "code",
   "execution_count": 3,
   "id": "388b9be7",
   "metadata": {},
   "outputs": [
    {
     "name": "stdout",
     "output_type": "stream",
     "text": [
      "5\n",
      "6\n",
      "7\n",
      "8\n",
      "9\n"
     ]
    }
   ],
   "source": [
    "sayi=5\n",
    "\n",
    "while sayi<10:\n",
    "    print(sayi)\n",
    "    sayi+=1"
   ]
  },
  {
   "cell_type": "code",
   "execution_count": 6,
   "id": "32deaf4f",
   "metadata": {},
   "outputs": [
    {
     "name": "stdout",
     "output_type": "stream",
     "text": [
      "7\n",
      "8\n",
      "9\n",
      "10\n",
      "11\n"
     ]
    }
   ],
   "source": [
    "sayi2= 7\n",
    "\n",
    "while sayi2 < 21:\n",
    "    print(sayi2)\n",
    "    if sayi2==11:\n",
    "        break\n",
    "    sayi2+=1"
   ]
  },
  {
   "cell_type": "code",
   "execution_count": 10,
   "id": "86b1f6a5",
   "metadata": {},
   "outputs": [
    {
     "name": "stdout",
     "output_type": "stream",
     "text": [
      "1\n",
      "2\n",
      "3\n",
      "5\n"
     ]
    }
   ],
   "source": [
    "sayi3=0\n",
    "\n",
    "while sayi3<5:\n",
    "    sayi3+=1\n",
    "    if sayi3==4:\n",
    "        continue\n",
    "    print(sayi3)\n",
    "        "
   ]
  },
  {
   "cell_type": "code",
   "execution_count": 14,
   "id": "ab692842",
   "metadata": {},
   "outputs": [
    {
     "name": "stdout",
     "output_type": "stream",
     "text": [
      "14\n",
      "15\n",
      "16\n",
      "17\n",
      "18\n",
      "19\n",
      "20\n",
      "sayi4 değişkeni 21 küçük değildir\n"
     ]
    }
   ],
   "source": [
    "sayi4= 14\n",
    "\n",
    "while sayi4<21:\n",
    "    print(sayi4)\n",
    "    sayi4+=1\n",
    "else:\n",
    "    print(\"sayi4 değişkeni 21 küçük değildir\")"
   ]
  },
  {
   "cell_type": "code",
   "execution_count": null,
   "id": "c181a76a",
   "metadata": {},
   "outputs": [],
   "source": [
    "input(\"\" ) # Daima string değer döner\n",
    "int(input(\"\"))\n",
    "float(input(\"\"))"
   ]
  },
  {
   "cell_type": "code",
   "execution_count": 15,
   "id": "13738b84",
   "metadata": {},
   "outputs": [],
   "source": [
    "# kullanıcıdan ismini girmesini isteyeceğiz ve girilen ismin harflerini alt alta yazdıracağız.\n"
   ]
  },
  {
   "cell_type": "code",
   "execution_count": 26,
   "id": "9b472998",
   "metadata": {},
   "outputs": [
    {
     "name": "stdout",
     "output_type": "stream",
     "text": [
      "İsminizi giriniz:berkay\n"
     ]
    }
   ],
   "source": [
    "isim=input(\"İsminizi giriniz:\")"
   ]
  },
  {
   "cell_type": "code",
   "execution_count": 30,
   "id": "b92722ce",
   "metadata": {},
   "outputs": [
    {
     "name": "stdout",
     "output_type": "stream",
     "text": [
      "b\n",
      "e\n",
      "r\n",
      "k\n",
      "a\n",
      "y\n"
     ]
    }
   ],
   "source": [
    "for i in isim:\n",
    "    print(i)"
   ]
  },
  {
   "cell_type": "code",
   "execution_count": null,
   "id": "9f2f33c0",
   "metadata": {},
   "outputs": [],
   "source": []
  }
 ],
 "metadata": {
  "kernelspec": {
   "display_name": "Python 3 (ipykernel)",
   "language": "python",
   "name": "python3"
  },
  "language_info": {
   "codemirror_mode": {
    "name": "ipython",
    "version": 3
   },
   "file_extension": ".py",
   "mimetype": "text/x-python",
   "name": "python",
   "nbconvert_exporter": "python",
   "pygments_lexer": "ipython3",
   "version": "3.9.12"
  }
 },
 "nbformat": 4,
 "nbformat_minor": 5
}
