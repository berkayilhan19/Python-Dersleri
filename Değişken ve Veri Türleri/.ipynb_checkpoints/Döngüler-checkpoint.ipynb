{
 "cells": [
  {
   "cell_type": "code",
   "execution_count": 3,
   "id": "34eb8622",
   "metadata": {},
   "outputs": [
    {
     "name": "stdout",
     "output_type": "stream",
     "text": [
      "5\n",
      "6\n",
      "7\n",
      "8\n",
      "9\n"
     ]
    }
   ],
   "source": [
    "sayi=5\n",
    "\n",
    "while sayi<10:\n",
    "    print(sayi)\n",
    "    sayi+=1"
   ]
  },
  {
   "cell_type": "code",
   "execution_count": 6,
   "id": "9635628d",
   "metadata": {},
   "outputs": [
    {
     "name": "stdout",
     "output_type": "stream",
     "text": [
      "7\n",
      "8\n",
      "9\n",
      "10\n",
      "11\n"
     ]
    }
   ],
   "source": [
    "sayi2= 7\n",
    "\n",
    "while sayi2 < 21:\n",
    "    print(sayi2)\n",
    "    if sayi2==11:\n",
    "        break\n",
    "    sayi2+=1"
   ]
  },
  {
   "cell_type": "code",
   "execution_count": 10,
   "id": "abffd3e6",
   "metadata": {},
   "outputs": [
    {
     "name": "stdout",
     "output_type": "stream",
     "text": [
      "1\n",
      "2\n",
      "3\n",
      "5\n"
     ]
    }
   ],
   "source": [
    "sayi3=0\n",
    "\n",
    "while sayi3<5:\n",
    "    sayi3+=1\n",
    "    if sayi3==4:\n",
    "        continue\n",
    "    print(sayi3)\n",
    "        "
   ]
  },
  {
   "cell_type": "code",
   "execution_count": 14,
   "id": "7fd985cd",
   "metadata": {},
   "outputs": [
    {
     "name": "stdout",
     "output_type": "stream",
     "text": [
      "14\n",
      "15\n",
      "16\n",
      "17\n",
      "18\n",
      "19\n",
      "20\n",
      "sayi4 değişkeni 21 küçük değildir\n"
     ]
    }
   ],
   "source": [
    "sayi4= 14\n",
    "\n",
    "while sayi4<21:\n",
    "    print(sayi4)\n",
    "    sayi4+=1\n",
    "else:\n",
    "    print(\"sayi4 değişkeni 21 küçük değildir\")"
   ]
  },
  {
   "cell_type": "code",
   "execution_count": null,
   "id": "e761b595",
   "metadata": {},
   "outputs": [],
   "source": []
  }
 ],
 "metadata": {
  "kernelspec": {
   "display_name": "Python 3 (ipykernel)",
   "language": "python",
   "name": "python3"
  },
  "language_info": {
   "codemirror_mode": {
    "name": "ipython",
    "version": 3
   },
   "file_extension": ".py",
   "mimetype": "text/x-python",
   "name": "python",
   "nbconvert_exporter": "python",
   "pygments_lexer": "ipython3",
   "version": "3.9.12"
  }
 },
 "nbformat": 4,
 "nbformat_minor": 5
}
