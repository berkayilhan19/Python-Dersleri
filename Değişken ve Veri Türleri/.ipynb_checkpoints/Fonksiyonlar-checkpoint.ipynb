{
 "cells": [
  {
   "cell_type": "code",
   "execution_count": 1,
   "id": "27fe025a",
   "metadata": {},
   "outputs": [],
   "source": [
    "def ilkFonksiyonum():\n",
    "    print(\"Bu ilk fonksiyonumdur\")"
   ]
  },
  {
   "cell_type": "code",
   "execution_count": 2,
   "id": "865d4bb9",
   "metadata": {},
   "outputs": [
    {
     "name": "stdout",
     "output_type": "stream",
     "text": [
      "Bu ilk fonksiyonumdur\n"
     ]
    }
   ],
   "source": [
    "ilkFonksiyonum()"
   ]
  },
  {
   "cell_type": "code",
   "execution_count": 6,
   "id": "3f6b38aa",
   "metadata": {},
   "outputs": [],
   "source": [
    "def isimFonksiyonum(isim):\n",
    "    print(\"Adınız: \"+isim)"
   ]
  },
  {
   "cell_type": "code",
   "execution_count": 9,
   "id": "7c764ecb",
   "metadata": {},
   "outputs": [
    {
     "name": "stdout",
     "output_type": "stream",
     "text": [
      "Adınız: Ali\n"
     ]
    }
   ],
   "source": [
    "isimFonksiyonum(\"Ali\")"
   ]
  },
  {
   "cell_type": "code",
   "execution_count": 13,
   "id": "613e512d",
   "metadata": {},
   "outputs": [],
   "source": [
    "def xFonksiyonum(ad,soyad):\n",
    "    print(\"Adınız: \"+ad+\" \"+\"soyadınız: \"+soyad)"
   ]
  },
  {
   "cell_type": "code",
   "execution_count": 14,
   "id": "7e528009",
   "metadata": {},
   "outputs": [
    {
     "name": "stdout",
     "output_type": "stream",
     "text": [
      "Adınız: Ali soyadınız: Kuşçu\n"
     ]
    }
   ],
   "source": [
    "xFonksiyonum(\"Ali\",\"Kuşçu\")"
   ]
  },
  {
   "cell_type": "code",
   "execution_count": 20,
   "id": "05397281",
   "metadata": {},
   "outputs": [],
   "source": [
    "def hesaplama(x,y):\n",
    "    alan=float(x)*float(y)\n",
    "    print(\"ALAN: \",alan)\n",
    "    cevre=(float(x)+float(y))*2\n",
    "    print(\"ÇEVRE: \",cevre)\n",
    "   \n",
    " \n",
    "    "
   ]
  },
  {
   "cell_type": "code",
   "execution_count": 21,
   "id": "f7ea4fd7",
   "metadata": {},
   "outputs": [
    {
     "name": "stdout",
     "output_type": "stream",
     "text": [
      "Kısa kenar4\n",
      "Uzun kenar8\n",
      "ALAN:  32.0\n",
      "ÇEVRE:  24.0\n"
     ]
    }
   ],
   "source": [
    "x=int(input(\"Kısa kenar\"))  \n",
    "y=int(input(\"Uzun kenar\"))\n",
    "\n",
    "hesaplama(x,y)"
   ]
  },
  {
   "cell_type": "code",
   "execution_count": 22,
   "id": "b86a8fc1",
   "metadata": {},
   "outputs": [],
   "source": [
    "def hesap(a):\n",
    "    alan=float(a)**2\n",
    "    print(\"Alan: \",alan)\n",
    "    cevre=float(a)*4\n",
    "    print(\"Çevre: \",cevre)"
   ]
  },
  {
   "cell_type": "code",
   "execution_count": 24,
   "id": "92ab78ce",
   "metadata": {},
   "outputs": [
    {
     "name": "stdout",
     "output_type": "stream",
     "text": [
      "Kenar8\n",
      "Alan:  64.0\n",
      "Çevre:  32.0\n"
     ]
    }
   ],
   "source": [
    "a=int(input(\"Kenar\"))\n",
    "\n",
    "hesap(a)"
   ]
  },
  {
   "cell_type": "code",
   "execution_count": null,
   "id": "a8d26485",
   "metadata": {},
   "outputs": [],
   "source": [
    "# Yarı çapı alınan ve pi değeri alınan dairenin alan hesaplamasını yapan fonksiyonu yazınız..! "
   ]
  }
 ],
 "metadata": {
  "kernelspec": {
   "display_name": "Python 3 (ipykernel)",
   "language": "python",
   "name": "python3"
  },
  "language_info": {
   "codemirror_mode": {
    "name": "ipython",
    "version": 3
   },
   "file_extension": ".py",
   "mimetype": "text/x-python",
   "name": "python",
   "nbconvert_exporter": "python",
   "pygments_lexer": "ipython3",
   "version": "3.9.12"
  }
 },
 "nbformat": 4,
 "nbformat_minor": 5
}
