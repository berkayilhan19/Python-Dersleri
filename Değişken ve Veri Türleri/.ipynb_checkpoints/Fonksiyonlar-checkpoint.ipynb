{
 "cells": [
  {
   "cell_type": "code",
   "execution_count": 1,
   "id": "2b8275bd",
   "metadata": {},
   "outputs": [],
   "source": [
    "def ilkFonksiyonum():\n",
    "    print(\"Bu ilk fonksiyonumdur\")"
   ]
  },
  {
   "cell_type": "code",
   "execution_count": 2,
   "id": "42274b71",
   "metadata": {},
   "outputs": [
    {
     "name": "stdout",
     "output_type": "stream",
     "text": [
      "Bu ilk fonksiyonumdur\n"
     ]
    }
   ],
   "source": [
    "ilkFonksiyonum()"
   ]
  },
  {
   "cell_type": "code",
   "execution_count": 6,
   "id": "9cb760d9",
   "metadata": {},
   "outputs": [],
   "source": [
    "def isimFonksiyonum(isim):\n",
    "    print(\"Adınız: \"+isim)"
   ]
  },
  {
   "cell_type": "code",
   "execution_count": 9,
   "id": "c25e2dc3",
   "metadata": {},
   "outputs": [
    {
     "name": "stdout",
     "output_type": "stream",
     "text": [
      "Adınız: Ali\n"
     ]
    }
   ],
   "source": [
    "isimFonksiyonum(\"Ali\")"
   ]
  },
  {
   "cell_type": "code",
   "execution_count": 13,
   "id": "37e36b87",
   "metadata": {},
   "outputs": [],
   "source": [
    "def xFonksiyonum(ad,soyad):\n",
    "    print(\"Adınız: \"+ad+\" \"+\"soyadınız: \"+soyad)"
   ]
  },
  {
   "cell_type": "code",
   "execution_count": 14,
   "id": "6a902825",
   "metadata": {},
   "outputs": [
    {
     "name": "stdout",
     "output_type": "stream",
     "text": [
      "Adınız: Ali soyadınız: Kuşçu\n"
     ]
    }
   ],
   "source": [
    "xFonksiyonum(\"Ali\",\"Kuşçu\")"
   ]
  },
  {
   "cell_type": "code",
   "execution_count": 20,
   "id": "c08d3bd0",
   "metadata": {},
   "outputs": [],
   "source": [
    "def hesaplama(x,y):\n",
    "    alan=float(x)*float(y)\n",
    "    print(\"ALAN: \",alan)\n",
    "    cevre=(float(x)+float(y))*2\n",
    "    print(\"ÇEVRE: \",cevre)\n",
    "   \n",
    " \n",
    "    "
   ]
  },
  {
   "cell_type": "code",
   "execution_count": 21,
   "id": "38d929ce",
   "metadata": {},
   "outputs": [
    {
     "name": "stdout",
     "output_type": "stream",
     "text": [
      "Kısa kenar4\n",
      "Uzun kenar8\n",
      "ALAN:  32.0\n",
      "ÇEVRE:  24.0\n"
     ]
    }
   ],
   "source": [
    "x=int(input(\"Kısa kenar\"))  \n",
    "y=int(input(\"Uzun kenar\"))\n",
    "\n",
    "hesaplama(x,y)"
   ]
  },
  {
   "cell_type": "code",
   "execution_count": 22,
   "id": "bfec9614",
   "metadata": {},
   "outputs": [],
   "source": [
    "def hesap(a):\n",
    "    alan=float(a)**2\n",
    "    print(\"Alan: \",alan)\n",
    "    cevre=float(a)*4\n",
    "    print(\"Çevre: \",cevre)"
   ]
  },
  {
   "cell_type": "code",
   "execution_count": 24,
   "id": "04673dcd",
   "metadata": {},
   "outputs": [
    {
     "name": "stdout",
     "output_type": "stream",
     "text": [
      "Kenar8\n",
      "Alan:  64.0\n",
      "Çevre:  32.0\n"
     ]
    }
   ],
   "source": [
    "a=int(input(\"Kenar\"))\n",
    "\n",
    "hesap(a)"
   ]
  },
  {
   "cell_type": "code",
   "execution_count": null,
   "id": "ffc4fff3",
   "metadata": {},
   "outputs": [],
   "source": [
    "# Yarı çapı alınan ve pi değeri alınan dairenin alan hesaplamasını yapan fonksiyonu yazınız..! "
   ]
  },
  {
   "cell_type": "code",
   "execution_count": 28,
   "id": "102ffe3b",
   "metadata": {},
   "outputs": [
    {
     "name": "stdout",
     "output_type": "stream",
     "text": [
      "[1, 4, 3]\n"
     ]
    }
   ],
   "source": [
    "x = [1, 2, 3]\n",
    "y = x\n",
    "y[1] = 4\n",
    "print(x)"
   ]
  },
  {
   "cell_type": "code",
   "execution_count": 7,
   "id": "f67e8eb9",
   "metadata": {},
   "outputs": [],
   "source": [
    "def daire(pi,r):\n",
    "    alan=float(pi)*float(r)**2\n",
    "    print(\"Alan: \",alan)"
   ]
  },
  {
   "cell_type": "code",
   "execution_count": 9,
   "id": "9fd73b09",
   "metadata": {},
   "outputs": [
    {
     "name": "stdout",
     "output_type": "stream",
     "text": [
      "Pi Sayısını Giriniz: 55\n",
      "Yarıçapı Giriniz: 44\n",
      "Alan:  106480.0\n"
     ]
    }
   ],
   "source": [
    "pi=input(\"Pi Sayısını Giriniz: \")\n",
    "r=int(input(\"Yarıçapı Giriniz: \"))\n",
    "\n",
    "daire(pi,r)"
   ]
  },
  {
   "cell_type": "code",
   "execution_count": null,
   "id": "f52402e2",
   "metadata": {},
   "outputs": [],
   "source": [
    "# Değişken Sayılı Fonksiyon"
   ]
  },
  {
   "cell_type": "code",
   "execution_count": 19,
   "id": "b8b7cd30",
   "metadata": {},
   "outputs": [],
   "source": [
    "def fonk(*romanlar):  # fonk(parametre sayısı kadar veri gönderiliyordu burada değişken)\n",
    "    print(\"En İyi Roman: \"+romanlar[0])"
   ]
  },
  {
   "cell_type": "code",
   "execution_count": 20,
   "id": "59f2a38e",
   "metadata": {},
   "outputs": [
    {
     "name": "stdout",
     "output_type": "stream",
     "text": [
      "En İyi Roman: a1\n"
     ]
    }
   ],
   "source": [
    "fonk(\"a1\",\"a2\",\"b1\")"
   ]
  },
  {
   "cell_type": "code",
   "execution_count": 10,
   "id": "c43eb755",
   "metadata": {},
   "outputs": [
    {
     "ename": "TypeError",
     "evalue": "daire() missing 1 required positional argument: 'r'",
     "output_type": "error",
     "traceback": [
      "\u001b[1;31m---------------------------------------------------------------------------\u001b[0m",
      "\u001b[1;31mTypeError\u001b[0m                                 Traceback (most recent call last)",
      "Input \u001b[1;32mIn [10]\u001b[0m, in \u001b[0;36m<cell line: 1>\u001b[1;34m()\u001b[0m\n\u001b[1;32m----> 1\u001b[0m \u001b[43mdaire\u001b[49m\u001b[43m(\u001b[49m\u001b[43mpi\u001b[49m\u001b[43m)\u001b[49m\n",
      "\u001b[1;31mTypeError\u001b[0m: daire() missing 1 required positional argument: 'r'"
     ]
    }
   ],
   "source": [
    "daire(pi)"
   ]
  },
  {
   "cell_type": "code",
   "execution_count": 21,
   "id": "85780cc6",
   "metadata": {},
   "outputs": [],
   "source": [
    "# Parametre Anahtarı Kullanılan Fonksiyon"
   ]
  },
  {
   "cell_type": "code",
   "execution_count": 22,
   "id": "2dae5dc4",
   "metadata": {},
   "outputs": [],
   "source": [
    "def fnk(meyve1,meyve2,meyve3):\n",
    "    print(\"En Sevdiğim Meyve: \"+meyve3)"
   ]
  },
  {
   "cell_type": "code",
   "execution_count": 23,
   "id": "bc445a01",
   "metadata": {},
   "outputs": [
    {
     "name": "stdout",
     "output_type": "stream",
     "text": [
      "En Sevdiğim Meyve: kiraz\n"
     ]
    }
   ],
   "source": [
    "fnk(meyve1=\"elma\",meyve2=\"armut\",meyve3=\"kiraz\")"
   ]
  },
  {
   "cell_type": "code",
   "execution_count": 24,
   "id": "a59b2755",
   "metadata": {},
   "outputs": [],
   "source": [
    "# İsteğe bağlı Fonksiyon"
   ]
  },
  {
   "cell_type": "code",
   "execution_count": 25,
   "id": "8261920e",
   "metadata": {},
   "outputs": [],
   "source": [
    "def fonks(**personel):\n",
    "    print(\"Soyadı\"+personel[\"soyad\"])"
   ]
  },
  {
   "cell_type": "code",
   "execution_count": 26,
   "id": "60083bc8",
   "metadata": {},
   "outputs": [
    {
     "name": "stdout",
     "output_type": "stream",
     "text": [
      "SoyadıFaydalı\n"
     ]
    }
   ],
   "source": [
    "fonks(ad=\"Tez Kullanıcısı\",soyad=\"Faydalı\")"
   ]
  },
  {
   "cell_type": "code",
   "execution_count": 27,
   "id": "76b9043b",
   "metadata": {},
   "outputs": [],
   "source": [
    "#Fonksiyona Parametre Olarak Bir Liste Göndermek"
   ]
  },
  {
   "cell_type": "code",
   "execution_count": 34,
   "id": "8d4b2899",
   "metadata": {},
   "outputs": [],
   "source": [
    "def fonksiyon(elemanlar):\n",
    "    for i in elemanlar:\n",
    "        print(i)"
   ]
  },
  {
   "cell_type": "code",
   "execution_count": 35,
   "id": "9bf35dda",
   "metadata": {},
   "outputs": [],
   "source": [
    "meyveler=[\"elma\",\"armut\",\"portakal\",\"vişne\",\"karpuz\"]"
   ]
  },
  {
   "cell_type": "code",
   "execution_count": 36,
   "id": "36b9b0c1",
   "metadata": {},
   "outputs": [
    {
     "name": "stdout",
     "output_type": "stream",
     "text": [
      "elma\n",
      "armut\n",
      "portakal\n",
      "vişne\n",
      "karpuz\n"
     ]
    }
   ],
   "source": [
    "fonksiyon(meyveler)"
   ]
  },
  {
   "cell_type": "code",
   "execution_count": 37,
   "id": "1b2aba41",
   "metadata": {},
   "outputs": [],
   "source": [
    "def my_func(a):\n",
    "\n",
    "    return 10*a"
   ]
  },
  {
   "cell_type": "code",
   "execution_count": 38,
   "id": "3af664cc",
   "metadata": {},
   "outputs": [
    {
     "data": {
      "text/plain": [
       "100"
      ]
     },
     "execution_count": 38,
     "metadata": {},
     "output_type": "execute_result"
    }
   ],
   "source": [
    "my_func(10)"
   ]
  },
  {
   "cell_type": "code",
   "execution_count": 39,
   "id": "f8f6aa81",
   "metadata": {},
   "outputs": [
    {
     "name": "stdout",
     "output_type": "stream",
     "text": [
      "20\n",
      "50\n",
      "40\n"
     ]
    }
   ],
   "source": [
    "print(my_func(2))\n",
    "print(my_func(5))\n",
    "print(my_func(4))"
   ]
  },
  {
   "cell_type": "code",
   "execution_count": 40,
   "id": "3fea3ee1",
   "metadata": {},
   "outputs": [
    {
     "name": "stdout",
     "output_type": "stream",
     "text": [
      "15 : 5'in katıdır.\n",
      "85 : 5'in katıdır.\n",
      "65 : 5'in katıdır.\n",
      "30 : 5'in katıdır.\n",
      "10 : 5'in katıdır.\n",
      "20 : 5'in katıdır.\n",
      "5 : 5'in katıdır.\n",
      "Döngü Bitti\n",
      "5'in katı olan sayı adeti : 7\n"
     ]
    }
   ],
   "source": [
    "sayilar = [18,22,15,85,65,30,10,20,32,34,28,101,5,4,32]\n",
    "sayac=0 \n",
    "for sayi in sayilar:\n",
    "   if sayi%5 == 0:\n",
    "      print (str(sayi)+ (\" : 5'in katıdır.\"))\n",
    "      sayac=sayac+1\n",
    "else:\n",
    "   print ('Döngü Bitti')\n",
    "print(\"5'in katı olan sayı adeti : \"+str(sayac))"
   ]
  },
  {
   "cell_type": "code",
   "execution_count": 6,
   "id": "f4bf6c82",
   "metadata": {},
   "outputs": [],
   "source": [
    "def testFunc(eleman):\n",
    "    sayac=0\n",
    "    for sayi in eleman:\n",
    "        if sayi%5 == 0:\n",
    "            print (str(sayi)+ (\" : 5'in katıdır.\"))\n",
    "            sayac=sayac+1\n",
    "        else:\n",
    "            print ('Döngü Bitti')\n",
    "            print(\"5'in katı olan sayı adeti : \"+str(sayac))"
   ]
  },
  {
   "cell_type": "code",
   "execution_count": 7,
   "id": "a20ca98f",
   "metadata": {},
   "outputs": [],
   "source": [
    "sayilar = [18,22,15,85,65,30,10,20,32,34,28,101,5,4,32]"
   ]
  },
  {
   "cell_type": "code",
   "execution_count": 8,
   "id": "a6afa086",
   "metadata": {},
   "outputs": [
    {
     "name": "stdout",
     "output_type": "stream",
     "text": [
      "Döngü Bitti\n",
      "5'in katı olan sayı adeti : 0\n",
      "Döngü Bitti\n",
      "5'in katı olan sayı adeti : 0\n",
      "15 : 5'in katıdır.\n",
      "85 : 5'in katıdır.\n",
      "65 : 5'in katıdır.\n",
      "30 : 5'in katıdır.\n",
      "10 : 5'in katıdır.\n",
      "20 : 5'in katıdır.\n",
      "Döngü Bitti\n",
      "5'in katı olan sayı adeti : 6\n",
      "Döngü Bitti\n",
      "5'in katı olan sayı adeti : 6\n",
      "Döngü Bitti\n",
      "5'in katı olan sayı adeti : 6\n",
      "Döngü Bitti\n",
      "5'in katı olan sayı adeti : 6\n",
      "5 : 5'in katıdır.\n",
      "Döngü Bitti\n",
      "5'in katı olan sayı adeti : 7\n",
      "Döngü Bitti\n",
      "5'in katı olan sayı adeti : 7\n"
     ]
    }
   ],
   "source": [
    "testFunc(sayilar)"
   ]
  },
  {
   "cell_type": "code",
   "execution_count": null,
   "id": "c6da64f4",
   "metadata": {},
   "outputs": [],
   "source": []
  }
 ],
 "metadata": {
  "kernelspec": {
   "display_name": "Python 3 (ipykernel)",
   "language": "python",
   "name": "python3"
  },
  "language_info": {
   "codemirror_mode": {
    "name": "ipython",
    "version": 3
   },
   "file_extension": ".py",
   "mimetype": "text/x-python",
   "name": "python",
   "nbconvert_exporter": "python",
   "pygments_lexer": "ipython3",
   "version": "3.9.12"
  }
 },
 "nbformat": 4,
 "nbformat_minor": 5
}
