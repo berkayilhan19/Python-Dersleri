{
 "cells": [
  {
   "cell_type": "markdown",
   "id": "77bfcca3",
   "metadata": {},
   "source": [
    "Eşittir: a == b\n",
    "Eşit değildir: a != b\n",
    "Küçüktür: a < b\n",
    "Küçük ya da eşittir: a <= b\n",
    "Büyüktür: a > b\n",
    "Büyük ya da eşittir: a >= b"
   ]
  },
  {
   "cell_type": "code",
   "execution_count": 1,
   "id": "c2d8bc56",
   "metadata": {},
   "outputs": [],
   "source": [
    "x=3\n",
    "y=5"
   ]
  },
  {
   "cell_type": "code",
   "execution_count": 3,
   "id": "6094767d",
   "metadata": {},
   "outputs": [],
   "source": [
    "if x>y:\n",
    "    print(\"x y'den büyüktür\")"
   ]
  },
  {
   "cell_type": "code",
   "execution_count": 11,
   "id": "5e8c7d89",
   "metadata": {},
   "outputs": [
    {
     "name": "stdout",
     "output_type": "stream",
     "text": [
      "y x'den büyüktür\n"
     ]
    }
   ],
   "source": [
    "if y>x:\n",
    "    print(\"y x'den büyüktür\")\n",
    "    "
   ]
  },
  {
   "cell_type": "code",
   "execution_count": 22,
   "id": "8a371051",
   "metadata": {},
   "outputs": [],
   "source": [
    "a=48\n",
    "b=45\n",
    "c=58"
   ]
  },
  {
   "cell_type": "code",
   "execution_count": 13,
   "id": "c4c32f48",
   "metadata": {},
   "outputs": [
    {
     "name": "stdout",
     "output_type": "stream",
     "text": [
      "a b'ye eşittir\n"
     ]
    }
   ],
   "source": [
    "if b>a:\n",
    "    print(\"b a'dan büyüktür\")\n",
    "elif b==a:\n",
    "    print(\"a b'ye eşittir\")"
   ]
  },
  {
   "cell_type": "code",
   "execution_count": 20,
   "id": "9f1ade9d",
   "metadata": {},
   "outputs": [
    {
     "name": "stdout",
     "output_type": "stream",
     "text": [
      "a b'den büyüktür ya da eşittir\n"
     ]
    }
   ],
   "source": [
    "if b>a:\n",
    "    print(\"b a'dan büyüktür\")\n",
    "elif a>b:\n",
    "    print(\"a b'den büyüktür\") \n",
    "elif a>=b:\n",
    "    print(\"a b'den büyüktür ya da eşittir\")\n",
    "else:\n",
    "    print(\"c a ve b'den büyüktür\")"
   ]
  },
  {
   "cell_type": "code",
   "execution_count": 23,
   "id": "ccf56998",
   "metadata": {},
   "outputs": [
    {
     "name": "stdout",
     "output_type": "stream",
     "text": [
      "a b'den büyüktür\n"
     ]
    }
   ],
   "source": [
    "if a>b: print(\"a b'den büyüktür\")"
   ]
  },
  {
   "cell_type": "code",
   "execution_count": 27,
   "id": "72051887",
   "metadata": {},
   "outputs": [
    {
     "name": "stdout",
     "output_type": "stream",
     "text": [
      "a\n"
     ]
    }
   ],
   "source": [
    "print(\"a\") if a>b else print(\"=\") if a==b else print(\"b\")"
   ]
  },
  {
   "cell_type": "code",
   "execution_count": 28,
   "id": "004afc8a",
   "metadata": {},
   "outputs": [],
   "source": [
    "# Girilen sayının tek mi çift mi olduğunu bulan Python örneği"
   ]
  },
  {
   "cell_type": "code",
   "execution_count": 29,
   "id": "b8eafda9",
   "metadata": {},
   "outputs": [
    {
     "name": "stdout",
     "output_type": "stream",
     "text": [
      "Lütfen bir sayı giriniz45\n"
     ]
    }
   ],
   "source": [
    "sayi=input(\"Lütfen bir sayı giriniz\")"
   ]
  },
  {
   "cell_type": "code",
   "execution_count": 30,
   "id": "c2cbd750",
   "metadata": {},
   "outputs": [
    {
     "data": {
      "text/plain": [
       "str"
      ]
     },
     "execution_count": 30,
     "metadata": {},
     "output_type": "execute_result"
    }
   ],
   "source": [
    "type(sayi)"
   ]
  },
  {
   "cell_type": "code",
   "execution_count": 31,
   "id": "88320773",
   "metadata": {},
   "outputs": [],
   "source": [
    "sayi=int(sayi)"
   ]
  },
  {
   "cell_type": "code",
   "execution_count": 32,
   "id": "d88f9422",
   "metadata": {},
   "outputs": [
    {
     "data": {
      "text/plain": [
       "int"
      ]
     },
     "execution_count": 32,
     "metadata": {},
     "output_type": "execute_result"
    }
   ],
   "source": [
    "type(sayi)"
   ]
  },
  {
   "cell_type": "code",
   "execution_count": 33,
   "id": "40bbc890",
   "metadata": {},
   "outputs": [
    {
     "name": "stdout",
     "output_type": "stream",
     "text": [
      "Tek sayıdır\n"
     ]
    }
   ],
   "source": [
    "if (sayi%2==0):\n",
    "    print(\"Çift Sayıdır\")\n",
    "else:\n",
    "    print(\"Tek sayıdır\")"
   ]
  },
  {
   "cell_type": "code",
   "execution_count": 34,
   "id": "75edeee7",
   "metadata": {},
   "outputs": [],
   "source": [
    "# sınav sonucu 60 ve üzeri ise geçti veya 60 altı ise kaldı örneği"
   ]
  },
  {
   "cell_type": "code",
   "execution_count": 36,
   "id": "3068beb0",
   "metadata": {},
   "outputs": [
    {
     "name": "stdout",
     "output_type": "stream",
     "text": [
      "SINAV sonucunuzu Giriniz70\n"
     ]
    }
   ],
   "source": [
    "sonuc=input(\"SINAV sonucunuzu Giriniz\")"
   ]
  },
  {
   "cell_type": "code",
   "execution_count": 38,
   "id": "298ca75e",
   "metadata": {},
   "outputs": [
    {
     "data": {
      "text/plain": [
       "str"
      ]
     },
     "execution_count": 38,
     "metadata": {},
     "output_type": "execute_result"
    }
   ],
   "source": [
    "type(sonuc)"
   ]
  },
  {
   "cell_type": "code",
   "execution_count": 39,
   "id": "5c68501d",
   "metadata": {},
   "outputs": [],
   "source": [
    "sonuc=int(sonuc)"
   ]
  },
  {
   "cell_type": "code",
   "execution_count": 40,
   "id": "d19ddd02",
   "metadata": {},
   "outputs": [
    {
     "data": {
      "text/plain": [
       "int"
      ]
     },
     "execution_count": 40,
     "metadata": {},
     "output_type": "execute_result"
    }
   ],
   "source": [
    "type(sonuc)"
   ]
  },
  {
   "cell_type": "code",
   "execution_count": 41,
   "id": "4edd5f75",
   "metadata": {},
   "outputs": [
    {
     "name": "stdout",
     "output_type": "stream",
     "text": [
      "Geçti\n"
     ]
    }
   ],
   "source": [
    "if (sonuc>=60):\n",
    "    print(\"Geçti\")\n",
    "else:\n",
    "    print(\"kaldı\")"
   ]
  },
  {
   "cell_type": "code",
   "execution_count": 42,
   "id": "b9bd28eb",
   "metadata": {},
   "outputs": [],
   "source": [
    "# And  || Or"
   ]
  },
  {
   "cell_type": "code",
   "execution_count": 44,
   "id": "393595e7",
   "metadata": {},
   "outputs": [
    {
     "name": "stdout",
     "output_type": "stream",
     "text": [
      "Her iki ifade doğru\n"
     ]
    }
   ],
   "source": [
    "a=100\n",
    "b=150\n",
    "c=200\n",
    "\n",
    "if a<b and c>a:\n",
    "    print(\"Her iki ifade doğru\")"
   ]
  },
  {
   "cell_type": "code",
   "execution_count": 46,
   "id": "05882a73",
   "metadata": {},
   "outputs": [
    {
     "name": "stdout",
     "output_type": "stream",
     "text": [
      "Koşullardan en az biri doğrudur\n"
     ]
    }
   ],
   "source": [
    "if a>b or c>a:\n",
    "    print(\"Koşullardan en az biri doğrudur\")"
   ]
  },
  {
   "cell_type": "code",
   "execution_count": 47,
   "id": "5bef0787",
   "metadata": {},
   "outputs": [],
   "source": [
    "# İç İçe İf Yapısı"
   ]
  },
  {
   "cell_type": "code",
   "execution_count": 54,
   "id": "3ecea1a4",
   "metadata": {},
   "outputs": [
    {
     "name": "stdout",
     "output_type": "stream",
     "text": [
      "10 dan büyük\n",
      "40 tan büyük değildir\n"
     ]
    }
   ],
   "source": [
    "sayi=35\n",
    "\n",
    "if sayi>10:\n",
    "    print(\"10 dan büyük\")\n",
    "    if sayi>40:\n",
    "        print(\"ve 40 tan büyüktüyr\")\n",
    "    else:\n",
    "        print(\"40 tan büyük değildir\")"
   ]
  },
  {
   "cell_type": "code",
   "execution_count": 59,
   "id": "1596431d",
   "metadata": {},
   "outputs": [
    {
     "name": "stdout",
     "output_type": "stream",
     "text": [
      "Sayi giriniz-60\n",
      "Sayi giriniz40\n",
      "-10.0\n"
     ]
    }
   ],
   "source": [
    "sayi1=int(input(\"Sayi giriniz\"))\n",
    "sayi2=int(input(\"Sayi giriniz\"))\n",
    "\n",
    "\n",
    "ortalama=sayi1+sayi2\n",
    "ort=ortalama/2\n",
    "print(ort)"
   ]
  },
  {
   "cell_type": "code",
   "execution_count": 60,
   "id": "d585f3f0",
   "metadata": {},
   "outputs": [
    {
     "name": "stdout",
     "output_type": "stream",
     "text": [
      "negatif\n"
     ]
    }
   ],
   "source": [
    "if ort>0:\n",
    "    print(\"pozitif\")\n",
    "else:\n",
    "    print(\"negatif\")"
   ]
  },
  {
   "cell_type": "code",
   "execution_count": 61,
   "id": "11ade486",
   "metadata": {},
   "outputs": [
    {
     "name": "stdout",
     "output_type": "stream",
     "text": [
      "negatif\n"
     ]
    }
   ],
   "source": [
    "if ort>0:\n",
    "    print(\"pozitif\")\n",
    "elif ort<0:\n",
    "    print(\"negatif\")"
   ]
  },
  {
   "cell_type": "code",
   "execution_count": null,
   "id": "c6b30c3f",
   "metadata": {},
   "outputs": [],
   "source": [
    " "
   ]
  },
  {
   "cell_type": "code",
   "execution_count": null,
   "id": "47cd50be",
   "metadata": {},
   "outputs": [],
   "source": []
  }
 ],
 "metadata": {
  "kernelspec": {
   "display_name": "Python 3 (ipykernel)",
   "language": "python",
   "name": "python3"
  },
  "language_info": {
   "codemirror_mode": {
    "name": "ipython",
    "version": 3
   },
   "file_extension": ".py",
   "mimetype": "text/x-python",
   "name": "python",
   "nbconvert_exporter": "python",
   "pygments_lexer": "ipython3",
   "version": "3.9.12"
  }
 },
 "nbformat": 4,
 "nbformat_minor": 5
}
