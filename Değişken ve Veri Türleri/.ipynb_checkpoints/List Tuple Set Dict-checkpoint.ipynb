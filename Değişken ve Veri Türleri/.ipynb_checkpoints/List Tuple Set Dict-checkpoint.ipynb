{
 "cells": [
  {
   "cell_type": "code",
   "execution_count": 1,
   "id": "9ae3c5ca",
   "metadata": {},
   "outputs": [],
   "source": [
    "x=[1,2,5,\"elma\",47]"
   ]
  },
  {
   "cell_type": "code",
   "execution_count": 2,
   "id": "811643a5",
   "metadata": {},
   "outputs": [
    {
     "data": {
      "text/plain": [
       "[1, 2, 5, 'elma', 47]"
      ]
     },
     "execution_count": 2,
     "metadata": {},
     "output_type": "execute_result"
    }
   ],
   "source": [
    "x"
   ]
  },
  {
   "cell_type": "code",
   "execution_count": 3,
   "id": "72569e17",
   "metadata": {},
   "outputs": [
    {
     "data": {
      "text/plain": [
       "'elma'"
      ]
     },
     "execution_count": 3,
     "metadata": {},
     "output_type": "execute_result"
    }
   ],
   "source": [
    "x[3]"
   ]
  },
  {
   "cell_type": "code",
   "execution_count": 5,
   "id": "a4f63044",
   "metadata": {},
   "outputs": [],
   "source": [
    "listem=[\"elma\",\"armut\",\"kivi\",18,27,\"karpuz\"]"
   ]
  },
  {
   "cell_type": "code",
   "execution_count": 13,
   "id": "1ae01295",
   "metadata": {},
   "outputs": [
    {
     "name": "stdout",
     "output_type": "stream",
     "text": [
      "elma\n",
      "elma\n"
     ]
    }
   ],
   "source": [
    "print(listem[-6])\n",
    "print(listem[0])"
   ]
  },
  {
   "cell_type": "code",
   "execution_count": 14,
   "id": "cccc0c6f",
   "metadata": {},
   "outputs": [
    {
     "data": {
      "text/plain": [
       "['elma', 'armut', 'kivi']"
      ]
     },
     "execution_count": 14,
     "metadata": {},
     "output_type": "execute_result"
    }
   ],
   "source": [
    "listem[0:3]"
   ]
  },
  {
   "cell_type": "code",
   "execution_count": 17,
   "id": "41c2a06c",
   "metadata": {},
   "outputs": [
    {
     "data": {
      "text/plain": [
       "[18, 27]"
      ]
     },
     "execution_count": 17,
     "metadata": {},
     "output_type": "execute_result"
    }
   ],
   "source": [
    "listem[3:-1]"
   ]
  },
  {
   "cell_type": "code",
   "execution_count": 16,
   "id": "5016d921",
   "metadata": {},
   "outputs": [
    {
     "data": {
      "text/plain": [
       "27"
      ]
     },
     "execution_count": 16,
     "metadata": {},
     "output_type": "execute_result"
    }
   ],
   "source": [
    "listem[-2]"
   ]
  },
  {
   "cell_type": "code",
   "execution_count": 18,
   "id": "fe693f57",
   "metadata": {},
   "outputs": [],
   "source": [
    "listem[1]=25"
   ]
  },
  {
   "cell_type": "code",
   "execution_count": 19,
   "id": "b497cb68",
   "metadata": {},
   "outputs": [
    {
     "data": {
      "text/plain": [
       "['elma', 25, 'kivi', 18, 27, 'karpuz']"
      ]
     },
     "execution_count": 19,
     "metadata": {},
     "output_type": "execute_result"
    }
   ],
   "source": [
    "listem"
   ]
  },
  {
   "cell_type": "code",
   "execution_count": 21,
   "id": "d6475df3",
   "metadata": {},
   "outputs": [
    {
     "name": "stdout",
     "output_type": "stream",
     "text": [
      "elma\n",
      "25\n",
      "kivi\n",
      "18\n",
      "27\n",
      "karpuz\n"
     ]
    }
   ],
   "source": [
    "for item in listem:\n",
    "    print(item)"
   ]
  },
  {
   "cell_type": "code",
   "execution_count": 23,
   "id": "5656f348",
   "metadata": {},
   "outputs": [],
   "source": [
    "if \"kivis\" in listem:\n",
    "    print(\"listede var\")"
   ]
  },
  {
   "cell_type": "code",
   "execution_count": 24,
   "id": "efb4bc17",
   "metadata": {},
   "outputs": [],
   "source": [
    "# Bir dizenin kaç elemanlı olduğunu bulmak"
   ]
  },
  {
   "cell_type": "code",
   "execution_count": 27,
   "id": "be07b8c4",
   "metadata": {},
   "outputs": [
    {
     "name": "stdout",
     "output_type": "stream",
     "text": [
      "6\n"
     ]
    }
   ],
   "source": [
    "print( len(listem))    # Eleman sayısını verir"
   ]
  },
  {
   "cell_type": "code",
   "execution_count": 28,
   "id": "eeb60fdf",
   "metadata": {},
   "outputs": [],
   "source": [
    "# Length uzunluk"
   ]
  },
  {
   "cell_type": "code",
   "execution_count": 30,
   "id": "11658058",
   "metadata": {},
   "outputs": [
    {
     "name": "stdout",
     "output_type": "stream",
     "text": [
      "0\n",
      "1\n",
      "2\n",
      "3\n",
      "4\n",
      "5\n"
     ]
    }
   ],
   "source": [
    "for i in range(len(listem)):  \n",
    "    print(i)"
   ]
  },
  {
   "cell_type": "code",
   "execution_count": 31,
   "id": "1ac83880",
   "metadata": {},
   "outputs": [],
   "source": [
    "# Eleman Ekleme"
   ]
  },
  {
   "cell_type": "code",
   "execution_count": 32,
   "id": "e0f6eb82",
   "metadata": {},
   "outputs": [],
   "source": [
    "listem.append(42.7) # append: listenin sonuna ekleme yapıyor."
   ]
  },
  {
   "cell_type": "code",
   "execution_count": 33,
   "id": "a8c1383f",
   "metadata": {},
   "outputs": [
    {
     "data": {
      "text/plain": [
       "['elma', 25, 'kivi', 18, 27, 'karpuz', 42.7]"
      ]
     },
     "execution_count": 33,
     "metadata": {},
     "output_type": "execute_result"
    }
   ],
   "source": [
    "listem"
   ]
  },
  {
   "cell_type": "code",
   "execution_count": 34,
   "id": "e4cff1bb",
   "metadata": {},
   "outputs": [],
   "source": [
    "listem.insert(3, \"armut\") # insert: vermiş olduğumuz elemandan sonra ekleme yapılıyor."
   ]
  },
  {
   "cell_type": "code",
   "execution_count": 35,
   "id": "762e04ac",
   "metadata": {},
   "outputs": [
    {
     "data": {
      "text/plain": [
       "['elma', 25, 'kivi', 'armut', 18, 27, 'karpuz', 42.7]"
      ]
     },
     "execution_count": 35,
     "metadata": {},
     "output_type": "execute_result"
    }
   ],
   "source": [
    "listem"
   ]
  },
  {
   "cell_type": "code",
   "execution_count": 37,
   "id": "c94754ae",
   "metadata": {},
   "outputs": [],
   "source": [
    "listem.insert(0, \"kiraz\")"
   ]
  },
  {
   "cell_type": "code",
   "execution_count": 38,
   "id": "a12ac9ca",
   "metadata": {},
   "outputs": [
    {
     "data": {
      "text/plain": [
       "['kiraz', 'elma', 25, 'kivi', 'armut', 18, 27, 'karpuz', 42.7]"
      ]
     },
     "execution_count": 38,
     "metadata": {},
     "output_type": "execute_result"
    }
   ],
   "source": [
    "listem"
   ]
  },
  {
   "cell_type": "code",
   "execution_count": 39,
   "id": "a9716266",
   "metadata": {},
   "outputs": [],
   "source": [
    "#Eleman Silme"
   ]
  },
  {
   "cell_type": "code",
   "execution_count": 40,
   "id": "aa5ce6e0",
   "metadata": {},
   "outputs": [],
   "source": [
    "listem.remove(42.7) #remove: belirmiş olduğumuz elemanı siliyoruz."
   ]
  },
  {
   "cell_type": "code",
   "execution_count": 41,
   "id": "8a80e8ae",
   "metadata": {},
   "outputs": [
    {
     "data": {
      "text/plain": [
       "['kiraz', 'elma', 25, 'kivi', 'armut', 18, 27, 'karpuz']"
      ]
     },
     "execution_count": 41,
     "metadata": {},
     "output_type": "execute_result"
    }
   ],
   "source": [
    "listem"
   ]
  },
  {
   "cell_type": "code",
   "execution_count": 42,
   "id": "9e6cf0cd",
   "metadata": {},
   "outputs": [
    {
     "data": {
      "text/plain": [
       "'karpuz'"
      ]
     },
     "execution_count": 42,
     "metadata": {},
     "output_type": "execute_result"
    }
   ],
   "source": [
    "listem.pop() #pop: listenin en sonundaki elemanı siliyor."
   ]
  },
  {
   "cell_type": "code",
   "execution_count": 43,
   "id": "5f35e809",
   "metadata": {},
   "outputs": [
    {
     "data": {
      "text/plain": [
       "['kiraz', 'elma', 25, 'kivi', 'armut', 18, 27]"
      ]
     },
     "execution_count": 43,
     "metadata": {},
     "output_type": "execute_result"
    }
   ],
   "source": [
    "listem"
   ]
  },
  {
   "cell_type": "code",
   "execution_count": 44,
   "id": "8984a1b0",
   "metadata": {},
   "outputs": [
    {
     "name": "stdout",
     "output_type": "stream",
     "text": [
      "['kiraz', 'elma', 'kivi', 'armut', 18, 27]\n"
     ]
    }
   ],
   "source": [
    "del listem[2]\n",
    "print(listem)"
   ]
  },
  {
   "cell_type": "code",
   "execution_count": 45,
   "id": "b68c2225",
   "metadata": {},
   "outputs": [],
   "source": [
    "#Eleman kopyalama"
   ]
  },
  {
   "cell_type": "code",
   "execution_count": 46,
   "id": "3e3c63b0",
   "metadata": {},
   "outputs": [],
   "source": [
    "yeniListe=listem.copy()"
   ]
  },
  {
   "cell_type": "code",
   "execution_count": 47,
   "id": "6df0a2b5",
   "metadata": {},
   "outputs": [
    {
     "data": {
      "text/plain": [
       "['kiraz', 'elma', 'kivi', 'armut', 18, 27]"
      ]
     },
     "execution_count": 47,
     "metadata": {},
     "output_type": "execute_result"
    }
   ],
   "source": [
    "yeniListe"
   ]
  },
  {
   "cell_type": "code",
   "execution_count": 48,
   "id": "0fe9ab9d",
   "metadata": {},
   "outputs": [
    {
     "data": {
      "text/plain": [
       "27"
      ]
     },
     "execution_count": 48,
     "metadata": {},
     "output_type": "execute_result"
    }
   ],
   "source": [
    "yeniListe.pop()"
   ]
  },
  {
   "cell_type": "code",
   "execution_count": 51,
   "id": "7efc3caf",
   "metadata": {},
   "outputs": [],
   "source": [
    "birleşikListe=yeniListe+listem"
   ]
  },
  {
   "cell_type": "code",
   "execution_count": 52,
   "id": "33f5859e",
   "metadata": {},
   "outputs": [
    {
     "data": {
      "text/plain": [
       "['kiraz',\n",
       " 'elma',\n",
       " 'kivi',\n",
       " 'armut',\n",
       " 18,\n",
       " 'kiraz',\n",
       " 'elma',\n",
       " 'kivi',\n",
       " 'armut',\n",
       " 18,\n",
       " 27]"
      ]
     },
     "execution_count": 52,
     "metadata": {},
     "output_type": "execute_result"
    }
   ],
   "source": [
    "birleşikListe"
   ]
  },
  {
   "cell_type": "code",
   "execution_count": 53,
   "id": "031a929c",
   "metadata": {},
   "outputs": [],
   "source": [
    "for i in listem:\n",
    "    birleşikListe.append(i)"
   ]
  },
  {
   "cell_type": "code",
   "execution_count": 55,
   "id": "fb91b8e7",
   "metadata": {},
   "outputs": [
    {
     "data": {
      "text/plain": [
       "['kiraz',\n",
       " 'elma',\n",
       " 'kivi',\n",
       " 'armut',\n",
       " 18,\n",
       " 'kiraz',\n",
       " 'elma',\n",
       " 'kivi',\n",
       " 'armut',\n",
       " 18,\n",
       " 27,\n",
       " 'kiraz',\n",
       " 'elma',\n",
       " 'kivi',\n",
       " 'armut',\n",
       " 18,\n",
       " 27]"
      ]
     },
     "execution_count": 55,
     "metadata": {},
     "output_type": "execute_result"
    }
   ],
   "source": [
    "birleşikListe"
   ]
  },
  {
   "cell_type": "code",
   "execution_count": 61,
   "id": "cd55513b",
   "metadata": {},
   "outputs": [
    {
     "data": {
      "text/plain": [
       "['kiraz', 'elma', 'kivi', 'armut', 18, 27]"
      ]
     },
     "execution_count": 61,
     "metadata": {},
     "output_type": "execute_result"
    }
   ],
   "source": [
    "listem"
   ]
  },
  {
   "cell_type": "code",
   "execution_count": 62,
   "id": "2d608581",
   "metadata": {},
   "outputs": [],
   "source": [
    "# Array dizi ye almak ['', 4, 5, '']\n",
    "# { } \n",
    "# \" \""
   ]
  },
  {
   "cell_type": "code",
   "execution_count": 63,
   "id": "c207ecfa",
   "metadata": {},
   "outputs": [],
   "source": [
    "dList={\"kelime\",2,3}"
   ]
  },
  {
   "cell_type": "code",
   "execution_count": 64,
   "id": "fda780de",
   "metadata": {},
   "outputs": [
    {
     "data": {
      "text/plain": [
       "{2, 3, 'kelime'}"
      ]
     },
     "execution_count": 64,
     "metadata": {},
     "output_type": "execute_result"
    }
   ],
   "source": [
    "dList"
   ]
  },
  {
   "cell_type": "code",
   "execution_count": 65,
   "id": "bb35edc1",
   "metadata": {},
   "outputs": [],
   "source": [
    "# TUPLE"
   ]
  },
  {
   "cell_type": "code",
   "execution_count": 72,
   "id": "53177b0b",
   "metadata": {},
   "outputs": [],
   "source": [
    "listTuple=(\"ağaç\",\"çiçek\",\"güneş\")"
   ]
  },
  {
   "cell_type": "code",
   "execution_count": 73,
   "id": "539d4c29",
   "metadata": {},
   "outputs": [
    {
     "ename": "AttributeError",
     "evalue": "'tuple' object has no attribute 'append'",
     "output_type": "error",
     "traceback": [
      "\u001b[1;31m---------------------------------------------------------------------------\u001b[0m",
      "\u001b[1;31mAttributeError\u001b[0m                            Traceback (most recent call last)",
      "Input \u001b[1;32mIn [73]\u001b[0m, in \u001b[0;36m<cell line: 1>\u001b[1;34m()\u001b[0m\n\u001b[1;32m----> 1\u001b[0m \u001b[43mlistTuple\u001b[49m\u001b[38;5;241;43m.\u001b[39;49m\u001b[43mappend\u001b[49m(\u001b[38;5;124m\"\u001b[39m\u001b[38;5;124mgüneş\u001b[39m\u001b[38;5;124m\"\u001b[39m)\n",
      "\u001b[1;31mAttributeError\u001b[0m: 'tuple' object has no attribute 'append'"
     ]
    }
   ],
   "source": [
    "listTuple.append(\"güneş\")"
   ]
  },
  {
   "cell_type": "code",
   "execution_count": 74,
   "id": "61e82881",
   "metadata": {},
   "outputs": [
    {
     "data": {
      "text/plain": [
       "('ağaç', 'çiçek', 'güneş')"
      ]
     },
     "execution_count": 74,
     "metadata": {},
     "output_type": "execute_result"
    }
   ],
   "source": [
    "listTuple"
   ]
  },
  {
   "cell_type": "code",
   "execution_count": 75,
   "id": "690bb6cc",
   "metadata": {},
   "outputs": [
    {
     "ename": "AttributeError",
     "evalue": "'tuple' object has no attribute 'pop'",
     "output_type": "error",
     "traceback": [
      "\u001b[1;31m---------------------------------------------------------------------------\u001b[0m",
      "\u001b[1;31mAttributeError\u001b[0m                            Traceback (most recent call last)",
      "Input \u001b[1;32mIn [75]\u001b[0m, in \u001b[0;36m<cell line: 1>\u001b[1;34m()\u001b[0m\n\u001b[1;32m----> 1\u001b[0m \u001b[43mlistTuple\u001b[49m\u001b[38;5;241;43m.\u001b[39;49m\u001b[43mpop\u001b[49m()\n",
      "\u001b[1;31mAttributeError\u001b[0m: 'tuple' object has no attribute 'pop'"
     ]
    }
   ],
   "source": [
    "listTuple.pop()"
   ]
  },
  {
   "cell_type": "code",
   "execution_count": 76,
   "id": "32853a56",
   "metadata": {},
   "outputs": [],
   "source": [
    "yeniTuple=list(listTuple) # Tuple ekleme veya silme yapmak istiyorsak önce list çeviriyoruz."
   ]
  },
  {
   "cell_type": "code",
   "execution_count": 77,
   "id": "5c93b309",
   "metadata": {},
   "outputs": [
    {
     "data": {
      "text/plain": [
       "['ağaç', 'çiçek', 'güneş']"
      ]
     },
     "execution_count": 77,
     "metadata": {},
     "output_type": "execute_result"
    }
   ],
   "source": [
    "yeniTuple"
   ]
  },
  {
   "cell_type": "code",
   "execution_count": 79,
   "id": "f2d5a036",
   "metadata": {},
   "outputs": [],
   "source": [
    "yeniTuple.append(\"kuş\")"
   ]
  },
  {
   "cell_type": "code",
   "execution_count": 82,
   "id": "001bfec7",
   "metadata": {},
   "outputs": [],
   "source": [
    "#kuş=\"Papağan\"\n",
    "yeniTuple.append(kuş)"
   ]
  },
  {
   "cell_type": "code",
   "execution_count": 83,
   "id": "53e7ca40",
   "metadata": {},
   "outputs": [
    {
     "data": {
      "text/plain": [
       "['ağaç', 'çiçek', 'güneş', 'kuş', 'Papağan', 'Papağan']"
      ]
     },
     "execution_count": 83,
     "metadata": {},
     "output_type": "execute_result"
    }
   ],
   "source": [
    "yeniTuple"
   ]
  },
  {
   "cell_type": "code",
   "execution_count": 85,
   "id": "de4cf2cd",
   "metadata": {},
   "outputs": [
    {
     "name": "stdout",
     "output_type": "stream",
     "text": [
      "(1, 2, 'yıldız', 5, 'köpek', 19)\n"
     ]
    }
   ],
   "source": [
    "tuple1=(1,2,\"yıldız\")\n",
    "tuple2=(5,\"köpek\",19)\n",
    "toplamTuple=tuple1+tuple2\n",
    "print(toplamTuple)\n"
   ]
  },
  {
   "cell_type": "code",
   "execution_count": 86,
   "id": "2a4a17e5",
   "metadata": {},
   "outputs": [],
   "source": [
    "# Set diziler"
   ]
  },
  {
   "cell_type": "code",
   "execution_count": 87,
   "id": "0e7e2627",
   "metadata": {},
   "outputs": [],
   "source": [
    "setList={'ağaç', 'çiçek', 'güneş', 'kuş', 'Papağan', 'Papağan'}"
   ]
  },
  {
   "cell_type": "code",
   "execution_count": 88,
   "id": "061949e0",
   "metadata": {},
   "outputs": [
    {
     "data": {
      "text/plain": [
       "{'Papağan', 'ağaç', 'güneş', 'kuş', 'çiçek'}"
      ]
     },
     "execution_count": 88,
     "metadata": {},
     "output_type": "execute_result"
    }
   ],
   "source": [
    "setList"
   ]
  },
  {
   "cell_type": "code",
   "execution_count": 89,
   "id": "00fc7018",
   "metadata": {},
   "outputs": [
    {
     "ename": "TypeError",
     "evalue": "'set' object is not subscriptable",
     "output_type": "error",
     "traceback": [
      "\u001b[1;31m---------------------------------------------------------------------------\u001b[0m",
      "\u001b[1;31mTypeError\u001b[0m                                 Traceback (most recent call last)",
      "Input \u001b[1;32mIn [89]\u001b[0m, in \u001b[0;36m<cell line: 1>\u001b[1;34m()\u001b[0m\n\u001b[1;32m----> 1\u001b[0m \u001b[43msetList\u001b[49m\u001b[43m[\u001b[49m\u001b[38;5;241;43m0\u001b[39;49m\u001b[43m]\u001b[49m\n",
      "\u001b[1;31mTypeError\u001b[0m: 'set' object is not subscriptable"
     ]
    }
   ],
   "source": [
    "setList[0]"
   ]
  },
  {
   "cell_type": "code",
   "execution_count": 90,
   "id": "1d22c5e4",
   "metadata": {},
   "outputs": [
    {
     "data": {
      "text/plain": [
       "{'Papağan', 'ağaç', 'güneş', 'kuş', 'çiçek'}"
      ]
     },
     "execution_count": 90,
     "metadata": {},
     "output_type": "execute_result"
    }
   ],
   "source": [
    "setList"
   ]
  },
  {
   "cell_type": "code",
   "execution_count": 92,
   "id": "ac26f76e",
   "metadata": {},
   "outputs": [
    {
     "name": "stdout",
     "output_type": "stream",
     "text": [
      "güneş\n",
      "çiçek\n",
      "ağaç\n",
      "kuş\n",
      "Papağan\n"
     ]
    }
   ],
   "source": [
    "for i in setList:\n",
    "    print(i)"
   ]
  },
  {
   "cell_type": "code",
   "execution_count": 93,
   "id": "dfaf2ba9",
   "metadata": {},
   "outputs": [
    {
     "name": "stdout",
     "output_type": "stream",
     "text": [
      "True\n"
     ]
    }
   ],
   "source": [
    "print(\"ağaç\"in setList)"
   ]
  },
  {
   "cell_type": "code",
   "execution_count": 94,
   "id": "f766fb23",
   "metadata": {},
   "outputs": [],
   "source": [
    "setList.add(\"araba\")"
   ]
  },
  {
   "cell_type": "code",
   "execution_count": 95,
   "id": "2f9e009e",
   "metadata": {},
   "outputs": [],
   "source": [
    "opel=2020\n",
    "setList.add(opel)"
   ]
  },
  {
   "cell_type": "code",
   "execution_count": 96,
   "id": "e8c9eb8b",
   "metadata": {},
   "outputs": [
    {
     "data": {
      "text/plain": [
       "{2020, 'Papağan', 'araba', 'ağaç', 'güneş', 'kuş', 'çiçek'}"
      ]
     },
     "execution_count": 96,
     "metadata": {},
     "output_type": "execute_result"
    }
   ],
   "source": [
    "setList"
   ]
  },
  {
   "cell_type": "code",
   "execution_count": 97,
   "id": "59799a06",
   "metadata": {},
   "outputs": [],
   "source": [
    "setList.update([\"teker\",50])"
   ]
  },
  {
   "cell_type": "code",
   "execution_count": 98,
   "id": "a2694ac4",
   "metadata": {},
   "outputs": [
    {
     "data": {
      "text/plain": [
       "{2020, 50, 'Papağan', 'araba', 'ağaç', 'güneş', 'kuş', 'teker', 'çiçek'}"
      ]
     },
     "execution_count": 98,
     "metadata": {},
     "output_type": "execute_result"
    }
   ],
   "source": [
    "setList"
   ]
  },
  {
   "cell_type": "code",
   "execution_count": 99,
   "id": "1a99bfe7",
   "metadata": {},
   "outputs": [
    {
     "data": {
      "text/plain": [
       "'güneş'"
      ]
     },
     "execution_count": 99,
     "metadata": {},
     "output_type": "execute_result"
    }
   ],
   "source": [
    "setList.pop() #set türü dizelerde pop kullanmıyoruz.çünkü hangisini sileceğini bilmiyoruz. o yüzden remove kullanıyoruz. "
   ]
  },
  {
   "cell_type": "code",
   "execution_count": 100,
   "id": "d6ea995c",
   "metadata": {},
   "outputs": [
    {
     "data": {
      "text/plain": [
       "{2020, 50, 'Papağan', 'araba', 'ağaç', 'kuş', 'teker', 'çiçek'}"
      ]
     },
     "execution_count": 100,
     "metadata": {},
     "output_type": "execute_result"
    }
   ],
   "source": [
    "setList"
   ]
  },
  {
   "cell_type": "code",
   "execution_count": 101,
   "id": "95c5aeba",
   "metadata": {},
   "outputs": [],
   "source": [
    "setList.remove(50)"
   ]
  },
  {
   "cell_type": "code",
   "execution_count": 102,
   "id": "32449e41",
   "metadata": {},
   "outputs": [
    {
     "data": {
      "text/plain": [
       "{2020, 'Papağan', 'araba', 'ağaç', 'kuş', 'teker', 'çiçek'}"
      ]
     },
     "execution_count": 102,
     "metadata": {},
     "output_type": "execute_result"
    }
   ],
   "source": [
    "setList"
   ]
  },
  {
   "cell_type": "code",
   "execution_count": 103,
   "id": "8f13d2b9",
   "metadata": {},
   "outputs": [
    {
     "ename": "KeyError",
     "evalue": "'çilek'",
     "output_type": "error",
     "traceback": [
      "\u001b[1;31m---------------------------------------------------------------------------\u001b[0m",
      "\u001b[1;31mKeyError\u001b[0m                                  Traceback (most recent call last)",
      "Input \u001b[1;32mIn [103]\u001b[0m, in \u001b[0;36m<cell line: 1>\u001b[1;34m()\u001b[0m\n\u001b[1;32m----> 1\u001b[0m \u001b[43msetList\u001b[49m\u001b[38;5;241;43m.\u001b[39;49m\u001b[43mremove\u001b[49m\u001b[43m(\u001b[49m\u001b[38;5;124;43m\"\u001b[39;49m\u001b[38;5;124;43mçilek\u001b[39;49m\u001b[38;5;124;43m\"\u001b[39;49m\u001b[43m)\u001b[49m\n",
      "\u001b[1;31mKeyError\u001b[0m: 'çilek'"
     ]
    }
   ],
   "source": [
    "setList.remove(\"çilek\")"
   ]
  },
  {
   "cell_type": "code",
   "execution_count": 106,
   "id": "8179c5f5",
   "metadata": {},
   "outputs": [],
   "source": [
    "setList.discard(\"ağaç\") # discard: dizede var olanı siliyor. Olmayanı hata vermeden bırakıyor."
   ]
  },
  {
   "cell_type": "code",
   "execution_count": 107,
   "id": "afd7c038",
   "metadata": {},
   "outputs": [
    {
     "data": {
      "text/plain": [
       "{2020, 'Papağan', 'araba', 'kuş', 'teker', 'çiçek'}"
      ]
     },
     "execution_count": 107,
     "metadata": {},
     "output_type": "execute_result"
    }
   ],
   "source": [
    "setList"
   ]
  },
  {
   "cell_type": "code",
   "execution_count": 108,
   "id": "e3a69b27",
   "metadata": {},
   "outputs": [],
   "source": [
    "setList.clear() #clear: dizedeki bütün nesneleri siler."
   ]
  },
  {
   "cell_type": "code",
   "execution_count": 109,
   "id": "8510ad9c",
   "metadata": {},
   "outputs": [
    {
     "name": "stdout",
     "output_type": "stream",
     "text": [
      "set()\n"
     ]
    }
   ],
   "source": [
    "print(setList)"
   ]
  },
  {
   "cell_type": "code",
   "execution_count": 110,
   "id": "1a00dae6",
   "metadata": {},
   "outputs": [],
   "source": [
    "del setList"
   ]
  },
  {
   "cell_type": "code",
   "execution_count": 111,
   "id": "b53418a3",
   "metadata": {},
   "outputs": [
    {
     "ename": "NameError",
     "evalue": "name 'setList' is not defined",
     "output_type": "error",
     "traceback": [
      "\u001b[1;31m---------------------------------------------------------------------------\u001b[0m",
      "\u001b[1;31mNameError\u001b[0m                                 Traceback (most recent call last)",
      "Input \u001b[1;32mIn [111]\u001b[0m, in \u001b[0;36m<cell line: 1>\u001b[1;34m()\u001b[0m\n\u001b[1;32m----> 1\u001b[0m \u001b[38;5;28mprint\u001b[39m(\u001b[43msetList\u001b[49m)\n",
      "\u001b[1;31mNameError\u001b[0m: name 'setList' is not defined"
     ]
    }
   ],
   "source": [
    "print(setList)"
   ]
  },
  {
   "cell_type": "code",
   "execution_count": 112,
   "id": "2762011b",
   "metadata": {},
   "outputs": [],
   "source": [
    "# Dictionary DICT ler"
   ]
  },
  {
   "cell_type": "code",
   "execution_count": 113,
   "id": "d9a90f7b",
   "metadata": {},
   "outputs": [
    {
     "name": "stdout",
     "output_type": "stream",
     "text": [
      "{'villa': 'Dublex', 'apt': 'konut', 'arsa': 'tarla'}\n"
     ]
    }
   ],
   "source": [
    "ornekDict={\n",
    "\n",
    "\"villa\":\"Dublex\",\n",
    "\"apt\":\"konut\",\n",
    "\"arsa\":\"tarla\"\n",
    "}\n",
    "\n",
    "print(ornekDict)"
   ]
  },
  {
   "cell_type": "code",
   "execution_count": 118,
   "id": "77436358",
   "metadata": {},
   "outputs": [],
   "source": [
    "x=ornekDict[\"villa\"]"
   ]
  },
  {
   "cell_type": "code",
   "execution_count": 119,
   "id": "dc450aa3",
   "metadata": {},
   "outputs": [
    {
     "data": {
      "text/plain": [
       "'Dublex'"
      ]
     },
     "execution_count": 119,
     "metadata": {},
     "output_type": "execute_result"
    }
   ],
   "source": [
    "x"
   ]
  },
  {
   "cell_type": "code",
   "execution_count": 120,
   "id": "be5cb029",
   "metadata": {},
   "outputs": [],
   "source": [
    "y=ornekDict.get(\"apt\")"
   ]
  },
  {
   "cell_type": "code",
   "execution_count": 121,
   "id": "baae48c6",
   "metadata": {},
   "outputs": [
    {
     "data": {
      "text/plain": [
       "'konut'"
      ]
     },
     "execution_count": 121,
     "metadata": {},
     "output_type": "execute_result"
    }
   ],
   "source": [
    "y"
   ]
  },
  {
   "cell_type": "code",
   "execution_count": 123,
   "id": "919f6796",
   "metadata": {},
   "outputs": [],
   "source": [
    "ornekDict[\"arsa\"]=\"müstakil\""
   ]
  },
  {
   "cell_type": "code",
   "execution_count": 125,
   "id": "912c2180",
   "metadata": {},
   "outputs": [
    {
     "data": {
      "text/plain": [
       "{'villa': 'Dublex', 'apt': 'konut', 'arsa': 'müstakil'}"
      ]
     },
     "execution_count": 125,
     "metadata": {},
     "output_type": "execute_result"
    }
   ],
   "source": [
    "ornekDict"
   ]
  },
  {
   "cell_type": "code",
   "execution_count": 126,
   "id": "202a03fb",
   "metadata": {},
   "outputs": [
    {
     "name": "stdout",
     "output_type": "stream",
     "text": [
      "villa\n",
      "apt\n",
      "arsa\n"
     ]
    }
   ],
   "source": [
    "for i in ornekDict:\n",
    "    print(i)"
   ]
  },
  {
   "cell_type": "code",
   "execution_count": 127,
   "id": "30a99353",
   "metadata": {},
   "outputs": [
    {
     "name": "stdout",
     "output_type": "stream",
     "text": [
      "Dublex\n",
      "konut\n",
      "müstakil\n"
     ]
    }
   ],
   "source": [
    "for i in ornekDict:\n",
    "    print(ornekDict[i])"
   ]
  },
  {
   "cell_type": "code",
   "execution_count": 128,
   "id": "3aa89435",
   "metadata": {},
   "outputs": [],
   "source": [
    "ornekDict[\"bahçe\"]=\"Ağaç\""
   ]
  },
  {
   "cell_type": "code",
   "execution_count": 129,
   "id": "6b5bf622",
   "metadata": {},
   "outputs": [
    {
     "data": {
      "text/plain": [
       "{'villa': 'Dublex', 'apt': 'konut', 'arsa': 'müstakil', 'bahçe': 'Ağaç'}"
      ]
     },
     "execution_count": 129,
     "metadata": {},
     "output_type": "execute_result"
    }
   ],
   "source": [
    "ornekDict"
   ]
  },
  {
   "cell_type": "code",
   "execution_count": 133,
   "id": "6a69abe4",
   "metadata": {},
   "outputs": [
    {
     "data": {
      "text/plain": [
       "'Dublex'"
      ]
     },
     "execution_count": 133,
     "metadata": {},
     "output_type": "execute_result"
    }
   ],
   "source": [
    "ornekDict.pop(\"villa\")"
   ]
  },
  {
   "cell_type": "code",
   "execution_count": 134,
   "id": "c4c5afd4",
   "metadata": {},
   "outputs": [
    {
     "data": {
      "text/plain": [
       "{'apt': 'konut', 'arsa': 'müstakil', 'bahçe': 'Ağaç'}"
      ]
     },
     "execution_count": 134,
     "metadata": {},
     "output_type": "execute_result"
    }
   ],
   "source": [
    "ornekDict"
   ]
  },
  {
   "cell_type": "code",
   "execution_count": 137,
   "id": "a5fae42c",
   "metadata": {},
   "outputs": [
    {
     "ename": "KeyError",
     "evalue": "'arsa'",
     "output_type": "error",
     "traceback": [
      "\u001b[1;31m---------------------------------------------------------------------------\u001b[0m",
      "\u001b[1;31mKeyError\u001b[0m                                  Traceback (most recent call last)",
      "Input \u001b[1;32mIn [137]\u001b[0m, in \u001b[0;36m<cell line: 1>\u001b[1;34m()\u001b[0m\n\u001b[1;32m----> 1\u001b[0m \u001b[38;5;28;01mdel\u001b[39;00m ornekDict[\u001b[38;5;124m\"\u001b[39m\u001b[38;5;124marsa\u001b[39m\u001b[38;5;124m\"\u001b[39m]\n\u001b[0;32m      2\u001b[0m ornekDict\n",
      "\u001b[1;31mKeyError\u001b[0m: 'arsa'"
     ]
    }
   ],
   "source": [
    "del ornekDict[\"arsa\"]"
   ]
  },
  {
   "cell_type": "code",
   "execution_count": 136,
   "id": "5b335d45",
   "metadata": {},
   "outputs": [
    {
     "data": {
      "text/plain": [
       "{'apt': 'konut', 'bahçe': 'Ağaç'}"
      ]
     },
     "execution_count": 136,
     "metadata": {},
     "output_type": "execute_result"
    }
   ],
   "source": [
    "ornekDict"
   ]
  },
  {
   "cell_type": "code",
   "execution_count": 138,
   "id": "a0cbae48",
   "metadata": {},
   "outputs": [
    {
     "data": {
      "text/plain": [
       "{}"
      ]
     },
     "execution_count": 138,
     "metadata": {},
     "output_type": "execute_result"
    }
   ],
   "source": [
    "ornekDict.clear()\n",
    "ornekDict"
   ]
  },
  {
   "cell_type": "code",
   "execution_count": 142,
   "id": "e0162dde",
   "metadata": {},
   "outputs": [
    {
     "ename": "NameError",
     "evalue": "name 'ornekDict' is not defined",
     "output_type": "error",
     "traceback": [
      "\u001b[1;31m---------------------------------------------------------------------------\u001b[0m",
      "\u001b[1;31mNameError\u001b[0m                                 Traceback (most recent call last)",
      "Input \u001b[1;32mIn [142]\u001b[0m, in \u001b[0;36m<cell line: 1>\u001b[1;34m()\u001b[0m\n\u001b[1;32m----> 1\u001b[0m \u001b[38;5;28;01mdel\u001b[39;00m ornekDict\n\u001b[0;32m      2\u001b[0m \u001b[38;5;28mprint\u001b[39m(ornekDict)\n",
      "\u001b[1;31mNameError\u001b[0m: name 'ornekDict' is not defined"
     ]
    }
   ],
   "source": [
    "del ornekDict\n",
    "print(ornekDict)"
   ]
  },
  {
   "cell_type": "code",
   "execution_count": 145,
   "id": "baca1500",
   "metadata": {},
   "outputs": [
    {
     "name": "stdout",
     "output_type": "stream",
     "text": [
      "{'ali': {'Adi': 'Ali', 'Soyadi': 'Tunçn', 'Yaş': 25}, 'veli': {'Adi': 'Veli', 'Soyadi': 'Genç', 'Yaş': 32}, 'osman': {'Adi': 'Osman', 'Soyadi': 'Saat', 'Yaş': 44}}\n"
     ]
    }
   ],
   "source": [
    "person = {\n",
    "\"ali\": {\n",
    "\"Adi\": \"Ali\",\n",
    "\"Soyadi\": \"Tunçn\",\n",
    "    \"Yaş\":25\n",
    "},\n",
    "\"veli\": {\n",
    "\"Adi\": \"Veli\",\n",
    "\"Soyadi\": \"Genç\",\n",
    "    \"Yaş\":32\n",
    "}\n",
    ",\n",
    "\"osman\": {\n",
    "\"Adi\": \"Osman\",\n",
    "\"Soyadi\": \"Saat\",\n",
    "    \"Yaş\":44\n",
    "}\n",
    "}\n",
    "print(person)"
   ]
  },
  {
   "cell_type": "code",
   "execution_count": 148,
   "id": "62c683f2",
   "metadata": {},
   "outputs": [
    {
     "name": "stdout",
     "output_type": "stream",
     "text": [
      "{'Adi': 'Ali', 'Soyadi': 'Tunçn', 'Yaş': 25}\n",
      "{'Adi': 'Veli', 'Soyadi': 'Genç', 'Yaş': 32}\n",
      "{'Adi': 'Osman', 'Soyadi': 'Saat', 'Yaş': 44}\n"
     ]
    }
   ],
   "source": [
    "for i in person:\n",
    "    print(person[i])"
   ]
  },
  {
   "cell_type": "code",
   "execution_count": 149,
   "id": "b5c75431",
   "metadata": {},
   "outputs": [
    {
     "data": {
      "text/plain": [
       "dict"
      ]
     },
     "execution_count": 149,
     "metadata": {},
     "output_type": "execute_result"
    }
   ],
   "source": [
    "type(person)"
   ]
  },
  {
   "cell_type": "code",
   "execution_count": 150,
   "id": "7573feea",
   "metadata": {},
   "outputs": [
    {
     "data": {
      "text/plain": [
       "int"
      ]
     },
     "execution_count": 150,
     "metadata": {},
     "output_type": "execute_result"
    }
   ],
   "source": [
    "x=67\n",
    "type(x)"
   ]
  },
  {
   "cell_type": "code",
   "execution_count": null,
   "id": "4f4bf384",
   "metadata": {},
   "outputs": [],
   "source": []
  }
 ],
 "metadata": {
  "kernelspec": {
   "display_name": "Python 3 (ipykernel)",
   "language": "python",
   "name": "python3"
  },
  "language_info": {
   "codemirror_mode": {
    "name": "ipython",
    "version": 3
   },
   "file_extension": ".py",
   "mimetype": "text/x-python",
   "name": "python",
   "nbconvert_exporter": "python",
   "pygments_lexer": "ipython3",
   "version": "3.9.12"
  }
 },
 "nbformat": 4,
 "nbformat_minor": 5
}
