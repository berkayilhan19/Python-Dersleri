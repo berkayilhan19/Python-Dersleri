{
 "cells": [
  {
   "cell_type": "code",
   "execution_count": 1,
   "id": "59a200a7",
   "metadata": {},
   "outputs": [],
   "source": [
    "ifade1=\"Hava güzel \"\n",
    "ifade=\"ve güneşli\""
   ]
  },
  {
   "cell_type": "code",
   "execution_count": 2,
   "id": "10c6d8ff",
   "metadata": {},
   "outputs": [
    {
     "name": "stdout",
     "output_type": "stream",
     "text": [
      "Hava güzel ve güneşli\n"
     ]
    }
   ],
   "source": [
    "print(ifade1+ifade)"
   ]
  },
  {
   "cell_type": "code",
   "execution_count": 3,
   "id": "17dece74",
   "metadata": {},
   "outputs": [],
   "source": [
    "degisken1=\"Python dersleri\"\n",
    "degisken2=\"bölüm 1\"\n",
    "sayiDegisken=45\n",
    "digerSayi=64\n",
    "boyunu=180.4\n",
    "\n"
   ]
  },
  {
   "cell_type": "code",
   "execution_count": 4,
   "id": "d7485f47",
   "metadata": {},
   "outputs": [
    {
     "name": "stdout",
     "output_type": "stream",
     "text": [
      "Python dersleri bölüm 1\n"
     ]
    }
   ],
   "source": [
    "print(degisken1+\" \"+degisken2)"
   ]
  },
  {
   "cell_type": "code",
   "execution_count": null,
   "id": "09c63e3b",
   "metadata": {},
   "outputs": [],
   "source": []
  },
  {
   "cell_type": "code",
   "execution_count": 5,
   "id": "3b4a3b38",
   "metadata": {},
   "outputs": [
    {
     "name": "stdout",
     "output_type": "stream",
     "text": [
      "Toplam: 109\n"
     ]
    }
   ],
   "source": [
    "print(\"Toplam:\",sayiDegisken+digerSayi)"
   ]
  },
  {
   "cell_type": "code",
   "execution_count": 6,
   "id": "108ae258",
   "metadata": {},
   "outputs": [
    {
     "name": "stdout",
     "output_type": "stream",
     "text": [
      "Adınızı girinizaa\n",
      "Soyadınızı girinizbb\n",
      "İsminiz aa bb\n"
     ]
    }
   ],
   "source": [
    "ad=input(\"Adınızı giriniz\")\n",
    "soyad=input(\"Soyadınızı giriniz\")\n",
    "print(\"İsminiz\", ad+\" \"+soyad)"
   ]
  },
  {
   "cell_type": "code",
   "execution_count": 7,
   "id": "eddd8710",
   "metadata": {},
   "outputs": [
    {
     "name": "stdout",
     "output_type": "stream",
     "text": [
      "İlk Renkrr\n",
      "İkinci Renkgg\n",
      "Aklından sayi tut4\n",
      "Renk rr gg 4\n"
     ]
    }
   ],
   "source": [
    "renk1=input(\"İlk Renk\")\n",
    "#renk1=\"turuncu\"\n",
    "renk2=input(\"İkinci Renk\")\n",
    "tutulanSayi=input(\"Aklından sayi tut\")\n",
    "print(\"Renk\", renk1+\" \"+renk2+ \" \"+tutulanSayi)"
   ]
  },
  {
   "cell_type": "code",
   "execution_count": 8,
   "id": "9067ef9d",
   "metadata": {},
   "outputs": [],
   "source": [
    "sonuc=renk2+ \" \"+ renk1"
   ]
  },
  {
   "cell_type": "code",
   "execution_count": 9,
   "id": "3ed6185a",
   "metadata": {},
   "outputs": [
    {
     "name": "stdout",
     "output_type": "stream",
     "text": [
      "gg rr\n"
     ]
    }
   ],
   "source": [
    "print(sonuc)"
   ]
  },
  {
   "cell_type": "code",
   "execution_count": 10,
   "id": "8e91ce4d",
   "metadata": {},
   "outputs": [],
   "source": [
    "sayi1=1\n",
    "sayi2=5\n",
    "sayi3=23.5\n",
    "bilgi=\"sonuçlar\""
   ]
  },
  {
   "cell_type": "code",
   "execution_count": 11,
   "id": "8f398e3c",
   "metadata": {},
   "outputs": [
    {
     "name": "stdout",
     "output_type": "stream",
     "text": [
      "118.5\n"
     ]
    }
   ],
   "source": [
    "print(sayi1+sayi2*sayi3)"
   ]
  },
  {
   "cell_type": "code",
   "execution_count": 12,
   "id": "977bb872",
   "metadata": {},
   "outputs": [
    {
     "name": "stdout",
     "output_type": "stream",
     "text": [
      "Buyunuz55\n",
      "Kilonuz55\n"
     ]
    }
   ],
   "source": [
    "boy1=input(\"Buyunuz\")\n",
    "kilo=input(\"Kilonuz\")\n"
   ]
  },
  {
   "cell_type": "code",
   "execution_count": 13,
   "id": "73bbf693",
   "metadata": {},
   "outputs": [
    {
     "name": "stdout",
     "output_type": "stream",
     "text": [
      "55\n"
     ]
    }
   ],
   "source": [
    "print(boy1)"
   ]
  },
  {
   "cell_type": "code",
   "execution_count": 14,
   "id": "88bf7901",
   "metadata": {},
   "outputs": [
    {
     "name": "stdout",
     "output_type": "stream",
     "text": [
      "55\n"
     ]
    }
   ],
   "source": [
    "print(kilo)"
   ]
  },
  {
   "cell_type": "code",
   "execution_count": 15,
   "id": "b017506f",
   "metadata": {},
   "outputs": [
    {
     "name": "stdout",
     "output_type": "stream",
     "text": [
      "Boyunuz:  55 Kilonuz:55\n"
     ]
    }
   ],
   "source": [
    "print(\"Boyunuz: \",boy1+\" \"+\"Kilonuz:\"+ kilo)"
   ]
  },
  {
   "cell_type": "code",
   "execution_count": 16,
   "id": "5b0deaab",
   "metadata": {},
   "outputs": [
    {
     "name": "stdout",
     "output_type": "stream",
     "text": [
      "Portakal\n",
      "Muz\n",
      "Kiraz\n"
     ]
    }
   ],
   "source": [
    "x, y, z = \"Portakal\", \"Muz\", \"Kiraz\"\n",
    "print(x)\n",
    "print(y)\n",
    "print(z)"
   ]
  },
  {
   "cell_type": "code",
   "execution_count": 17,
   "id": "058cdf70",
   "metadata": {},
   "outputs": [
    {
     "name": "stdout",
     "output_type": "stream",
     "text": [
      "Deneme\n",
      "Deneme\n",
      "Deneme\n"
     ]
    }
   ],
   "source": [
    "x=y=z=\"Deneme\"\n",
    "print(x)\n",
    "print(y)\n",
    "print(z)"
   ]
  },
  {
   "cell_type": "code",
   "execution_count": 18,
   "id": "dda6fdf5",
   "metadata": {},
   "outputs": [],
   "source": [
    "#TÜr Dünüşüm İşlemleri"
   ]
  },
  {
   "cell_type": "markdown",
   "id": "1c0eee2e",
   "metadata": {},
   "source": [
    "str\n",
    "int\n",
    "float"
   ]
  },
  {
   "cell_type": "code",
   "execution_count": 19,
   "id": "2c33fb81",
   "metadata": {},
   "outputs": [
    {
     "name": "stdout",
     "output_type": "stream",
     "text": [
      "Lütfen yaşınızı giriniz: 66\n",
      "Ad Soyad Giriniz: gg\n",
      "66gg\n"
     ]
    }
   ],
   "source": [
    "yasDegiskeni= int(input(\"Lütfen yaşınızı giriniz: \"))\n",
    "adSoyad=input(\"Ad Soyad Giriniz: \")\n",
    "\n",
    "print(str(yasDegiskeni) + adSoyad)"
   ]
  },
  {
   "cell_type": "code",
   "execution_count": 20,
   "id": "c4608928",
   "metadata": {},
   "outputs": [
    {
     "name": "stdout",
     "output_type": "stream",
     "text": [
      "Birinci Ders Notu: 4\n",
      "İkinci Ders Notu: 5\n"
     ]
    }
   ],
   "source": [
    "dersNotu1=int(input(\"Birinci Ders Notu: \"))\n",
    "dersNotu2=int(input(\"İkinci Ders Notu: \"))\n",
    "\n"
   ]
  },
  {
   "cell_type": "code",
   "execution_count": 21,
   "id": "493b40aa",
   "metadata": {},
   "outputs": [
    {
     "name": "stdout",
     "output_type": "stream",
     "text": [
      "Üçüncü Ders Notu: 6\n"
     ]
    }
   ],
   "source": [
    "dersNotu3=input(\"Üçüncü Ders Notu: \")"
   ]
  },
  {
   "cell_type": "code",
   "execution_count": 22,
   "id": "872f0772",
   "metadata": {},
   "outputs": [],
   "source": [
    "ortalama=(dersNotu1+dersNotu2+int(dersNotu3))/3"
   ]
  },
  {
   "cell_type": "code",
   "execution_count": 23,
   "id": "dbfbe1bb",
   "metadata": {},
   "outputs": [
    {
     "name": "stdout",
     "output_type": "stream",
     "text": [
      "5.0\n"
     ]
    }
   ],
   "source": [
    "print(ortalama)  "
   ]
  },
  {
   "cell_type": "code",
   "execution_count": 24,
   "id": "342ed87a",
   "metadata": {},
   "outputs": [],
   "source": [
    "# Kullanıcıdan Ad Bilgisi\n",
    "# Boy Bilgisi alıncak\n",
    "# Boy bilgisinin yarını alınarak Ad bilgisi ile ekrana yazdırılacak"
   ]
  },
  {
   "cell_type": "markdown",
   "id": "02d18d2a",
   "metadata": {},
   "source": [
    "#Algoritma Oluşturma\n",
    "x=Ad\n",
    "y=Boy\n",
    "yarısı=y/2\n",
    "t=x+str(yarısı)\n",
    "print(t)"
   ]
  },
  {
   "cell_type": "code",
   "execution_count": 27,
   "id": "028a42fa",
   "metadata": {},
   "outputs": [],
   "source": [
    "isim=\"Berkay\"\n",
    "boy=150"
   ]
  },
  {
   "cell_type": "code",
   "execution_count": 28,
   "id": "ceede3cb",
   "metadata": {},
   "outputs": [],
   "source": [
    "x=str(150/2)+\" \"+isim"
   ]
  },
  {
   "cell_type": "code",
   "execution_count": 29,
   "id": "1f308736",
   "metadata": {},
   "outputs": [
    {
     "data": {
      "text/plain": [
       "'75.0 Berkay'"
      ]
     },
     "execution_count": 29,
     "metadata": {},
     "output_type": "execute_result"
    }
   ],
   "source": [
    "x"
   ]
  },
  {
   "cell_type": "code",
   "execution_count": 30,
   "id": "e840e7a6",
   "metadata": {},
   "outputs": [],
   "source": [
    "# Öğrencinin adı ve soyadı alınacak\n",
    "# Vİze ve Final Notu hesaplama\n",
    "# Vizenin %20 alınsın Fİnalin %80\n",
    "# Kullanıcıdan Bir Ders için vize ve Final Notu alınıp\n",
    "# Sonucu ekrana ad soyad ve not ortalaması yazdırılacak"
   ]
  },
  {
   "cell_type": "code",
   "execution_count": 65,
   "id": "991b94bf",
   "metadata": {},
   "outputs": [
    {
     "name": "stdout",
     "output_type": "stream",
     "text": [
      "İsminiz: Gül\n",
      "Soyisminiz: İlhan\n",
      "Vize Notunuz: 80\n",
      "Final Notunuz: 30\n"
     ]
    }
   ],
   "source": [
    "isim=str(input(\"İsminiz: \"))\n",
    "soyisim=str(input(\"Soyisminiz: \"))\n",
    "vize=int(input(\"Vize Notunuz: \"))\n",
    "final=int(input(\"Final Notunuz: \"))"
   ]
  },
  {
   "cell_type": "code",
   "execution_count": 66,
   "id": "f5b37e7a",
   "metadata": {},
   "outputs": [
    {
     "name": "stdout",
     "output_type": "stream",
     "text": [
      "Gül İlhan 20\n"
     ]
    }
   ],
   "source": [
    "print(isim+\" \"+soyisim+\" \"+str(((vize*20)//100+(final*80)//100)//2))"
   ]
  }
 ],
 "metadata": {
  "kernelspec": {
   "display_name": "Python 3 (ipykernel)",
   "language": "python",
   "name": "python3"
  },
  "language_info": {
   "codemirror_mode": {
    "name": "ipython",
    "version": 3
   },
   "file_extension": ".py",
   "mimetype": "text/x-python",
   "name": "python",
   "nbconvert_exporter": "python",
   "pygments_lexer": "ipython3",
   "version": "3.9.12"
  }
 },
 "nbformat": 4,
 "nbformat_minor": 5
}
