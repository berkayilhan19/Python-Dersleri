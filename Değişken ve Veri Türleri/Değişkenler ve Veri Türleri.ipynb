{
 "cells": [
  {
   "cell_type": "code",
   "execution_count": 5,
   "id": "7f4fc8af",
   "metadata": {},
   "outputs": [],
   "source": [
    "ifade1=\"Hava güzel \"\n",
    "ifade=\"ve güneşli\""
   ]
  },
  {
   "cell_type": "code",
   "execution_count": 10,
   "id": "b5b5c845",
   "metadata": {},
   "outputs": [
    {
     "name": "stdout",
     "output_type": "stream",
     "text": [
      "Hava güzel ve güneşli\n"
     ]
    }
   ],
   "source": [
    "print(ifade1+ifade)"
   ]
  },
  {
   "cell_type": "code",
   "execution_count": 19,
   "id": "5cf6beda",
   "metadata": {},
   "outputs": [],
   "source": [
    "degisken1=\"Python dersleri\"\n",
    "degisken2=\"bölüm 1\"\n",
    "sayiDegisken=45\n",
    "digerSayi=64\n",
    "boyunu=180.4\n",
    "\n"
   ]
  },
  {
   "cell_type": "code",
   "execution_count": 20,
   "id": "9c90b3de",
   "metadata": {},
   "outputs": [
    {
     "name": "stdout",
     "output_type": "stream",
     "text": [
      "Python dersleri bölüm 1\n"
     ]
    }
   ],
   "source": [
    "print(degisken1+\" \"+degisken2)"
   ]
  },
  {
   "cell_type": "code",
   "execution_count": null,
   "id": "5de54ca7",
   "metadata": {},
   "outputs": [],
   "source": []
  },
  {
   "cell_type": "code",
   "execution_count": 21,
   "id": "16eee7c3",
   "metadata": {},
   "outputs": [
    {
     "name": "stdout",
     "output_type": "stream",
     "text": [
      "Toplam: 109\n"
     ]
    }
   ],
   "source": [
    "print(\"Toplam:\",sayiDegisken+digerSayi)"
   ]
  },
  {
   "cell_type": "code",
   "execution_count": 24,
   "id": "422118e1",
   "metadata": {},
   "outputs": [
    {
     "name": "stdout",
     "output_type": "stream",
     "text": [
      "Adınızı girinizaa\n",
      "Soyadınızı girinizss\n",
      "İsminiz aa ss\n"
     ]
    }
   ],
   "source": [
    "ad=input(\"Adınızı giriniz\")\n",
    "soyad=input(\"Soyadınızı giriniz\")\n",
    "print(\"İsminiz\", ad+\" \"+soyad)"
   ]
  },
  {
   "cell_type": "code",
   "execution_count": 29,
   "id": "33952a0b",
   "metadata": {},
   "outputs": [
    {
     "name": "stdout",
     "output_type": "stream",
     "text": [
      "İlk Renkmavi\n",
      "İkinci Renksarı\n",
      "Aklından sayi tut12\n",
      "Renk mavi sarı 12\n"
     ]
    }
   ],
   "source": [
    "renk1=input(\"İlk Renk\")\n",
    "#renk1=\"turuncu\"\n",
    "renk2=input(\"İkinci Renk\")\n",
    "tutulanSayi=input(\"Aklından sayi tut\")\n",
    "print(\"Renk\", renk1+\" \"+renk2+ \" \"+tutulanSayi)"
   ]
  },
  {
   "cell_type": "code",
   "execution_count": 30,
   "id": "330ca031",
   "metadata": {},
   "outputs": [],
   "source": [
    "sonuc=renk2+ \" \"+ renk1"
   ]
  },
  {
   "cell_type": "code",
   "execution_count": 31,
   "id": "cbe94edd",
   "metadata": {},
   "outputs": [
    {
     "name": "stdout",
     "output_type": "stream",
     "text": [
      "sarı mavi\n"
     ]
    }
   ],
   "source": [
    "print(sonuc)"
   ]
  },
  {
   "cell_type": "code",
   "execution_count": 47,
   "id": "d9570a4c",
   "metadata": {},
   "outputs": [],
   "source": [
    "sayi1=1\n",
    "sayi2=5\n",
    "sayi3=23.5\n",
    "bilgi=\"sonuçlar\""
   ]
  },
  {
   "cell_type": "code",
   "execution_count": 51,
   "id": "ed8a4741",
   "metadata": {},
   "outputs": [
    {
     "name": "stdout",
     "output_type": "stream",
     "text": [
      "118.5\n"
     ]
    }
   ],
   "source": [
    "print(sayi1+sayi2*sayi3)"
   ]
  },
  {
   "cell_type": "code",
   "execution_count": 53,
   "id": "da9bf8bf",
   "metadata": {},
   "outputs": [
    {
     "name": "stdout",
     "output_type": "stream",
     "text": [
      "Buyunuz183\n",
      "Kilonuz90\n"
     ]
    }
   ],
   "source": [
    "boy1=input(\"Buyunuz\")\n",
    "kilo=input(\"Kilonuz\")\n"
   ]
  },
  {
   "cell_type": "code",
   "execution_count": 55,
   "id": "d30ee210",
   "metadata": {},
   "outputs": [
    {
     "name": "stdout",
     "output_type": "stream",
     "text": [
      "183\n"
     ]
    }
   ],
   "source": [
    "print(boy1)"
   ]
  },
  {
   "cell_type": "code",
   "execution_count": 56,
   "id": "9fd63636",
   "metadata": {},
   "outputs": [
    {
     "name": "stdout",
     "output_type": "stream",
     "text": [
      "90\n"
     ]
    }
   ],
   "source": [
    "print(kilo)"
   ]
  },
  {
   "cell_type": "code",
   "execution_count": 59,
   "id": "b98d3a8d",
   "metadata": {},
   "outputs": [
    {
     "name": "stdout",
     "output_type": "stream",
     "text": [
      "Boyunuz:  183 Kilonuz:90\n"
     ]
    }
   ],
   "source": [
    "print(\"Boyunuz: \",boy1+\" \"+\"Kilonuz:\"+ kilo)"
   ]
  },
  {
   "cell_type": "code",
   "execution_count": 60,
   "id": "bf190264",
   "metadata": {},
   "outputs": [
    {
     "name": "stdout",
     "output_type": "stream",
     "text": [
      "Portakal\n",
      "Muz\n",
      "Kiraz\n"
     ]
    }
   ],
   "source": [
    "x, y, z = \"Portakal\", \"Muz\", \"Kiraz\"\n",
    "print(x)\n",
    "print(y)\n",
    "print(z)"
   ]
  },
  {
   "cell_type": "code",
   "execution_count": 61,
   "id": "09e62239",
   "metadata": {},
   "outputs": [
    {
     "name": "stdout",
     "output_type": "stream",
     "text": [
      "Deneme\n",
      "Deneme\n",
      "Deneme\n"
     ]
    }
   ],
   "source": [
    "x=y=z=\"Deneme\"\n",
    "print(x)\n",
    "print(y)\n",
    "print(z)"
   ]
  },
  {
   "cell_type": "code",
   "execution_count": 62,
   "id": "59c1d06d",
   "metadata": {},
   "outputs": [],
   "source": [
    "#TÜr Dünüşüm İşlemleri"
   ]
  },
  {
   "cell_type": "markdown",
   "id": "08fac9b1",
   "metadata": {},
   "source": [
    "str\n",
    "int\n",
    "float"
   ]
  },
  {
   "cell_type": "code",
   "execution_count": 68,
   "id": "ea9da6c8",
   "metadata": {},
   "outputs": [
    {
     "name": "stdout",
     "output_type": "stream",
     "text": [
      "Lütfen yaşınızı giriniz: 45\n",
      "Ad Soyad Giriniz: test\n",
      "45test\n"
     ]
    }
   ],
   "source": [
    "yasDegiskeni= int(input(\"Lütfen yaşınızı giriniz: \"))\n",
    "adSoyad=input(\"Ad Soyad Giriniz: \")\n",
    "\n",
    "print(str(yasDegiskeni) + adSoyad)"
   ]
  },
  {
   "cell_type": "code",
   "execution_count": 80,
   "id": "3a279907",
   "metadata": {},
   "outputs": [
    {
     "name": "stdout",
     "output_type": "stream",
     "text": [
      "Birinci Ders Notu: 50\n",
      "İkinci Ders Notu: 60\n"
     ]
    }
   ],
   "source": [
    "dersNotu1=int(input(\"Birinci Ders Notu: \"))\n",
    "dersNotu2=int(input(\"İkinci Ders Notu: \"))\n",
    "\n"
   ]
  },
  {
   "cell_type": "code",
   "execution_count": 81,
   "id": "932a870a",
   "metadata": {},
   "outputs": [
    {
     "name": "stdout",
     "output_type": "stream",
     "text": [
      "Üçüncü Ders Notu: 70\n"
     ]
    }
   ],
   "source": [
    "dersNotu3=input(\"Üçüncü Ders Notu: \")"
   ]
  },
  {
   "cell_type": "code",
   "execution_count": 82,
   "id": "156fe3dc",
   "metadata": {},
   "outputs": [],
   "source": [
    "ortalama=(dersNotu1+dersNotu2+int(dersNotu3))/3"
   ]
  },
  {
   "cell_type": "code",
   "execution_count": 83,
   "id": "a4d00945",
   "metadata": {},
   "outputs": [
    {
     "name": "stdout",
     "output_type": "stream",
     "text": [
      "60.0\n"
     ]
    }
   ],
   "source": [
    "print(ortalama)  "
   ]
  },
  {
   "cell_type": "code",
   "execution_count": 84,
   "id": "a93963a1",
   "metadata": {},
   "outputs": [],
   "source": [
    "# Kullanıcıdan Ad Bilgisi\n",
    "# Boy Bilgisi alıncak\n",
    "# Boy bilgisinin yarını alınarak Ad bilgisi ile ekrana yazdırılacak"
   ]
  },
  {
   "cell_type": "code",
   "execution_count": null,
   "id": "76e90836",
   "metadata": {},
   "outputs": [],
   "source": [
    "#Algoritma Oluşturma\n",
    "x=Ad\n",
    "y=Boy\n",
    "yarısı=y/2\n",
    "t=x+str(yarısı)\n",
    "print(t)"
   ]
  },
  {
   "cell_type": "code",
   "execution_count": 85,
   "id": "ad7b8f03",
   "metadata": {},
   "outputs": [],
   "source": [
    "isim=\"Berkay\"\n",
    "boy=150"
   ]
  },
  {
   "cell_type": "code",
   "execution_count": 92,
   "id": "a9050968",
   "metadata": {},
   "outputs": [],
   "source": [
    "x=str(150/2)+\" \"+isim"
   ]
  },
  {
   "cell_type": "code",
   "execution_count": 93,
   "id": "345bfd7b",
   "metadata": {},
   "outputs": [
    {
     "data": {
      "text/plain": [
       "'75.0 Berkay'"
      ]
     },
     "execution_count": 93,
     "metadata": {},
     "output_type": "execute_result"
    }
   ],
   "source": [
    "x"
   ]
  },
  {
   "cell_type": "code",
   "execution_count": null,
   "id": "8bee6f72",
   "metadata": {},
   "outputs": [],
   "source": [
    "#Öğrencinin adı ve soyadı alınacak\n",
    "# Vİze ve Final Notu hesaplama\n",
    "# Vizenin %20 alınsın Fİnalin %80\n",
    "# Kullanıcıdan Bir Ders için vize ve Final Notu alınıp\n",
    "# Sonucu ekrana ad soyad ve not ortalaması yazdırılacak"
   ]
  }
 ],
 "metadata": {
  "kernelspec": {
   "display_name": "Python 3 (ipykernel)",
   "language": "python",
   "name": "python3"
  },
  "language_info": {
   "codemirror_mode": {
    "name": "ipython",
    "version": 3
   },
   "file_extension": ".py",
   "mimetype": "text/x-python",
   "name": "python",
   "nbconvert_exporter": "python",
   "pygments_lexer": "ipython3",
   "version": "3.9.12"
  }
 },
 "nbformat": 4,
 "nbformat_minor": 5
}
