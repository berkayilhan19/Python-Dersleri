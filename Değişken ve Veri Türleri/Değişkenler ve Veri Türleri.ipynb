{
 "cells": [
  {
   "cell_type": "code",
   "execution_count": 5,
   "id": "43bf3c7e",
   "metadata": {},
   "outputs": [],
   "source": [
    "ifade1=\"Hava güzel \"\n",
    "ifade=\"ve güneşli\""
   ]
  },
  {
   "cell_type": "code",
   "execution_count": 10,
   "id": "08b4e8cc",
   "metadata": {},
   "outputs": [
    {
     "name": "stdout",
     "output_type": "stream",
     "text": [
      "Hava güzel ve güneşli\n"
     ]
    }
   ],
   "source": [
    "print(ifade1+ifade)"
   ]
  },
  {
   "cell_type": "code",
   "execution_count": 19,
   "id": "32d07fbf",
   "metadata": {},
   "outputs": [],
   "source": [
    "degisken1=\"Python dersleri\"\n",
    "degisken2=\"bölüm 1\"\n",
    "sayiDegisken=45\n",
    "digerSayi=64\n",
    "boyunu=180.4\n",
    "\n"
   ]
  },
  {
   "cell_type": "code",
   "execution_count": 20,
   "id": "a4eeed43",
   "metadata": {},
   "outputs": [
    {
     "name": "stdout",
     "output_type": "stream",
     "text": [
      "Python dersleri bölüm 1\n"
     ]
    }
   ],
   "source": [
    "print(degisken1+\" \"+degisken2)"
   ]
  },
  {
   "cell_type": "code",
   "execution_count": null,
   "id": "e4ffc209",
   "metadata": {},
   "outputs": [],
   "source": []
  },
  {
   "cell_type": "code",
   "execution_count": 21,
   "id": "5453d2a6",
   "metadata": {},
   "outputs": [
    {
     "name": "stdout",
     "output_type": "stream",
     "text": [
      "Toplam: 109\n"
     ]
    }
   ],
   "source": [
    "print(\"Toplam:\",sayiDegisken+digerSayi)"
   ]
  },
  {
   "cell_type": "code",
   "execution_count": 24,
   "id": "e056a25b",
   "metadata": {},
   "outputs": [
    {
     "name": "stdout",
     "output_type": "stream",
     "text": [
      "Adınızı girinizaa\n",
      "Soyadınızı girinizss\n",
      "İsminiz aa ss\n"
     ]
    }
   ],
   "source": [
    "ad=input(\"Adınızı giriniz\")\n",
    "soyad=input(\"Soyadınızı giriniz\")\n",
    "print(\"İsminiz\", ad+\" \"+soyad)"
   ]
  },
  {
   "cell_type": "code",
   "execution_count": 29,
   "id": "705d6baf",
   "metadata": {},
   "outputs": [
    {
     "name": "stdout",
     "output_type": "stream",
     "text": [
      "İlk Renkmavi\n",
      "İkinci Renksarı\n",
      "Aklından sayi tut12\n",
      "Renk mavi sarı 12\n"
     ]
    }
   ],
   "source": [
    "renk1=input(\"İlk Renk\")\n",
    "#renk1=\"turuncu\"\n",
    "renk2=input(\"İkinci Renk\")\n",
    "tutulanSayi=input(\"Aklından sayi tut\")\n",
    "print(\"Renk\", renk1+\" \"+renk2+ \" \"+tutulanSayi)"
   ]
  },
  {
   "cell_type": "code",
   "execution_count": 30,
   "id": "1ce86ac0",
   "metadata": {},
   "outputs": [],
   "source": [
    "sonuc=renk2+ \" \"+ renk1"
   ]
  },
  {
   "cell_type": "code",
   "execution_count": 31,
   "id": "ea376e98",
   "metadata": {},
   "outputs": [
    {
     "name": "stdout",
     "output_type": "stream",
     "text": [
      "sarı mavi\n"
     ]
    }
   ],
   "source": [
    "print(sonuc)"
   ]
  },
  {
   "cell_type": "code",
   "execution_count": 47,
   "id": "d925c6c3",
   "metadata": {},
   "outputs": [],
   "source": [
    "sayi1=1\n",
    "sayi2=5\n",
    "sayi3=23.5\n",
    "bilgi=\"sonuçlar\""
   ]
  },
  {
   "cell_type": "code",
   "execution_count": 51,
   "id": "c7718b57",
   "metadata": {},
   "outputs": [
    {
     "name": "stdout",
     "output_type": "stream",
     "text": [
      "118.5\n"
     ]
    }
   ],
   "source": [
    "print(sayi1+sayi2*sayi3)"
   ]
  },
  {
   "cell_type": "code",
   "execution_count": 53,
   "id": "fd96a026",
   "metadata": {},
   "outputs": [
    {
     "name": "stdout",
     "output_type": "stream",
     "text": [
      "Buyunuz183\n",
      "Kilonuz90\n"
     ]
    }
   ],
   "source": [
    "boy1=input(\"Buyunuz\")\n",
    "kilo=input(\"Kilonuz\")\n"
   ]
  },
  {
   "cell_type": "code",
   "execution_count": 55,
   "id": "21fae915",
   "metadata": {},
   "outputs": [
    {
     "name": "stdout",
     "output_type": "stream",
     "text": [
      "183\n"
     ]
    }
   ],
   "source": [
    "print(boy1)"
   ]
  },
  {
   "cell_type": "code",
   "execution_count": 56,
   "id": "9b9360e1",
   "metadata": {},
   "outputs": [
    {
     "name": "stdout",
     "output_type": "stream",
     "text": [
      "90\n"
     ]
    }
   ],
   "source": [
    "print(kilo)"
   ]
  },
  {
   "cell_type": "code",
   "execution_count": 59,
   "id": "e9b8261b",
   "metadata": {},
   "outputs": [
    {
     "name": "stdout",
     "output_type": "stream",
     "text": [
      "Boyunuz:  183 Kilonuz:90\n"
     ]
    }
   ],
   "source": [
    "print(\"Boyunuz: \",boy1+\" \"+\"Kilonuz:\"+ kilo)"
   ]
  },
  {
   "cell_type": "code",
   "execution_count": 60,
   "id": "3544e586",
   "metadata": {},
   "outputs": [
    {
     "name": "stdout",
     "output_type": "stream",
     "text": [
      "Portakal\n",
      "Muz\n",
      "Kiraz\n"
     ]
    }
   ],
   "source": [
    "x, y, z = \"Portakal\", \"Muz\", \"Kiraz\"\n",
    "print(x)\n",
    "print(y)\n",
    "print(z)"
   ]
  },
  {
   "cell_type": "code",
   "execution_count": 61,
   "id": "782ed2a1",
   "metadata": {},
   "outputs": [
    {
     "name": "stdout",
     "output_type": "stream",
     "text": [
      "Deneme\n",
      "Deneme\n",
      "Deneme\n"
     ]
    }
   ],
   "source": [
    "x=y=z=\"Deneme\"\n",
    "print(x)\n",
    "print(y)\n",
    "print(z)"
   ]
  },
  {
   "cell_type": "code",
   "execution_count": 62,
   "id": "d720f448",
   "metadata": {},
   "outputs": [],
   "source": [
    "#TÜr Dünüşüm İşlemleri"
   ]
  },
  {
   "cell_type": "markdown",
   "id": "9f0a3860",
   "metadata": {},
   "source": [
    "str\n",
    "int\n",
    "float"
   ]
  },
  {
   "cell_type": "code",
   "execution_count": 68,
   "id": "9dcf6cee",
   "metadata": {},
   "outputs": [
    {
     "name": "stdout",
     "output_type": "stream",
     "text": [
      "Lütfen yaşınızı giriniz: 45\n",
      "Ad Soyad Giriniz: test\n",
      "45test\n"
     ]
    }
   ],
   "source": [
    "yasDegiskeni= int(input(\"Lütfen yaşınızı giriniz: \"))\n",
    "adSoyad=input(\"Ad Soyad Giriniz: \")\n",
    "\n",
    "print(str(yasDegiskeni) + adSoyad)"
   ]
  },
  {
   "cell_type": "code",
   "execution_count": 80,
   "id": "9319631a",
   "metadata": {},
   "outputs": [
    {
     "name": "stdout",
     "output_type": "stream",
     "text": [
      "Birinci Ders Notu: 50\n",
      "İkinci Ders Notu: 60\n"
     ]
    }
   ],
   "source": [
    "dersNotu1=int(input(\"Birinci Ders Notu: \"))\n",
    "dersNotu2=int(input(\"İkinci Ders Notu: \"))\n",
    "\n"
   ]
  },
  {
   "cell_type": "code",
   "execution_count": 81,
   "id": "4de7bf4e",
   "metadata": {},
   "outputs": [
    {
     "name": "stdout",
     "output_type": "stream",
     "text": [
      "Üçüncü Ders Notu: 70\n"
     ]
    }
   ],
   "source": [
    "dersNotu3=input(\"Üçüncü Ders Notu: \")"
   ]
  },
  {
   "cell_type": "code",
   "execution_count": 82,
   "id": "73fe15b7",
   "metadata": {},
   "outputs": [],
   "source": [
    "ortalama=(dersNotu1+dersNotu2+int(dersNotu3))/3"
   ]
  },
  {
   "cell_type": "code",
   "execution_count": 83,
   "id": "1590e3cd",
   "metadata": {},
   "outputs": [
    {
     "name": "stdout",
     "output_type": "stream",
     "text": [
      "60.0\n"
     ]
    }
   ],
   "source": [
    "print(ortalama)  "
   ]
  },
  {
   "cell_type": "code",
   "execution_count": 84,
   "id": "00571e9d",
   "metadata": {},
   "outputs": [],
   "source": [
    "# Kullanıcıdan Ad Bilgisi\n",
    "# Boy Bilgisi alıncak\n",
    "# Boy bilgisinin yarını alınarak Ad bilgisi ile ekrana yazdırılacak"
   ]
  },
  {
   "cell_type": "code",
   "execution_count": null,
   "id": "044685a7",
   "metadata": {},
   "outputs": [],
   "source": [
    "#Algoritma Oluşturma\n",
    "x=Ad\n",
    "y=Boy\n",
    "yarısı=y/2\n",
    "t=x+str(yarısı)\n",
    "print(t)"
   ]
  },
  {
   "cell_type": "code",
   "execution_count": 85,
   "id": "38351e80",
   "metadata": {},
   "outputs": [],
   "source": [
    "isim=\"Berkay\"\n",
    "boy=150"
   ]
  },
  {
   "cell_type": "code",
   "execution_count": 92,
   "id": "07e5912f",
   "metadata": {},
   "outputs": [],
   "source": [
    "x=str(150/2)+\" \"+isim"
   ]
  },
  {
   "cell_type": "code",
   "execution_count": 93,
   "id": "57a58b8f",
   "metadata": {},
   "outputs": [
    {
     "data": {
      "text/plain": [
       "'75.0 Berkay'"
      ]
     },
     "execution_count": 93,
     "metadata": {},
     "output_type": "execute_result"
    }
   ],
   "source": [
    "x"
   ]
  },
  {
   "cell_type": "code",
   "execution_count": null,
   "id": "66b9e752",
   "metadata": {},
   "outputs": [],
   "source": [
    "#Öğrencinin adı ve soyadı alınacak\n",
    "# Vİze ve Final Notu hesaplama\n",
    "# Vizenin %20 alınsın Fİnalin %80\n",
    "# Kullanıcıdan Bir Ders için vize ve Final Notu alınıp\n",
    "# Sonucu ekrana ad soyad ve not ortalaması yazdırılacak"
   ]
  },
  {
   "cell_type": "code",
   "execution_count": 95,
   "id": "c769a00f",
   "metadata": {},
   "outputs": [],
   "source": [
    "test=0"
   ]
  },
  {
   "cell_type": "code",
   "execution_count": null,
   "id": "71da7073",
   "metadata": {},
   "outputs": [],
   "source": []
  }
 ],
 "metadata": {
  "kernelspec": {
   "display_name": "Python 3 (ipykernel)",
   "language": "python",
   "name": "python3"
  },
  "language_info": {
   "codemirror_mode": {
    "name": "ipython",
    "version": 3
   },
   "file_extension": ".py",
   "mimetype": "text/x-python",
   "name": "python",
   "nbconvert_exporter": "python",
   "pygments_lexer": "ipython3",
   "version": "3.9.12"
  }
 },
 "nbformat": 4,
 "nbformat_minor": 5
}
