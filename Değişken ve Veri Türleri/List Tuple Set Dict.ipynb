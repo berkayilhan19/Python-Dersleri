{
 "cells": [
  {
   "cell_type": "code",
   "execution_count": 1,
   "id": "376e9fc8",
   "metadata": {},
   "outputs": [],
   "source": [
    "x=[1,2,5,\"elma\",47]"
   ]
  },
  {
   "cell_type": "code",
   "execution_count": 2,
   "id": "463abf80",
   "metadata": {},
   "outputs": [
    {
     "data": {
      "text/plain": [
       "[1, 2, 5, 'elma', 47]"
      ]
     },
     "execution_count": 2,
     "metadata": {},
     "output_type": "execute_result"
    }
   ],
   "source": [
    "x"
   ]
  },
  {
   "cell_type": "code",
   "execution_count": 3,
   "id": "631b2d51",
   "metadata": {},
   "outputs": [
    {
     "data": {
      "text/plain": [
       "'elma'"
      ]
     },
     "execution_count": 3,
     "metadata": {},
     "output_type": "execute_result"
    }
   ],
   "source": [
    "x[3]"
   ]
  },
  {
   "cell_type": "code",
   "execution_count": 5,
   "id": "9655ff39",
   "metadata": {},
   "outputs": [],
   "source": [
    "listem=[\"elma\",\"armut\",\"kivi\",18,27,\"karpuz\"]"
   ]
  },
  {
   "cell_type": "code",
   "execution_count": 13,
   "id": "501c8cae",
   "metadata": {},
   "outputs": [
    {
     "name": "stdout",
     "output_type": "stream",
     "text": [
      "elma\n",
      "elma\n"
     ]
    }
   ],
   "source": [
    "print(listem[-6])\n",
    "print(listem[0])"
   ]
  },
  {
   "cell_type": "code",
   "execution_count": 14,
   "id": "fb8e43c8",
   "metadata": {},
   "outputs": [
    {
     "data": {
      "text/plain": [
       "['elma', 'armut', 'kivi']"
      ]
     },
     "execution_count": 14,
     "metadata": {},
     "output_type": "execute_result"
    }
   ],
   "source": [
    "listem[0:3]"
   ]
  },
  {
   "cell_type": "code",
   "execution_count": 17,
   "id": "963678cb",
   "metadata": {},
   "outputs": [
    {
     "data": {
      "text/plain": [
       "[18, 27]"
      ]
     },
     "execution_count": 17,
     "metadata": {},
     "output_type": "execute_result"
    }
   ],
   "source": [
    "listem[3:-1]"
   ]
  },
  {
   "cell_type": "code",
   "execution_count": 16,
   "id": "8e6450e5",
   "metadata": {},
   "outputs": [
    {
     "data": {
      "text/plain": [
       "27"
      ]
     },
     "execution_count": 16,
     "metadata": {},
     "output_type": "execute_result"
    }
   ],
   "source": [
    "listem[-2]"
   ]
  },
  {
   "cell_type": "code",
   "execution_count": 18,
   "id": "35797eaa",
   "metadata": {},
   "outputs": [],
   "source": [
    "listem[1]=25"
   ]
  },
  {
   "cell_type": "code",
   "execution_count": 19,
   "id": "4d6eca21",
   "metadata": {},
   "outputs": [
    {
     "data": {
      "text/plain": [
       "['elma', 25, 'kivi', 18, 27, 'karpuz']"
      ]
     },
     "execution_count": 19,
     "metadata": {},
     "output_type": "execute_result"
    }
   ],
   "source": [
    "listem"
   ]
  },
  {
   "cell_type": "code",
   "execution_count": 21,
   "id": "4b0e9a79",
   "metadata": {},
   "outputs": [
    {
     "name": "stdout",
     "output_type": "stream",
     "text": [
      "elma\n",
      "25\n",
      "kivi\n",
      "18\n",
      "27\n",
      "karpuz\n"
     ]
    }
   ],
   "source": [
    "for item in listem:\n",
    "    print(item)"
   ]
  },
  {
   "cell_type": "code",
   "execution_count": 23,
   "id": "41313973",
   "metadata": {},
   "outputs": [],
   "source": [
    "if \"kivis\" in listem:\n",
    "    print(\"listede var\")"
   ]
  },
  {
   "cell_type": "code",
   "execution_count": 24,
   "id": "f0f14de2",
   "metadata": {},
   "outputs": [],
   "source": [
    "# Bir dizenin kaç elemanlı olduğunu bulmak"
   ]
  },
  {
   "cell_type": "code",
   "execution_count": 27,
   "id": "62bcf2a5",
   "metadata": {},
   "outputs": [
    {
     "name": "stdout",
     "output_type": "stream",
     "text": [
      "6\n"
     ]
    }
   ],
   "source": [
    "print( len(listem))    # Eleman sayısını verir"
   ]
  },
  {
   "cell_type": "code",
   "execution_count": 28,
   "id": "58120a99",
   "metadata": {},
   "outputs": [],
   "source": [
    "# Length uzunluk"
   ]
  },
  {
   "cell_type": "code",
   "execution_count": 30,
   "id": "cc2b8d85",
   "metadata": {},
   "outputs": [
    {
     "name": "stdout",
     "output_type": "stream",
     "text": [
      "0\n",
      "1\n",
      "2\n",
      "3\n",
      "4\n",
      "5\n"
     ]
    }
   ],
   "source": [
    "for i in range(len(listem)):  \n",
    "    print(i)"
   ]
  },
  {
   "cell_type": "code",
   "execution_count": 31,
   "id": "73856739",
   "metadata": {},
   "outputs": [],
   "source": [
    "# Eleman Ekleme"
   ]
  },
  {
   "cell_type": "code",
   "execution_count": 32,
   "id": "ecfcd374",
   "metadata": {},
   "outputs": [],
   "source": [
    "listem.append(42.7) # append: listenin sonuna ekleme yapıyor."
   ]
  },
  {
   "cell_type": "code",
   "execution_count": 33,
   "id": "b1572e41",
   "metadata": {},
   "outputs": [
    {
     "data": {
      "text/plain": [
       "['elma', 25, 'kivi', 18, 27, 'karpuz', 42.7]"
      ]
     },
     "execution_count": 33,
     "metadata": {},
     "output_type": "execute_result"
    }
   ],
   "source": [
    "listem"
   ]
  },
  {
   "cell_type": "code",
   "execution_count": 34,
   "id": "d57c80a2",
   "metadata": {},
   "outputs": [],
   "source": [
    "listem.insert(3, \"armut\") # insert: vermiş olduğumuz elemandan sonra ekleme yapılıyor."
   ]
  },
  {
   "cell_type": "code",
   "execution_count": 35,
   "id": "8b188df6",
   "metadata": {},
   "outputs": [
    {
     "data": {
      "text/plain": [
       "['elma', 25, 'kivi', 'armut', 18, 27, 'karpuz', 42.7]"
      ]
     },
     "execution_count": 35,
     "metadata": {},
     "output_type": "execute_result"
    }
   ],
   "source": [
    "listem"
   ]
  },
  {
   "cell_type": "code",
   "execution_count": 37,
   "id": "d6cb21d8",
   "metadata": {},
   "outputs": [],
   "source": [
    "listem.insert(0, \"kiraz\")"
   ]
  },
  {
   "cell_type": "code",
   "execution_count": 38,
   "id": "ddcca5bd",
   "metadata": {},
   "outputs": [
    {
     "data": {
      "text/plain": [
       "['kiraz', 'elma', 25, 'kivi', 'armut', 18, 27, 'karpuz', 42.7]"
      ]
     },
     "execution_count": 38,
     "metadata": {},
     "output_type": "execute_result"
    }
   ],
   "source": [
    "listem"
   ]
  },
  {
   "cell_type": "code",
   "execution_count": 39,
   "id": "a0e02db2",
   "metadata": {},
   "outputs": [],
   "source": [
    "#Eleman Silme"
   ]
  },
  {
   "cell_type": "code",
   "execution_count": 40,
   "id": "97f4f61a",
   "metadata": {},
   "outputs": [],
   "source": [
    "listem.remove(42.7) #remove: belirmiş olduğumuz elemanı siliyoruz."
   ]
  },
  {
   "cell_type": "code",
   "execution_count": 41,
   "id": "d3bf5a64",
   "metadata": {},
   "outputs": [
    {
     "data": {
      "text/plain": [
       "['kiraz', 'elma', 25, 'kivi', 'armut', 18, 27, 'karpuz']"
      ]
     },
     "execution_count": 41,
     "metadata": {},
     "output_type": "execute_result"
    }
   ],
   "source": [
    "listem"
   ]
  },
  {
   "cell_type": "code",
   "execution_count": 42,
   "id": "591c1071",
   "metadata": {},
   "outputs": [
    {
     "data": {
      "text/plain": [
       "'karpuz'"
      ]
     },
     "execution_count": 42,
     "metadata": {},
     "output_type": "execute_result"
    }
   ],
   "source": [
    "listem.pop() #pop: listenin en sonundaki elemanı siliyor."
   ]
  },
  {
   "cell_type": "code",
   "execution_count": 43,
   "id": "6166c13e",
   "metadata": {},
   "outputs": [
    {
     "data": {
      "text/plain": [
       "['kiraz', 'elma', 25, 'kivi', 'armut', 18, 27]"
      ]
     },
     "execution_count": 43,
     "metadata": {},
     "output_type": "execute_result"
    }
   ],
   "source": [
    "listem"
   ]
  },
  {
   "cell_type": "code",
   "execution_count": 44,
   "id": "c23d54d8",
   "metadata": {},
   "outputs": [
    {
     "name": "stdout",
     "output_type": "stream",
     "text": [
      "['kiraz', 'elma', 'kivi', 'armut', 18, 27]\n"
     ]
    }
   ],
   "source": [
    "del listem[2]\n",
    "print(listem)"
   ]
  },
  {
   "cell_type": "code",
   "execution_count": 45,
   "id": "8caca5ac",
   "metadata": {},
   "outputs": [],
   "source": [
    "#Eleman kopyalama"
   ]
  },
  {
   "cell_type": "code",
   "execution_count": 46,
   "id": "e94d3b85",
   "metadata": {},
   "outputs": [],
   "source": [
    "yeniListe=listem.copy()"
   ]
  },
  {
   "cell_type": "code",
   "execution_count": 47,
   "id": "9da8fb54",
   "metadata": {},
   "outputs": [
    {
     "data": {
      "text/plain": [
       "['kiraz', 'elma', 'kivi', 'armut', 18, 27]"
      ]
     },
     "execution_count": 47,
     "metadata": {},
     "output_type": "execute_result"
    }
   ],
   "source": [
    "yeniListe"
   ]
  },
  {
   "cell_type": "code",
   "execution_count": 48,
   "id": "6953d290",
   "metadata": {},
   "outputs": [
    {
     "data": {
      "text/plain": [
       "27"
      ]
     },
     "execution_count": 48,
     "metadata": {},
     "output_type": "execute_result"
    }
   ],
   "source": [
    "yeniListe.pop()"
   ]
  },
  {
   "cell_type": "code",
   "execution_count": 51,
   "id": "75a64090",
   "metadata": {},
   "outputs": [],
   "source": [
    "birleşikListe=yeniListe+listem"
   ]
  },
  {
   "cell_type": "code",
   "execution_count": 52,
   "id": "fecab499",
   "metadata": {},
   "outputs": [
    {
     "data": {
      "text/plain": [
       "['kiraz',\n",
       " 'elma',\n",
       " 'kivi',\n",
       " 'armut',\n",
       " 18,\n",
       " 'kiraz',\n",
       " 'elma',\n",
       " 'kivi',\n",
       " 'armut',\n",
       " 18,\n",
       " 27]"
      ]
     },
     "execution_count": 52,
     "metadata": {},
     "output_type": "execute_result"
    }
   ],
   "source": [
    "birleşikListe"
   ]
  },
  {
   "cell_type": "code",
   "execution_count": 53,
   "id": "1f7fd228",
   "metadata": {},
   "outputs": [],
   "source": [
    "for i in listem:\n",
    "    birleşikListe.append(i)"
   ]
  },
  {
   "cell_type": "code",
   "execution_count": 55,
   "id": "2df41fd6",
   "metadata": {},
   "outputs": [
    {
     "data": {
      "text/plain": [
       "['kiraz',\n",
       " 'elma',\n",
       " 'kivi',\n",
       " 'armut',\n",
       " 18,\n",
       " 'kiraz',\n",
       " 'elma',\n",
       " 'kivi',\n",
       " 'armut',\n",
       " 18,\n",
       " 27,\n",
       " 'kiraz',\n",
       " 'elma',\n",
       " 'kivi',\n",
       " 'armut',\n",
       " 18,\n",
       " 27]"
      ]
     },
     "execution_count": 55,
     "metadata": {},
     "output_type": "execute_result"
    }
   ],
   "source": [
    "birleşikListe"
   ]
  },
  {
   "cell_type": "code",
   "execution_count": 61,
   "id": "f44a71a5",
   "metadata": {},
   "outputs": [
    {
     "data": {
      "text/plain": [
       "['kiraz', 'elma', 'kivi', 'armut', 18, 27]"
      ]
     },
     "execution_count": 61,
     "metadata": {},
     "output_type": "execute_result"
    }
   ],
   "source": [
    "listem"
   ]
  },
  {
   "cell_type": "code",
   "execution_count": 62,
   "id": "6237e763",
   "metadata": {},
   "outputs": [],
   "source": [
    "# Array dizi ye almak ['', 4, 5, '']\n",
    "# { } \n",
    "# \" \""
   ]
  },
  {
   "cell_type": "code",
   "execution_count": 63,
   "id": "7df80c67",
   "metadata": {},
   "outputs": [],
   "source": [
    "dList={\"kelime\",2,3}"
   ]
  },
  {
   "cell_type": "code",
   "execution_count": 64,
   "id": "8d6ef1c3",
   "metadata": {},
   "outputs": [
    {
     "data": {
      "text/plain": [
       "{2, 3, 'kelime'}"
      ]
     },
     "execution_count": 64,
     "metadata": {},
     "output_type": "execute_result"
    }
   ],
   "source": [
    "dList"
   ]
  },
  {
   "cell_type": "code",
   "execution_count": 65,
   "id": "dce9be33",
   "metadata": {},
   "outputs": [],
   "source": [
    "# TUPLE"
   ]
  },
  {
   "cell_type": "code",
   "execution_count": 72,
   "id": "04405dc6",
   "metadata": {},
   "outputs": [],
   "source": [
    "listTuple=(\"ağaç\",\"çiçek\",\"güneş\")"
   ]
  },
  {
   "cell_type": "code",
   "execution_count": 73,
   "id": "54a93392",
   "metadata": {},
   "outputs": [
    {
     "ename": "AttributeError",
     "evalue": "'tuple' object has no attribute 'append'",
     "output_type": "error",
     "traceback": [
      "\u001b[1;31m---------------------------------------------------------------------------\u001b[0m",
      "\u001b[1;31mAttributeError\u001b[0m                            Traceback (most recent call last)",
      "Input \u001b[1;32mIn [73]\u001b[0m, in \u001b[0;36m<cell line: 1>\u001b[1;34m()\u001b[0m\n\u001b[1;32m----> 1\u001b[0m \u001b[43mlistTuple\u001b[49m\u001b[38;5;241;43m.\u001b[39;49m\u001b[43mappend\u001b[49m(\u001b[38;5;124m\"\u001b[39m\u001b[38;5;124mgüneş\u001b[39m\u001b[38;5;124m\"\u001b[39m)\n",
      "\u001b[1;31mAttributeError\u001b[0m: 'tuple' object has no attribute 'append'"
     ]
    }
   ],
   "source": [
    "listTuple.append(\"güneş\")"
   ]
  },
  {
   "cell_type": "code",
   "execution_count": 74,
   "id": "8ec98a52",
   "metadata": {},
   "outputs": [
    {
     "data": {
      "text/plain": [
       "('ağaç', 'çiçek', 'güneş')"
      ]
     },
     "execution_count": 74,
     "metadata": {},
     "output_type": "execute_result"
    }
   ],
   "source": [
    "listTuple"
   ]
  },
  {
   "cell_type": "code",
   "execution_count": 75,
   "id": "983b6c78",
   "metadata": {},
   "outputs": [
    {
     "ename": "AttributeError",
     "evalue": "'tuple' object has no attribute 'pop'",
     "output_type": "error",
     "traceback": [
      "\u001b[1;31m---------------------------------------------------------------------------\u001b[0m",
      "\u001b[1;31mAttributeError\u001b[0m                            Traceback (most recent call last)",
      "Input \u001b[1;32mIn [75]\u001b[0m, in \u001b[0;36m<cell line: 1>\u001b[1;34m()\u001b[0m\n\u001b[1;32m----> 1\u001b[0m \u001b[43mlistTuple\u001b[49m\u001b[38;5;241;43m.\u001b[39;49m\u001b[43mpop\u001b[49m()\n",
      "\u001b[1;31mAttributeError\u001b[0m: 'tuple' object has no attribute 'pop'"
     ]
    }
   ],
   "source": [
    "listTuple.pop()"
   ]
  },
  {
   "cell_type": "code",
   "execution_count": 76,
   "id": "30ad60ae",
   "metadata": {},
   "outputs": [],
   "source": [
    "yeniTuple=list(listTuple) # Tuple ekleme veya silme yapmak istiyorsak önce list çeviriyoruz."
   ]
  },
  {
   "cell_type": "code",
   "execution_count": 77,
   "id": "22c36e3f",
   "metadata": {},
   "outputs": [
    {
     "data": {
      "text/plain": [
       "['ağaç', 'çiçek', 'güneş']"
      ]
     },
     "execution_count": 77,
     "metadata": {},
     "output_type": "execute_result"
    }
   ],
   "source": [
    "yeniTuple"
   ]
  },
  {
   "cell_type": "code",
   "execution_count": 79,
   "id": "17c57822",
   "metadata": {},
   "outputs": [],
   "source": [
    "yeniTuple.append(\"kuş\")"
   ]
  },
  {
   "cell_type": "code",
   "execution_count": 82,
   "id": "6af0ab25",
   "metadata": {},
   "outputs": [],
   "source": [
    "#kuş=\"Papağan\"\n",
    "yeniTuple.append(kuş)"
   ]
  },
  {
   "cell_type": "code",
   "execution_count": 83,
   "id": "b2e967a3",
   "metadata": {},
   "outputs": [
    {
     "data": {
      "text/plain": [
       "['ağaç', 'çiçek', 'güneş', 'kuş', 'Papağan', 'Papağan']"
      ]
     },
     "execution_count": 83,
     "metadata": {},
     "output_type": "execute_result"
    }
   ],
   "source": [
    "yeniTuple"
   ]
  },
  {
   "cell_type": "code",
   "execution_count": 85,
   "id": "c6663cc9",
   "metadata": {},
   "outputs": [
    {
     "name": "stdout",
     "output_type": "stream",
     "text": [
      "(1, 2, 'yıldız', 5, 'köpek', 19)\n"
     ]
    }
   ],
   "source": [
    "tuple1=(1,2,\"yıldız\")\n",
    "tuple2=(5,\"köpek\",19)\n",
    "toplamTuple=tuple1+tuple2\n",
    "print(toplamTuple)\n"
   ]
  },
  {
   "cell_type": "code",
   "execution_count": 86,
   "id": "e210cfbe",
   "metadata": {},
   "outputs": [],
   "source": [
    "# Set diziler"
   ]
  },
  {
   "cell_type": "code",
   "execution_count": 87,
   "id": "4e113a52",
   "metadata": {},
   "outputs": [],
   "source": [
    "setList={'ağaç', 'çiçek', 'güneş', 'kuş', 'Papağan', 'Papağan'}"
   ]
  },
  {
   "cell_type": "code",
   "execution_count": 88,
   "id": "78009f85",
   "metadata": {},
   "outputs": [
    {
     "data": {
      "text/plain": [
       "{'Papağan', 'ağaç', 'güneş', 'kuş', 'çiçek'}"
      ]
     },
     "execution_count": 88,
     "metadata": {},
     "output_type": "execute_result"
    }
   ],
   "source": [
    "setList"
   ]
  },
  {
   "cell_type": "code",
   "execution_count": 89,
   "id": "b56c4ab9",
   "metadata": {},
   "outputs": [
    {
     "ename": "TypeError",
     "evalue": "'set' object is not subscriptable",
     "output_type": "error",
     "traceback": [
      "\u001b[1;31m---------------------------------------------------------------------------\u001b[0m",
      "\u001b[1;31mTypeError\u001b[0m                                 Traceback (most recent call last)",
      "Input \u001b[1;32mIn [89]\u001b[0m, in \u001b[0;36m<cell line: 1>\u001b[1;34m()\u001b[0m\n\u001b[1;32m----> 1\u001b[0m \u001b[43msetList\u001b[49m\u001b[43m[\u001b[49m\u001b[38;5;241;43m0\u001b[39;49m\u001b[43m]\u001b[49m\n",
      "\u001b[1;31mTypeError\u001b[0m: 'set' object is not subscriptable"
     ]
    }
   ],
   "source": [
    "setList[0]"
   ]
  },
  {
   "cell_type": "code",
   "execution_count": 90,
   "id": "3331e24b",
   "metadata": {},
   "outputs": [
    {
     "data": {
      "text/plain": [
       "{'Papağan', 'ağaç', 'güneş', 'kuş', 'çiçek'}"
      ]
     },
     "execution_count": 90,
     "metadata": {},
     "output_type": "execute_result"
    }
   ],
   "source": [
    "setList"
   ]
  },
  {
   "cell_type": "code",
   "execution_count": 92,
   "id": "fd08d989",
   "metadata": {},
   "outputs": [
    {
     "name": "stdout",
     "output_type": "stream",
     "text": [
      "güneş\n",
      "çiçek\n",
      "ağaç\n",
      "kuş\n",
      "Papağan\n"
     ]
    }
   ],
   "source": [
    "for i in setList:\n",
    "    print(i)"
   ]
  },
  {
   "cell_type": "code",
   "execution_count": 93,
   "id": "8a70c3ea",
   "metadata": {},
   "outputs": [
    {
     "name": "stdout",
     "output_type": "stream",
     "text": [
      "True\n"
     ]
    }
   ],
   "source": [
    "print(\"ağaç\"in setList)"
   ]
  },
  {
   "cell_type": "code",
   "execution_count": 94,
   "id": "b4486766",
   "metadata": {},
   "outputs": [],
   "source": [
    "setList.add(\"araba\")"
   ]
  },
  {
   "cell_type": "code",
   "execution_count": 95,
   "id": "27d9704c",
   "metadata": {},
   "outputs": [],
   "source": [
    "opel=2020\n",
    "setList.add(opel)"
   ]
  },
  {
   "cell_type": "code",
   "execution_count": 96,
   "id": "a5e5dad0",
   "metadata": {},
   "outputs": [
    {
     "data": {
      "text/plain": [
       "{2020, 'Papağan', 'araba', 'ağaç', 'güneş', 'kuş', 'çiçek'}"
      ]
     },
     "execution_count": 96,
     "metadata": {},
     "output_type": "execute_result"
    }
   ],
   "source": [
    "setList"
   ]
  },
  {
   "cell_type": "code",
   "execution_count": 97,
   "id": "601bb224",
   "metadata": {},
   "outputs": [],
   "source": [
    "setList.update([\"teker\",50])"
   ]
  },
  {
   "cell_type": "code",
   "execution_count": 98,
   "id": "6e1ef9db",
   "metadata": {},
   "outputs": [
    {
     "data": {
      "text/plain": [
       "{2020, 50, 'Papağan', 'araba', 'ağaç', 'güneş', 'kuş', 'teker', 'çiçek'}"
      ]
     },
     "execution_count": 98,
     "metadata": {},
     "output_type": "execute_result"
    }
   ],
   "source": [
    "setList"
   ]
  },
  {
   "cell_type": "code",
   "execution_count": 99,
   "id": "10fd80a8",
   "metadata": {},
   "outputs": [
    {
     "data": {
      "text/plain": [
       "'güneş'"
      ]
     },
     "execution_count": 99,
     "metadata": {},
     "output_type": "execute_result"
    }
   ],
   "source": [
    "setList.pop() #set türü dizelerde pop kullanmıyoruz.çünkü hangisini sileceğini bilmiyoruz. o yüzden remove kullanıyoruz. "
   ]
  },
  {
   "cell_type": "code",
   "execution_count": 100,
   "id": "a8580d2a",
   "metadata": {},
   "outputs": [
    {
     "data": {
      "text/plain": [
       "{2020, 50, 'Papağan', 'araba', 'ağaç', 'kuş', 'teker', 'çiçek'}"
      ]
     },
     "execution_count": 100,
     "metadata": {},
     "output_type": "execute_result"
    }
   ],
   "source": [
    "setList"
   ]
  },
  {
   "cell_type": "code",
   "execution_count": 101,
   "id": "1a873474",
   "metadata": {},
   "outputs": [],
   "source": [
    "setList.remove(50)"
   ]
  },
  {
   "cell_type": "code",
   "execution_count": 102,
   "id": "cee6acc3",
   "metadata": {},
   "outputs": [
    {
     "data": {
      "text/plain": [
       "{2020, 'Papağan', 'araba', 'ağaç', 'kuş', 'teker', 'çiçek'}"
      ]
     },
     "execution_count": 102,
     "metadata": {},
     "output_type": "execute_result"
    }
   ],
   "source": [
    "setList"
   ]
  },
  {
   "cell_type": "code",
   "execution_count": 103,
   "id": "ff40b4dc",
   "metadata": {},
   "outputs": [
    {
     "ename": "KeyError",
     "evalue": "'çilek'",
     "output_type": "error",
     "traceback": [
      "\u001b[1;31m---------------------------------------------------------------------------\u001b[0m",
      "\u001b[1;31mKeyError\u001b[0m                                  Traceback (most recent call last)",
      "Input \u001b[1;32mIn [103]\u001b[0m, in \u001b[0;36m<cell line: 1>\u001b[1;34m()\u001b[0m\n\u001b[1;32m----> 1\u001b[0m \u001b[43msetList\u001b[49m\u001b[38;5;241;43m.\u001b[39;49m\u001b[43mremove\u001b[49m\u001b[43m(\u001b[49m\u001b[38;5;124;43m\"\u001b[39;49m\u001b[38;5;124;43mçilek\u001b[39;49m\u001b[38;5;124;43m\"\u001b[39;49m\u001b[43m)\u001b[49m\n",
      "\u001b[1;31mKeyError\u001b[0m: 'çilek'"
     ]
    }
   ],
   "source": [
    "setList.remove(\"çilek\")"
   ]
  },
  {
   "cell_type": "code",
   "execution_count": 106,
   "id": "ac60ab6e",
   "metadata": {},
   "outputs": [],
   "source": [
    "setList.discard(\"ağaç\") # discard: dizede var olanı siliyor. Olmayanı hata vermeden bırakıyor."
   ]
  },
  {
   "cell_type": "code",
   "execution_count": 107,
   "id": "afe3ddc0",
   "metadata": {},
   "outputs": [
    {
     "data": {
      "text/plain": [
       "{2020, 'Papağan', 'araba', 'kuş', 'teker', 'çiçek'}"
      ]
     },
     "execution_count": 107,
     "metadata": {},
     "output_type": "execute_result"
    }
   ],
   "source": [
    "setList"
   ]
  },
  {
   "cell_type": "code",
   "execution_count": 108,
   "id": "4b6cd4cf",
   "metadata": {},
   "outputs": [],
   "source": [
    "setList.clear() #clear: dizedeki bütün nesneleri siler."
   ]
  },
  {
   "cell_type": "code",
   "execution_count": 109,
   "id": "d75396bd",
   "metadata": {},
   "outputs": [
    {
     "name": "stdout",
     "output_type": "stream",
     "text": [
      "set()\n"
     ]
    }
   ],
   "source": [
    "print(setList)"
   ]
  },
  {
   "cell_type": "code",
   "execution_count": 110,
   "id": "babc6394",
   "metadata": {},
   "outputs": [],
   "source": [
    "del setList"
   ]
  },
  {
   "cell_type": "code",
   "execution_count": 111,
   "id": "f44fca31",
   "metadata": {},
   "outputs": [
    {
     "ename": "NameError",
     "evalue": "name 'setList' is not defined",
     "output_type": "error",
     "traceback": [
      "\u001b[1;31m---------------------------------------------------------------------------\u001b[0m",
      "\u001b[1;31mNameError\u001b[0m                                 Traceback (most recent call last)",
      "Input \u001b[1;32mIn [111]\u001b[0m, in \u001b[0;36m<cell line: 1>\u001b[1;34m()\u001b[0m\n\u001b[1;32m----> 1\u001b[0m \u001b[38;5;28mprint\u001b[39m(\u001b[43msetList\u001b[49m)\n",
      "\u001b[1;31mNameError\u001b[0m: name 'setList' is not defined"
     ]
    }
   ],
   "source": [
    "print(setList)"
   ]
  },
  {
   "cell_type": "code",
   "execution_count": 112,
   "id": "0bd316c9",
   "metadata": {},
   "outputs": [],
   "source": [
    "# Dictionary DICT ler"
   ]
  },
  {
   "cell_type": "code",
   "execution_count": 113,
   "id": "54997395",
   "metadata": {},
   "outputs": [
    {
     "name": "stdout",
     "output_type": "stream",
     "text": [
      "{'villa': 'Dublex', 'apt': 'konut', 'arsa': 'tarla'}\n"
     ]
    }
   ],
   "source": [
    "ornekDict={\n",
    "\n",
    "\"villa\":\"Dublex\",\n",
    "\"apt\":\"konut\",\n",
    "\"arsa\":\"tarla\"\n",
    "}\n",
    "\n",
    "print(ornekDict)"
   ]
  },
  {
   "cell_type": "code",
   "execution_count": 118,
   "id": "eb8d9c7b",
   "metadata": {},
   "outputs": [],
   "source": [
    "x=ornekDict[\"villa\"]"
   ]
  },
  {
   "cell_type": "code",
   "execution_count": 119,
   "id": "46c036b5",
   "metadata": {},
   "outputs": [
    {
     "data": {
      "text/plain": [
       "'Dublex'"
      ]
     },
     "execution_count": 119,
     "metadata": {},
     "output_type": "execute_result"
    }
   ],
   "source": [
    "x"
   ]
  },
  {
   "cell_type": "code",
   "execution_count": 120,
   "id": "aac0aaf1",
   "metadata": {},
   "outputs": [],
   "source": [
    "y=ornekDict.get(\"apt\")"
   ]
  },
  {
   "cell_type": "code",
   "execution_count": 121,
   "id": "c6ac0f2a",
   "metadata": {},
   "outputs": [
    {
     "data": {
      "text/plain": [
       "'konut'"
      ]
     },
     "execution_count": 121,
     "metadata": {},
     "output_type": "execute_result"
    }
   ],
   "source": [
    "y"
   ]
  },
  {
   "cell_type": "code",
   "execution_count": 123,
   "id": "c0c9d3c6",
   "metadata": {},
   "outputs": [],
   "source": [
    "ornekDict[\"arsa\"]=\"müstakil\""
   ]
  },
  {
   "cell_type": "code",
   "execution_count": 125,
   "id": "b9344dd5",
   "metadata": {},
   "outputs": [
    {
     "data": {
      "text/plain": [
       "{'villa': 'Dublex', 'apt': 'konut', 'arsa': 'müstakil'}"
      ]
     },
     "execution_count": 125,
     "metadata": {},
     "output_type": "execute_result"
    }
   ],
   "source": [
    "ornekDict"
   ]
  },
  {
   "cell_type": "code",
   "execution_count": 126,
   "id": "4f3105b5",
   "metadata": {},
   "outputs": [
    {
     "name": "stdout",
     "output_type": "stream",
     "text": [
      "villa\n",
      "apt\n",
      "arsa\n"
     ]
    }
   ],
   "source": [
    "for i in ornekDict:\n",
    "    print(i)"
   ]
  },
  {
   "cell_type": "code",
   "execution_count": 127,
   "id": "55ed27d5",
   "metadata": {},
   "outputs": [
    {
     "name": "stdout",
     "output_type": "stream",
     "text": [
      "Dublex\n",
      "konut\n",
      "müstakil\n"
     ]
    }
   ],
   "source": [
    "for i in ornekDict:\n",
    "    print(ornekDict[i])"
   ]
  },
  {
   "cell_type": "code",
   "execution_count": 128,
   "id": "ba120e1c",
   "metadata": {},
   "outputs": [],
   "source": [
    "ornekDict[\"bahçe\"]=\"Ağaç\""
   ]
  },
  {
   "cell_type": "code",
   "execution_count": 129,
   "id": "5016760f",
   "metadata": {},
   "outputs": [
    {
     "data": {
      "text/plain": [
       "{'villa': 'Dublex', 'apt': 'konut', 'arsa': 'müstakil', 'bahçe': 'Ağaç'}"
      ]
     },
     "execution_count": 129,
     "metadata": {},
     "output_type": "execute_result"
    }
   ],
   "source": [
    "ornekDict"
   ]
  },
  {
   "cell_type": "code",
   "execution_count": 133,
   "id": "84bf00b2",
   "metadata": {},
   "outputs": [
    {
     "data": {
      "text/plain": [
       "'Dublex'"
      ]
     },
     "execution_count": 133,
     "metadata": {},
     "output_type": "execute_result"
    }
   ],
   "source": [
    "ornekDict.pop(\"villa\")"
   ]
  },
  {
   "cell_type": "code",
   "execution_count": 134,
   "id": "9ddf42ab",
   "metadata": {},
   "outputs": [
    {
     "data": {
      "text/plain": [
       "{'apt': 'konut', 'arsa': 'müstakil', 'bahçe': 'Ağaç'}"
      ]
     },
     "execution_count": 134,
     "metadata": {},
     "output_type": "execute_result"
    }
   ],
   "source": [
    "ornekDict"
   ]
  },
  {
   "cell_type": "code",
   "execution_count": 137,
   "id": "d91d2d0d",
   "metadata": {},
   "outputs": [
    {
     "ename": "KeyError",
     "evalue": "'arsa'",
     "output_type": "error",
     "traceback": [
      "\u001b[1;31m---------------------------------------------------------------------------\u001b[0m",
      "\u001b[1;31mKeyError\u001b[0m                                  Traceback (most recent call last)",
      "Input \u001b[1;32mIn [137]\u001b[0m, in \u001b[0;36m<cell line: 1>\u001b[1;34m()\u001b[0m\n\u001b[1;32m----> 1\u001b[0m \u001b[38;5;28;01mdel\u001b[39;00m ornekDict[\u001b[38;5;124m\"\u001b[39m\u001b[38;5;124marsa\u001b[39m\u001b[38;5;124m\"\u001b[39m]\n\u001b[0;32m      2\u001b[0m ornekDict\n",
      "\u001b[1;31mKeyError\u001b[0m: 'arsa'"
     ]
    }
   ],
   "source": [
    "del ornekDict[\"arsa\"]"
   ]
  },
  {
   "cell_type": "code",
   "execution_count": 136,
   "id": "59ac1a6d",
   "metadata": {},
   "outputs": [
    {
     "data": {
      "text/plain": [
       "{'apt': 'konut', 'bahçe': 'Ağaç'}"
      ]
     },
     "execution_count": 136,
     "metadata": {},
     "output_type": "execute_result"
    }
   ],
   "source": [
    "ornekDict"
   ]
  },
  {
   "cell_type": "code",
   "execution_count": 138,
   "id": "dd533f8f",
   "metadata": {},
   "outputs": [
    {
     "data": {
      "text/plain": [
       "{}"
      ]
     },
     "execution_count": 138,
     "metadata": {},
     "output_type": "execute_result"
    }
   ],
   "source": [
    "ornekDict.clear()\n",
    "ornekDict"
   ]
  },
  {
   "cell_type": "code",
   "execution_count": 142,
   "id": "8e25fe58",
   "metadata": {},
   "outputs": [
    {
     "ename": "NameError",
     "evalue": "name 'ornekDict' is not defined",
     "output_type": "error",
     "traceback": [
      "\u001b[1;31m---------------------------------------------------------------------------\u001b[0m",
      "\u001b[1;31mNameError\u001b[0m                                 Traceback (most recent call last)",
      "Input \u001b[1;32mIn [142]\u001b[0m, in \u001b[0;36m<cell line: 1>\u001b[1;34m()\u001b[0m\n\u001b[1;32m----> 1\u001b[0m \u001b[38;5;28;01mdel\u001b[39;00m ornekDict\n\u001b[0;32m      2\u001b[0m \u001b[38;5;28mprint\u001b[39m(ornekDict)\n",
      "\u001b[1;31mNameError\u001b[0m: name 'ornekDict' is not defined"
     ]
    }
   ],
   "source": [
    "del ornekDict\n",
    "print(ornekDict)"
   ]
  },
  {
   "cell_type": "code",
   "execution_count": 145,
   "id": "56a51210",
   "metadata": {},
   "outputs": [
    {
     "name": "stdout",
     "output_type": "stream",
     "text": [
      "{'ali': {'Adi': 'Ali', 'Soyadi': 'Tunçn', 'Yaş': 25}, 'veli': {'Adi': 'Veli', 'Soyadi': 'Genç', 'Yaş': 32}, 'osman': {'Adi': 'Osman', 'Soyadi': 'Saat', 'Yaş': 44}}\n"
     ]
    }
   ],
   "source": [
    "person = {\n",
    "\"ali\": {\n",
    "\"Adi\": \"Ali\",\n",
    "\"Soyadi\": \"Tunçn\",\n",
    "    \"Yaş\":25\n",
    "},\n",
    "\"veli\": {\n",
    "\"Adi\": \"Veli\",\n",
    "\"Soyadi\": \"Genç\",\n",
    "    \"Yaş\":32\n",
    "}\n",
    ",\n",
    "\"osman\": {\n",
    "\"Adi\": \"Osman\",\n",
    "\"Soyadi\": \"Saat\",\n",
    "    \"Yaş\":44\n",
    "}\n",
    "}\n",
    "print(person)"
   ]
  },
  {
   "cell_type": "code",
   "execution_count": 148,
   "id": "3f1141d7",
   "metadata": {},
   "outputs": [
    {
     "name": "stdout",
     "output_type": "stream",
     "text": [
      "{'Adi': 'Ali', 'Soyadi': 'Tunçn', 'Yaş': 25}\n",
      "{'Adi': 'Veli', 'Soyadi': 'Genç', 'Yaş': 32}\n",
      "{'Adi': 'Osman', 'Soyadi': 'Saat', 'Yaş': 44}\n"
     ]
    }
   ],
   "source": [
    "for i in person:\n",
    "    print(person[i])"
   ]
  },
  {
   "cell_type": "code",
   "execution_count": 149,
   "id": "e198cb72",
   "metadata": {},
   "outputs": [
    {
     "data": {
      "text/plain": [
       "dict"
      ]
     },
     "execution_count": 149,
     "metadata": {},
     "output_type": "execute_result"
    }
   ],
   "source": [
    "type(person)"
   ]
  },
  {
   "cell_type": "code",
   "execution_count": 150,
   "id": "5eb148f9",
   "metadata": {},
   "outputs": [
    {
     "data": {
      "text/plain": [
       "int"
      ]
     },
     "execution_count": 150,
     "metadata": {},
     "output_type": "execute_result"
    }
   ],
   "source": [
    "x=67\n",
    "type(x)"
   ]
  },
  {
   "cell_type": "code",
   "execution_count": null,
   "id": "24723832",
   "metadata": {},
   "outputs": [],
   "source": []
  }
 ],
 "metadata": {
  "kernelspec": {
   "display_name": "Python 3 (ipykernel)",
   "language": "python",
   "name": "python3"
  },
  "language_info": {
   "codemirror_mode": {
    "name": "ipython",
    "version": 3
   },
   "file_extension": ".py",
   "mimetype": "text/x-python",
   "name": "python",
   "nbconvert_exporter": "python",
   "pygments_lexer": "ipython3",
   "version": "3.9.12"
  }
 },
 "nbformat": 4,
 "nbformat_minor": 5
}
