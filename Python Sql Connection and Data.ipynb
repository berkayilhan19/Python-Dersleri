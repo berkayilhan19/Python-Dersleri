{
 "cells": [
  {
   "cell_type": "code",
   "execution_count": 1,
   "id": "9167b6a7",
   "metadata": {},
   "outputs": [
    {
     "name": "stdout",
     "output_type": "stream",
     "text": [
      "3.9.12\n"
     ]
    }
   ],
   "source": [
    "from platform import python_version\n",
    "print(python_version())"
   ]
  },
  {
   "cell_type": "code",
   "execution_count": 2,
   "id": "5a18d66d",
   "metadata": {},
   "outputs": [],
   "source": [
    "#pip install SQLAlchemy\n"
   ]
  },
  {
   "cell_type": "code",
   "execution_count": 3,
   "id": "e572c45d",
   "metadata": {},
   "outputs": [],
   "source": [
    "#pip install SQLAlchemy==2.0.0"
   ]
  },
  {
   "cell_type": "code",
   "execution_count": 4,
   "id": "79717d75",
   "metadata": {},
   "outputs": [],
   "source": [
    "from sqlalchemy import create_engine\n",
    "import pandas as pd"
   ]
  },
  {
   "cell_type": "markdown",
   "id": "39ceaa56",
   "metadata": {},
   "source": [
    "# SQL BAĞLANTI CÜMLEM"
   ]
  },
  {
   "cell_type": "code",
   "execution_count": 26,
   "id": "bf298824",
   "metadata": {},
   "outputs": [
    {
     "name": "stdout",
     "output_type": "stream",
     "text": [
      "   Id      Ad\n",
      "0   1     Ali\n",
      "1   2  Mehmet\n",
      "2   3    Ayşe\n",
      "<class 'pandas.core.frame.DataFrame'>\n"
     ]
    }
   ],
   "source": [
    "import pandas as pd\n",
    "import pyodbc \n",
    "conn = pyodbc.connect('Driver={SQL Server};'\n",
    "                      'Server=DESKTOP-27PF8U6;'\n",
    "                      'Database=TestDb;'\n",
    "                      'Trusted_Connection=yes;')\n",
    "\n",
    "cursor = conn.cursor()\n",
    "\n",
    "sql_query = pd.read_sql_query('SELECT * FROM Deneme',conn)\n",
    "print(sql_query.head(3)) #prints just the top layer of rows to 5 or specified\n",
    "print(type(sql_query))"
   ]
  },
  {
   "cell_type": "code",
   "execution_count": 27,
   "id": "16af2729",
   "metadata": {},
   "outputs": [],
   "source": [
    "data=pd.DataFrame(sql_query)"
   ]
  },
  {
   "cell_type": "code",
   "execution_count": 28,
   "id": "7864b2cb",
   "metadata": {},
   "outputs": [
    {
     "data": {
      "text/html": [
       "<div>\n",
       "<style scoped>\n",
       "    .dataframe tbody tr th:only-of-type {\n",
       "        vertical-align: middle;\n",
       "    }\n",
       "\n",
       "    .dataframe tbody tr th {\n",
       "        vertical-align: top;\n",
       "    }\n",
       "\n",
       "    .dataframe thead th {\n",
       "        text-align: right;\n",
       "    }\n",
       "</style>\n",
       "<table border=\"1\" class=\"dataframe\">\n",
       "  <thead>\n",
       "    <tr style=\"text-align: right;\">\n",
       "      <th></th>\n",
       "      <th>Id</th>\n",
       "      <th>Ad</th>\n",
       "    </tr>\n",
       "  </thead>\n",
       "  <tbody>\n",
       "    <tr>\n",
       "      <th>0</th>\n",
       "      <td>1</td>\n",
       "      <td>Ali</td>\n",
       "    </tr>\n",
       "    <tr>\n",
       "      <th>1</th>\n",
       "      <td>2</td>\n",
       "      <td>Mehmet</td>\n",
       "    </tr>\n",
       "    <tr>\n",
       "      <th>2</th>\n",
       "      <td>3</td>\n",
       "      <td>Ayşe</td>\n",
       "    </tr>\n",
       "    <tr>\n",
       "      <th>3</th>\n",
       "      <td>4</td>\n",
       "      <td>Fatma</td>\n",
       "    </tr>\n",
       "    <tr>\n",
       "      <th>4</th>\n",
       "      <td>5</td>\n",
       "      <td>Test</td>\n",
       "    </tr>\n",
       "  </tbody>\n",
       "</table>\n",
       "</div>"
      ],
      "text/plain": [
       "   Id      Ad\n",
       "0   1     Ali\n",
       "1   2  Mehmet\n",
       "2   3    Ayşe\n",
       "3   4   Fatma\n",
       "4   5    Test"
      ]
     },
     "execution_count": 28,
     "metadata": {},
     "output_type": "execute_result"
    }
   ],
   "source": [
    "data"
   ]
  },
  {
   "cell_type": "code",
   "execution_count": null,
   "id": "1916c77c",
   "metadata": {},
   "outputs": [],
   "source": []
  }
 ],
 "metadata": {
  "kernelspec": {
   "display_name": "Python 3 (ipykernel)",
   "language": "python",
   "name": "python3"
  },
  "language_info": {
   "codemirror_mode": {
    "name": "ipython",
    "version": 3
   },
   "file_extension": ".py",
   "mimetype": "text/x-python",
   "name": "python",
   "nbconvert_exporter": "python",
   "pygments_lexer": "ipython3",
   "version": "3.9.12"
  }
 },
 "nbformat": 4,
 "nbformat_minor": 5
}
